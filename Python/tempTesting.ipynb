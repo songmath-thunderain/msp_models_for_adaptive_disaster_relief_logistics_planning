{
 "cells": [
  {
   "cell_type": "code",
   "execution_count": 5,
   "id": "8c7e3274",
   "metadata": {},
   "outputs": [],
   "source": [
    "from dataInput import *\n",
    "from CV import *\n",
    "from FA import *\n",
    "import numpy as np\n",
    "import pandas as pd"
   ]
  },
  {
   "cell_type": "code",
   "execution_count": 2,
   "id": "09a8ce6a",
   "metadata": {},
   "outputs": [],
   "source": [
    "inputParams = inputParams(1,1,57,1000);"
   ]
  },
  {
   "cell_type": "code",
   "execution_count": 3,
   "id": "7f5c3047",
   "metadata": {},
   "outputs": [],
   "source": [
    "intensityFile = 'data/synthetic/intensity.csv';\n",
    "locationFile = 'data/synthetic/location.csv';\n",
    "landfallFile = 'data/synthetic/landfall_7.csv';"
   ]
  },
  {
   "cell_type": "code",
   "execution_count": 4,
   "id": "fd6a6a3f",
   "metadata": {},
   "outputs": [
    {
     "name": "stdout",
     "output_type": "stream",
     "text": [
      "nodeLists =  [[56], [1, 2, 3, 8, 9, 10, 15, 16, 17, 22, 23, 24, 29, 30, 31, 36, 37, 38, 43, 44, 45, 50, 51, 52, 57, 58, 59, 64, 65, 66, 71, 72, 73, 78, 79, 80, 85, 86, 87, 92, 93, 94, 99, 100, 101, 106, 107, 108, 113, 114, 115, 120, 121, 122, 127, 128, 129, 134, 135, 136, 141, 142, 143], [2, 3, 4, 5, 6, 9, 10, 11, 12, 13, 16, 17, 18, 19, 20, 23, 24, 25, 26, 27, 30, 31, 32, 33, 34, 37, 38, 39, 40, 41, 44, 45, 46, 47, 48, 51, 52, 53, 54, 55, 58, 59, 60, 61, 62, 65, 66, 67, 68, 69, 72, 73, 74, 75, 76, 79, 80, 81, 82, 83, 86, 87, 88, 89, 90, 93, 94, 95, 96, 97, 100, 101, 102, 103, 104, 107, 108, 109, 110, 111, 114, 115, 116, 117, 118, 121, 122, 123, 124, 125, 128, 129, 130, 131, 132, 135, 136, 137, 138, 139, 142, 143, 144, 145, 146, 149, 150, 151, 152, 153, 156, 157, 158, 159, 160, 163, 164, 165, 166, 167, 170, 171, 172, 173, 174, 177, 178, 179, 180, 181, 184, 185, 186, 187, 188, 191, 192, 193, 194, 195], [3, 4, 5, 6, 10, 11, 12, 13, 17, 18, 19, 20, 24, 25, 26, 27, 31, 32, 33, 34, 38, 39, 40, 41, 45, 46, 47, 48, 52, 53, 54, 55, 59, 60, 61, 62, 66, 67, 68, 69, 73, 74, 75, 76, 80, 81, 82, 83, 87, 88, 89, 90, 94, 95, 96, 97, 101, 102, 103, 104, 108, 109, 110, 111, 115, 116, 117, 118, 122, 123, 124, 125, 129, 130, 131, 132, 136, 137, 138, 139, 143, 144, 145, 146, 150, 151, 152, 153, 157, 158, 159, 160, 164, 165, 166, 167, 171, 172, 173, 174, 178, 179, 180, 181, 185, 186, 187, 188, 192, 193, 194, 195, 199, 200, 201, 202, 206, 207, 208, 209, 213, 214, 215, 216, 220, 221, 222, 223, 227, 228, 229, 230, 234, 235, 236, 237, 241, 242, 243, 244], [4, 5, 6, 11, 12, 13, 18, 19, 20, 25, 26, 27, 32, 33, 34, 39, 40, 41, 46, 47, 48, 53, 54, 55, 60, 61, 62, 67, 68, 69, 74, 75, 76, 81, 82, 83, 88, 89, 90, 95, 96, 97, 102, 103, 104, 109, 110, 111, 116, 117, 118, 123, 124, 125, 130, 131, 132, 137, 138, 139, 144, 145, 146, 151, 152, 153, 158, 159, 160, 165, 166, 167, 172, 173, 174, 179, 180, 181, 186, 187, 188, 193, 194, 195, 200, 201, 202, 207, 208, 209, 214, 215, 216, 221, 222, 223, 228, 229, 230, 235, 236, 237, 242, 243, 244, 249, 250, 251, 256, 257, 258, 263, 264, 265, 270, 271, 272, 277, 278, 279, 284, 285, 286, 291, 292, 293], [5, 6, 12, 13, 19, 20, 26, 27, 33, 34, 40, 41, 47, 48, 54, 55, 61, 62, 68, 69, 75, 76, 82, 83, 89, 90, 96, 97, 103, 104, 110, 111, 117, 118, 124, 125, 131, 132, 138, 139, 145, 146, 152, 153, 159, 160, 166, 167, 173, 174, 180, 181, 187, 188, 194, 195, 201, 202, 208, 209, 215, 216, 222, 223, 229, 230, 236, 237, 243, 244, 250, 251, 257, 258, 264, 265, 271, 272, 278, 279, 285, 286, 292, 293], [6, 13, 20, 27, 34, 41, 48, 55, 62, 69, 76, 83, 90, 97, 104, 111, 118, 125, 132, 139, 146, 153, 160, 167, 174, 181, 188, 195, 202, 209, 216, 223, 230, 237, 244, 251, 258, 265, 272, 279, 286, 293]]\n"
     ]
    }
   ],
   "source": [
    "hurricaneDataSet = hurricaneInput(intensityFile, locationFile, landfallFile, inputParams)"
   ]
  },
  {
   "cell_type": "code",
   "execution_count": null,
   "id": "c9a4b03d",
   "metadata": {},
   "outputs": [],
   "source": [
    "netNodesFile = 'data/synthetic/nodes.csv';\n",
    "netParamsFile = 'data/synthetic/netParams.csv';\n",
    "networkDataSet = networkInput(3,30,0.05,netNodesFile,netParamsFile,hurricaneDataSet)"
   ]
  },
  {
   "cell_type": "code",
   "execution_count": null,
   "id": "40215b6b",
   "metadata": {},
   "outputs": [],
   "source": [
    "osfname = f\"data/synthetic/OOS57.csv\"\n",
    "OS_paths = pd.read_csv(osfname).values  # Read the out-of-sample file"
   ]
  },
  {
   "cell_type": "code",
   "execution_count": null,
   "id": "2867a3c9",
   "metadata": {},
   "outputs": [],
   "source": [
    "results = clairvoyant_eval(networkDataSet,hurricaneDataSet,inputParams)"
   ]
  },
  {
   "cell_type": "code",
   "execution_count": null,
   "id": "2d8ab543",
   "metadata": {},
   "outputs": [],
   "source": []
  }
 ],
 "metadata": {
  "kernelspec": {
   "display_name": "Python 3",
   "language": "python",
   "name": "python3"
  },
  "language_info": {
   "codemirror_mode": {
    "name": "ipython",
    "version": 3
   },
   "file_extension": ".py",
   "mimetype": "text/x-python",
   "name": "python",
   "nbconvert_exporter": "python",
   "pygments_lexer": "ipython3",
   "version": "3.8.8"
  }
 },
 "nbformat": 4,
 "nbformat_minor": 5
}
