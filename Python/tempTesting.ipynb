{
 "cells": [
  {
   "cell_type": "code",
   "execution_count": 1,
   "id": "8c7e3274",
   "metadata": {},
   "outputs": [],
   "source": [
    "from dataInput import *\n",
    "from CV import *\n",
    "from FA import *\n",
    "import numpy as np\n",
    "import pandas as pd"
   ]
  },
  {
   "cell_type": "code",
   "execution_count": 2,
   "id": "09a8ce6a",
   "metadata": {},
   "outputs": [],
   "source": [
    "inputParams = inputParams(1,1,57,1000);"
   ]
  },
  {
   "cell_type": "code",
   "execution_count": 3,
   "id": "7f5c3047",
   "metadata": {},
   "outputs": [],
   "source": [
    "intensityFile = 'data/synthetic/intensity.csv';\n",
    "locationFile = 'data/synthetic/location.csv';\n",
    "landfallFile = 'data/synthetic/landfall_7.csv';"
   ]
  },
  {
   "cell_type": "code",
   "execution_count": 4,
   "id": "fd6a6a3f",
   "metadata": {},
   "outputs": [],
   "source": [
    "hurricaneDataSet = hurricaneInput(intensityFile, locationFile, landfallFile, inputParams)"
   ]
  },
  {
   "cell_type": "code",
   "execution_count": 5,
   "id": "c9a4b03d",
   "metadata": {},
   "outputs": [],
   "source": [
    "netNodesFile = 'data/synthetic/nodes.csv';\n",
    "netParamsFile = 'data/synthetic/netParams.csv';\n",
    "networkDataSet = networkInput(3,10,0.05,netNodesFile,netParamsFile,hurricaneDataSet)"
   ]
  },
  {
   "cell_type": "code",
   "execution_count": 6,
   "id": "40215b6b",
   "metadata": {},
   "outputs": [],
   "source": [
    "osfname = f\"data/synthetic/OOS57.csv\"\n",
    "OS_paths = pd.read_csv(osfname).values  # Read the out-of-sample file"
   ]
  },
  {
   "cell_type": "code",
   "execution_count": 7,
   "id": "2867a3c9",
   "metadata": {},
   "outputs": [
    {
     "name": "stdout",
     "output_type": "stream",
     "text": [
      "Set parameter Username\n",
      "Academic license - for non-commercial use only - expires 2024-07-30\n",
      "Clairvoyant....\n",
      "μ ± 1.96*σ/√NS = 652.9034492891506 ± [578.1041948945076, 727.7027036837935]\n"
     ]
    }
   ],
   "source": [
    "results = clairvoyant_eval(networkDataSet,hurricaneDataSet,inputParams)"
   ]
  },
  {
   "cell_type": "code",
   "execution_count": 8,
   "id": "2d8ab543",
   "metadata": {},
   "outputs": [],
   "source": [
    "m, x, f, y, z, v, theta, dCons, FB1Cons, FB2Cons = define_models(networkDataSet,hurricaneDataSet,inputParams)"
   ]
  },
  {
   "cell_type": "code",
   "execution_count": 9,
   "id": "72deb1f6",
   "metadata": {},
   "outputs": [
    {
     "ename": "AttributeError",
     "evalue": "'int' object has no attribute 'x'",
     "output_type": "error",
     "traceback": [
      "\u001b[0;31m---------------------------------------------------------------------------\u001b[0m",
      "\u001b[0;31mAttributeError\u001b[0m                            Traceback (most recent call last)",
      "\u001b[0;32m<ipython-input-9-29777842ae57>\u001b[0m in \u001b[0;36m<module>\u001b[0;34m\u001b[0m\n\u001b[0;32m----> 1\u001b[0;31m \u001b[0mLB\u001b[0m\u001b[0;34m,\u001b[0m \u001b[0mtrain_time\u001b[0m\u001b[0;34m,\u001b[0m \u001b[0miter\u001b[0m \u001b[0;34m=\u001b[0m \u001b[0mtrain_models_offline\u001b[0m\u001b[0;34m(\u001b[0m\u001b[0mnetworkDataSet\u001b[0m\u001b[0;34m,\u001b[0m\u001b[0mhurricaneDataSet\u001b[0m\u001b[0;34m,\u001b[0m\u001b[0minputParams\u001b[0m\u001b[0;34m,\u001b[0m\u001b[0msolveParams\u001b[0m\u001b[0;34m,\u001b[0m \u001b[0mm\u001b[0m\u001b[0;34m,\u001b[0m \u001b[0mx\u001b[0m\u001b[0;34m,\u001b[0m \u001b[0mtheta\u001b[0m\u001b[0;34m,\u001b[0m \u001b[0mFB1Cons\u001b[0m\u001b[0;34m,\u001b[0m \u001b[0mFB2Cons\u001b[0m\u001b[0;34m)\u001b[0m\u001b[0;34m\u001b[0m\u001b[0;34m\u001b[0m\u001b[0m\n\u001b[0m",
      "\u001b[0;32m~/Documents/GitHub/msp_models_for_adaptive_disaster_relief_logistics_planning/Python/FA.py\u001b[0m in \u001b[0;36mtrain_models_offline\u001b[0;34m(networkDataSet, hurricaneDataSet, inputParams, solveParams, m, x, theta, FB1Cons, FB2Cons)\u001b[0m\n\u001b[1;32m    255\u001b[0m         \u001b[0miter\u001b[0m \u001b[0;34m+=\u001b[0m \u001b[0;36m1\u001b[0m\u001b[0;34m\u001b[0m\u001b[0;34m\u001b[0m\u001b[0m\n\u001b[1;32m    256\u001b[0m         \u001b[0;31m# Forward pass\u001b[0m\u001b[0;34m\u001b[0m\u001b[0;34m\u001b[0m\u001b[0;34m\u001b[0m\u001b[0m\n\u001b[0;32m--> 257\u001b[0;31m         \u001b[0mxval\u001b[0m\u001b[0;34m,\u001b[0m \u001b[0mthetaval\u001b[0m\u001b[0;34m,\u001b[0m \u001b[0mlb\u001b[0m\u001b[0;34m,\u001b[0m \u001b[0min_sample\u001b[0m \u001b[0;34m=\u001b[0m \u001b[0mFOSDDP_forward_pass_oneSP_iteration\u001b[0m\u001b[0;34m(\u001b[0m\u001b[0mnetworkDataSet\u001b[0m\u001b[0;34m,\u001b[0m\u001b[0mhurricaneDataSet\u001b[0m\u001b[0;34m,\u001b[0m\u001b[0minputParams\u001b[0m\u001b[0;34m,\u001b[0m \u001b[0mm\u001b[0m\u001b[0;34m,\u001b[0m \u001b[0mx\u001b[0m\u001b[0;34m,\u001b[0m \u001b[0mtheta\u001b[0m\u001b[0;34m)\u001b[0m\u001b[0;34m\u001b[0m\u001b[0;34m\u001b[0m\u001b[0m\n\u001b[0m\u001b[1;32m    258\u001b[0m         \u001b[0mLB\u001b[0m\u001b[0;34m.\u001b[0m\u001b[0mappend\u001b[0m\u001b[0;34m(\u001b[0m\u001b[0mlb\u001b[0m\u001b[0;34m)\u001b[0m\u001b[0;34m\u001b[0m\u001b[0;34m\u001b[0m\u001b[0m\n\u001b[1;32m    259\u001b[0m         \u001b[0;31m# Termination check\u001b[0m\u001b[0;34m\u001b[0m\u001b[0;34m\u001b[0m\u001b[0;34m\u001b[0m\u001b[0m\n",
      "\u001b[0;32m~/Documents/GitHub/msp_models_for_adaptive_disaster_relief_logistics_planning/Python/FA.py\u001b[0m in \u001b[0;36mFOSDDP_forward_pass_oneSP_iteration\u001b[0;34m(networkDataSet, hurricaneDataSet, inputParams, m, x, theta)\u001b[0m\n\u001b[1;32m    163\u001b[0m             \u001b[0msys\u001b[0m\u001b[0;34m.\u001b[0m\u001b[0mexit\u001b[0m\u001b[0;34m(\u001b[0m\u001b[0;36m0\u001b[0m\u001b[0;34m)\u001b[0m\u001b[0;34m\u001b[0m\u001b[0;34m\u001b[0m\u001b[0m\n\u001b[1;32m    164\u001b[0m         \u001b[0;32melse\u001b[0m\u001b[0;34m:\u001b[0m\u001b[0;34m\u001b[0m\u001b[0;34m\u001b[0m\u001b[0m\n\u001b[0;32m--> 165\u001b[0;31m             \u001b[0mxval\u001b[0m\u001b[0;34m[\u001b[0m\u001b[0;34m:\u001b[0m\u001b[0;34m,\u001b[0m \u001b[0mt\u001b[0m\u001b[0;34m]\u001b[0m \u001b[0;34m=\u001b[0m \u001b[0;34m[\u001b[0m\u001b[0mvar\u001b[0m\u001b[0;34m.\u001b[0m\u001b[0mx\u001b[0m \u001b[0;32mfor\u001b[0m \u001b[0mvar\u001b[0m \u001b[0;32min\u001b[0m \u001b[0mx\u001b[0m\u001b[0;34m[\u001b[0m\u001b[0mt\u001b[0m\u001b[0;34m,\u001b[0m \u001b[0mk_t\u001b[0m\u001b[0;34m]\u001b[0m\u001b[0;34m]\u001b[0m\u001b[0;34m\u001b[0m\u001b[0;34m\u001b[0m\u001b[0m\n\u001b[0m\u001b[1;32m    166\u001b[0m             \u001b[0mthetaval\u001b[0m\u001b[0;34m[\u001b[0m\u001b[0mt\u001b[0m\u001b[0;34m]\u001b[0m \u001b[0;34m=\u001b[0m \u001b[0mtheta\u001b[0m\u001b[0;34m[\u001b[0m\u001b[0mt\u001b[0m\u001b[0;34m,\u001b[0m \u001b[0mk_t\u001b[0m\u001b[0;34m]\u001b[0m\u001b[0;34m.\u001b[0m\u001b[0mx\u001b[0m\u001b[0;34m\u001b[0m\u001b[0;34m\u001b[0m\u001b[0m\n\u001b[1;32m    167\u001b[0m             \u001b[0;32mif\u001b[0m \u001b[0mt\u001b[0m \u001b[0;34m==\u001b[0m \u001b[0;36m0\u001b[0m\u001b[0;34m:\u001b[0m\u001b[0;34m\u001b[0m\u001b[0;34m\u001b[0m\u001b[0m\n",
      "\u001b[0;32m~/Documents/GitHub/msp_models_for_adaptive_disaster_relief_logistics_planning/Python/FA.py\u001b[0m in \u001b[0;36m<listcomp>\u001b[0;34m(.0)\u001b[0m\n\u001b[1;32m    163\u001b[0m             \u001b[0msys\u001b[0m\u001b[0;34m.\u001b[0m\u001b[0mexit\u001b[0m\u001b[0;34m(\u001b[0m\u001b[0;36m0\u001b[0m\u001b[0;34m)\u001b[0m\u001b[0;34m\u001b[0m\u001b[0;34m\u001b[0m\u001b[0m\n\u001b[1;32m    164\u001b[0m         \u001b[0;32melse\u001b[0m\u001b[0;34m:\u001b[0m\u001b[0;34m\u001b[0m\u001b[0;34m\u001b[0m\u001b[0m\n\u001b[0;32m--> 165\u001b[0;31m             \u001b[0mxval\u001b[0m\u001b[0;34m[\u001b[0m\u001b[0;34m:\u001b[0m\u001b[0;34m,\u001b[0m \u001b[0mt\u001b[0m\u001b[0;34m]\u001b[0m \u001b[0;34m=\u001b[0m \u001b[0;34m[\u001b[0m\u001b[0mvar\u001b[0m\u001b[0;34m.\u001b[0m\u001b[0mx\u001b[0m \u001b[0;32mfor\u001b[0m \u001b[0mvar\u001b[0m \u001b[0;32min\u001b[0m \u001b[0mx\u001b[0m\u001b[0;34m[\u001b[0m\u001b[0mt\u001b[0m\u001b[0;34m,\u001b[0m \u001b[0mk_t\u001b[0m\u001b[0;34m]\u001b[0m\u001b[0;34m]\u001b[0m\u001b[0;34m\u001b[0m\u001b[0;34m\u001b[0m\u001b[0m\n\u001b[0m\u001b[1;32m    166\u001b[0m             \u001b[0mthetaval\u001b[0m\u001b[0;34m[\u001b[0m\u001b[0mt\u001b[0m\u001b[0;34m]\u001b[0m \u001b[0;34m=\u001b[0m \u001b[0mtheta\u001b[0m\u001b[0;34m[\u001b[0m\u001b[0mt\u001b[0m\u001b[0;34m,\u001b[0m \u001b[0mk_t\u001b[0m\u001b[0;34m]\u001b[0m\u001b[0;34m.\u001b[0m\u001b[0mx\u001b[0m\u001b[0;34m\u001b[0m\u001b[0;34m\u001b[0m\u001b[0m\n\u001b[1;32m    167\u001b[0m             \u001b[0;32mif\u001b[0m \u001b[0mt\u001b[0m \u001b[0;34m==\u001b[0m \u001b[0;36m0\u001b[0m\u001b[0;34m:\u001b[0m\u001b[0;34m\u001b[0m\u001b[0;34m\u001b[0m\u001b[0m\n",
      "\u001b[0;31mAttributeError\u001b[0m: 'int' object has no attribute 'x'"
     ]
    }
   ],
   "source": [
    "LB, train_time, iter = train_models_offline(networkDataSet,hurricaneDataSet,inputParams,solveParams, m, x, theta, FB1Cons, FB2Cons)"
   ]
  },
  {
   "cell_type": "code",
   "execution_count": null,
   "id": "54939139",
   "metadata": {},
   "outputs": [],
   "source": []
  }
 ],
 "metadata": {
  "kernelspec": {
   "display_name": "Python 3",
   "language": "python",
   "name": "python3"
  },
  "language_info": {
   "codemirror_mode": {
    "name": "ipython",
    "version": 3
   },
   "file_extension": ".py",
   "mimetype": "text/x-python",
   "name": "python",
   "nbconvert_exporter": "python",
   "pygments_lexer": "ipython3",
   "version": "3.8.8"
  }
 },
 "nbformat": 4,
 "nbformat_minor": 5
}
