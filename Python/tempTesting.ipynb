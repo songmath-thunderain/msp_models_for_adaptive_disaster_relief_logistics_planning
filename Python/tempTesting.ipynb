{
 "cells": [
  {
   "cell_type": "code",
   "execution_count": 1,
   "id": "8c7e3274",
   "metadata": {},
   "outputs": [],
   "source": [
    "from dataInput import *\n",
    "from CV import *\n",
    "from TwoStageSP import *\n",
    "from FA import *\n",
    "import numpy as np\n",
    "import pandas as pd"
   ]
  },
  {
   "cell_type": "code",
   "execution_count": 2,
   "id": "09a8ce6a",
   "metadata": {},
   "outputs": [],
   "source": [
    "inputParams = inputParams(1,1,57,1000);"
   ]
  },
  {
   "cell_type": "code",
   "execution_count": 3,
   "id": "7f5c3047",
   "metadata": {},
   "outputs": [],
   "source": [
    "intensityFile = 'data/synthetic/intensity.csv';\n",
    "locationFile = 'data/synthetic/location.csv';\n",
    "landfallFile = 'data/synthetic/landfall_7.csv';"
   ]
  },
  {
   "cell_type": "code",
   "execution_count": 4,
   "id": "fd6a6a3f",
   "metadata": {},
   "outputs": [],
   "source": [
    "hurricaneDataSet = hurricaneInput(intensityFile, locationFile, landfallFile, inputParams)"
   ]
  },
  {
   "cell_type": "code",
   "execution_count": 5,
   "id": "c9a4b03d",
   "metadata": {},
   "outputs": [],
   "source": [
    "netNodesFile = 'data/synthetic/nodes.csv';\n",
    "netParamsFile = 'data/synthetic/netParams.csv';\n",
    "networkDataSet = networkInput(3,10,0.5,netNodesFile,netParamsFile,hurricaneDataSet)"
   ]
  },
  {
   "cell_type": "code",
   "execution_count": 6,
   "id": "40215b6b",
   "metadata": {},
   "outputs": [],
   "source": [
    "osfname = \"./data/synthetic/OOS\" + str(inputParams.k_init) + \".csv\"\n",
    "OS_paths = pd.read_csv(osfname).values  # Read the out-of-sample file"
   ]
  },
  {
   "cell_type": "code",
   "execution_count": 7,
   "id": "2867a3c9",
   "metadata": {},
   "outputs": [
    {
     "name": "stdout",
     "output_type": "stream",
     "text": [
      "Set parameter Username\n",
      "Academic license - for non-commercial use only - expires 2024-01-04\n",
      "Clairvoyant....\n",
      "μ ± 1.96*σ/√NS = 758.1793286263205 ± [668.9713816378282, 847.3872756148128]\n"
     ]
    }
   ],
   "source": [
    "results = clairvoyant_eval(networkDataSet,hurricaneDataSet,inputParams, osfname)"
   ]
  },
  {
   "cell_type": "code",
   "execution_count": 8,
   "id": "224038f0",
   "metadata": {},
   "outputs": [
    {
     "data": {
      "text/plain": [
       "5"
      ]
     },
     "execution_count": 8,
     "metadata": {},
     "output_type": "execute_result"
    }
   ],
   "source": [
    "hurricaneDataSet.nodeScenList[(3,122)][0][0]"
   ]
  },
  {
   "cell_type": "code",
   "execution_count": 9,
   "id": "4b94e579",
   "metadata": {},
   "outputs": [
    {
     "data": {
      "text/plain": [
       "1"
      ]
     },
     "execution_count": 9,
     "metadata": {},
     "output_type": "execute_result"
    }
   ],
   "source": [
    "hurricaneDataSet.states[12][0]"
   ]
  },
  {
   "cell_type": "code",
   "execution_count": null,
   "id": "6e6713e6",
   "metadata": {},
   "outputs": [],
   "source": []
  }
 ],
 "metadata": {
  "kernelspec": {
   "display_name": "Python 3 (ipykernel)",
   "language": "python",
   "name": "python3"
  },
  "language_info": {
   "codemirror_mode": {
    "name": "ipython",
    "version": 3
   },
   "file_extension": ".py",
   "mimetype": "text/x-python",
   "name": "python",
   "nbconvert_exporter": "python",
   "pygments_lexer": "ipython3",
   "version": "3.8.12"
  }
 },
 "nbformat": 4,
 "nbformat_minor": 5
}
