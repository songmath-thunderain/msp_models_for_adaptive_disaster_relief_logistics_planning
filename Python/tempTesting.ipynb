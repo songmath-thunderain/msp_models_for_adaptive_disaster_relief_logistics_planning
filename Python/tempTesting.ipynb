{
 "cells": [
  {
   "cell_type": "code",
   "execution_count": 13,
   "id": "8c7e3274",
   "metadata": {},
   "outputs": [],
   "source": [
    "from dataInput import *\n",
    "import numpy as np\n",
    "import pandas as pd"
   ]
  },
  {
   "cell_type": "code",
   "execution_count": 2,
   "id": "7de19ab3",
   "metadata": {},
   "outputs": [],
   "source": [
    "solveParamSet = solveParamsInput()"
   ]
  },
  {
   "cell_type": "code",
   "execution_count": 3,
   "id": "09a8ce6a",
   "metadata": {},
   "outputs": [
    {
     "data": {
      "text/plain": [
       "0.0001"
      ]
     },
     "execution_count": 3,
     "metadata": {},
     "output_type": "execute_result"
    }
   ],
   "source": [
    "solveParamSet.cutviol"
   ]
  },
  {
   "cell_type": "code",
   "execution_count": 4,
   "id": "7f5c3047",
   "metadata": {},
   "outputs": [],
   "source": [
    "intensityFile = 'data/synthetic/intensity.csv';\n",
    "locationFile = 'data/synthetic/location.csv';\n",
    "landfallFile = 'data/synthetic/landfall_7.csv';\n",
    "dissipate_option = 1;"
   ]
  },
  {
   "cell_type": "code",
   "execution_count": 5,
   "id": "fd6a6a3f",
   "metadata": {},
   "outputs": [],
   "source": [
    "hurricaneDataSet = hurricaneInput(intensityFile, locationFile, landfallFile, dissipate_option)"
   ]
  },
  {
   "cell_type": "code",
   "execution_count": 6,
   "id": "c9a4b03d",
   "metadata": {},
   "outputs": [],
   "source": [
    "netNodesFile = 'data/synthetic/nodes.csv';\n",
    "netParamsFile = 'data/synthetic/netParams.csv';\n",
    "networkDataSet = networkInput(6,10,0.05,netNodesFile,netParamsFile,hurricaneDataSet)"
   ]
  },
  {
   "cell_type": "code",
   "execution_count": 11,
   "id": "877f38fd",
   "metadata": {},
   "outputs": [
    {
     "data": {
      "text/plain": [
       "array([5.  , 5.25, 5.5 , 5.75, 6.  , 6.25, 6.5 ])"
      ]
     },
     "execution_count": 11,
     "metadata": {},
     "output_type": "execute_result"
    }
   ],
   "source": [
    "networkDataSet.cp"
   ]
  },
  {
   "cell_type": "code",
   "execution_count": 14,
   "id": "40215b6b",
   "metadata": {},
   "outputs": [],
   "source": [
    "osfname = f\"data/synthetic/OOS57.csv\"\n",
    "OS_paths = pd.read_csv(osfname).values  # Read the out-of-sample file"
   ]
  },
  {
   "cell_type": "code",
   "execution_count": 49,
   "id": "89b73f2a",
   "metadata": {},
   "outputs": [],
   "source": [
    "T = 7\n",
    "S = hurricaneDataSet.states;\n",
    "\n",
    "# Use a list comprehension and next function\n",
    "absorbingT = list(OS_paths[3, 0:T]).index(next((x for x in OS_paths[3, 0:T] if S[x][2] == 7 or S[x][0] == 1), None))\n"
   ]
  },
  {
   "cell_type": "code",
   "execution_count": 50,
   "id": "f8ed8a34",
   "metadata": {},
   "outputs": [
    {
     "data": {
      "text/plain": [
       "2"
      ]
     },
     "execution_count": 50,
     "metadata": {},
     "output_type": "execute_result"
    }
   ],
   "source": [
    "absorbingT"
   ]
  },
  {
   "cell_type": "code",
   "execution_count": null,
   "id": "2867a3c9",
   "metadata": {},
   "outputs": [],
   "source": []
  }
 ],
 "metadata": {
  "kernelspec": {
   "display_name": "Python 3 (ipykernel)",
   "language": "python",
   "name": "python3"
  },
  "language_info": {
   "codemirror_mode": {
    "name": "ipython",
    "version": 3
   },
   "file_extension": ".py",
   "mimetype": "text/x-python",
   "name": "python",
   "nbconvert_exporter": "python",
   "pygments_lexer": "ipython3",
   "version": "3.8.12"
  }
 },
 "nbformat": 4,
 "nbformat_minor": 5
}
