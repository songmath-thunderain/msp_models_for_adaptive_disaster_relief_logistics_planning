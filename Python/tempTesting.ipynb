{
 "cells": [
  {
   "cell_type": "code",
   "execution_count": 1,
   "id": "8c7e3274",
   "metadata": {},
   "outputs": [],
   "source": [
    "from dataInput import *\n",
    "from CV import *\n",
    "from TwoStageSP import *\n",
    "from FA import *\n",
    "import numpy as np\n",
    "import pandas as pd"
   ]
  },
  {
   "cell_type": "code",
   "execution_count": 2,
   "id": "09a8ce6a",
   "metadata": {},
   "outputs": [],
   "source": [
    "inputParams = inputParams(1,1,57,1000);\n",
    "solveParams = solveParams(100000,200,100000,10800,1e-4);"
   ]
  },
  {
   "cell_type": "code",
   "execution_count": 3,
   "id": "7f5c3047",
   "metadata": {},
   "outputs": [],
   "source": [
    "intensityFile = 'data/synthetic/intensity.csv';\n",
    "locationFile = 'data/synthetic/location.csv';\n",
    "landfallFile = 'data/synthetic/landfall_7.csv';"
   ]
  },
  {
   "cell_type": "code",
   "execution_count": 4,
   "id": "fd6a6a3f",
   "metadata": {},
   "outputs": [],
   "source": [
    "hurricaneDataSet = hurricaneInput(intensityFile, locationFile, landfallFile, inputParams)"
   ]
  },
  {
   "cell_type": "code",
   "execution_count": 5,
   "id": "c9a4b03d",
   "metadata": {},
   "outputs": [],
   "source": [
    "netNodesFile = 'data/synthetic/nodes.csv';\n",
    "netParamsFile = 'data/synthetic/netParams.csv';\n",
    "networkDataSet = networkInput(3,20,0.05,netNodesFile,netParamsFile,hurricaneDataSet)"
   ]
  },
  {
   "cell_type": "code",
   "execution_count": 6,
   "id": "40215b6b",
   "metadata": {},
   "outputs": [],
   "source": [
    "osfname = \"./data/synthetic/OOS\" + str(inputParams.k_init) + \".csv\"\n",
    "OS_paths = pd.read_csv(osfname).values  # Read the out-of-sample file"
   ]
  },
  {
   "cell_type": "code",
   "execution_count": 7,
   "id": "4a44827c",
   "metadata": {},
   "outputs": [],
   "source": [
    "#static_2SSP_eval(networkDataSet, hurricaneDataSet, inputParams, solveParams, osfname)"
   ]
  },
  {
   "cell_type": "code",
   "execution_count": 8,
   "id": "1f28d182",
   "metadata": {},
   "outputs": [
    {
     "name": "stdout",
     "output_type": "stream",
     "text": [
      "Set parameter Username\n",
      "Academic license - for non-commercial use only - expires 2024-01-04\n",
      "RH 2SSP....\n",
      "μ ± 1.96*σ/√NS = 7565.364754343242 ± 162.45279579505237\n"
     ]
    },
    {
     "data": {
      "text/plain": [
       "[array([[ 6649.81882093,   263.15132209,   263.15132209, ...,\n",
       "          -959.81902483,     0.        ,     0.        ],\n",
       "        [ 6649.81882093,   263.15132209,   263.15132209, ...,\n",
       "           263.15132209, -1052.60528837,     0.        ],\n",
       "        [ 6649.81882093,   263.15132209,   263.15132209, ...,\n",
       "         -1052.60528837,     0.        ,     0.        ],\n",
       "        ...,\n",
       "        [ 6649.81882093,  7530.0615276 ,   526.74206307, ...,\n",
       "         -1841.21904314,     0.        ,     0.        ],\n",
       "        [ 6649.81882093,   263.15132209,   263.15132209, ...,\n",
       "             0.        ,     0.        ,     0.        ],\n",
       "        [ 6649.81882093,   263.15132209,   263.15132209, ...,\n",
       "          -794.21200367,     0.        ,     0.        ]]),\n",
       " 7565.364754343242,\n",
       " 7402.911958548189,\n",
       " 7727.817550138294,\n",
       " 338.109384059906]"
      ]
     },
     "execution_count": 8,
     "metadata": {},
     "output_type": "execute_result"
    }
   ],
   "source": [
    "RH_2SSP_eval(networkDataSet, hurricaneDataSet, inputParams, solveParams, osfname)"
   ]
  },
  {
   "cell_type": "code",
   "execution_count": null,
   "id": "0661885c",
   "metadata": {},
   "outputs": [],
   "source": []
  }
 ],
 "metadata": {
  "kernelspec": {
   "display_name": "Python 3 (ipykernel)",
   "language": "python",
   "name": "python3"
  },
  "language_info": {
   "codemirror_mode": {
    "name": "ipython",
    "version": 3
   },
   "file_extension": ".py",
   "mimetype": "text/x-python",
   "name": "python",
   "nbconvert_exporter": "python",
   "pygments_lexer": "ipython3",
   "version": "3.8.12"
  }
 },
 "nbformat": 4,
 "nbformat_minor": 5
}
