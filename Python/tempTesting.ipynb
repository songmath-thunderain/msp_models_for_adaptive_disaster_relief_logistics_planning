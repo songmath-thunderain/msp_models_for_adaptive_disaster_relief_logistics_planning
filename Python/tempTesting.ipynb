{
 "cells": [
  {
   "cell_type": "code",
   "execution_count": 1,
   "id": "8c7e3274",
   "metadata": {},
   "outputs": [],
   "source": [
    "from dataInput import *\n",
    "from CV import *\n",
    "from TwoStageSP import *\n",
    "from FA import *\n",
    "import numpy as np\n",
    "import pandas as pd"
   ]
  },
  {
   "cell_type": "code",
   "execution_count": null,
   "id": "09a8ce6a",
   "metadata": {},
   "outputs": [],
   "source": [
    "inputParams = inputParams(1,1,57,1000);"
   ]
  },
  {
   "cell_type": "code",
   "execution_count": null,
   "id": "7f5c3047",
   "metadata": {},
   "outputs": [],
   "source": [
    "intensityFile = 'data/synthetic/intensity.csv';\n",
    "locationFile = 'data/synthetic/location.csv';\n",
    "landfallFile = 'data/synthetic/landfall_7.csv';"
   ]
  },
  {
   "cell_type": "code",
   "execution_count": null,
   "id": "fd6a6a3f",
   "metadata": {},
   "outputs": [],
   "source": [
    "hurricaneDataSet = hurricaneInput(intensityFile, locationFile, landfallFile, inputParams)"
   ]
  },
  {
   "cell_type": "code",
   "execution_count": null,
   "id": "c9a4b03d",
   "metadata": {},
   "outputs": [],
   "source": [
    "netNodesFile = 'data/synthetic/nodes.csv';\n",
    "netParamsFile = 'data/synthetic/netParams.csv';\n",
    "networkDataSet = networkInput(3,10,0.5,netNodesFile,netParamsFile,hurricaneDataSet)"
   ]
  },
  {
   "cell_type": "code",
   "execution_count": null,
   "id": "40215b6b",
   "metadata": {},
   "outputs": [],
   "source": [
    "osfname = \"./data/synthetic/OOS\" + str(inputParams.k_init) + \".csv\"\n",
    "OS_paths = pd.read_csv(osfname).values  # Read the out-of-sample file"
   ]
  },
  {
   "cell_type": "code",
   "execution_count": null,
   "id": "2867a3c9",
   "metadata": {},
   "outputs": [],
   "source": [
    "results = clairvoyant_eval(networkDataSet,hurricaneDataSet,inputParams, osfname)"
   ]
  },
  {
   "cell_type": "code",
   "execution_count": null,
   "id": "2d8ab543",
   "metadata": {},
   "outputs": [],
   "source": [
    "m, x, f, y, z, v, theta, dCons, FB1Cons, FB2Cons = define_models(networkDataSet,hurricaneDataSet,inputParams)"
   ]
  },
  {
   "cell_type": "code",
   "execution_count": null,
   "id": "3aec33a7",
   "metadata": {},
   "outputs": [],
   "source": [
    "solveParams = solveParams(100000,200,100000,10800,1e-4)"
   ]
  },
  {
   "cell_type": "code",
   "execution_count": null,
   "id": "72deb1f6",
   "metadata": {},
   "outputs": [],
   "source": [
    "LB, train_time, iter = train_models_offline(networkDataSet,hurricaneDataSet,inputParams,solveParams, m, x, theta, FB1Cons, FB2Cons, dCons)"
   ]
  },
  {
   "cell_type": "code",
   "execution_count": null,
   "id": "ff770319",
   "metadata": {},
   "outputs": [],
   "source": [
    "LB"
   ]
  },
  {
   "cell_type": "code",
   "execution_count": null,
   "id": "a8d41ac6",
   "metadata": {},
   "outputs": [],
   "source": [
    "FOSDDP_eval_offline(networkDataSet,hurricaneDataSet,inputParams, m, x, theta, FB1Cons, FB2Cons, dCons, osfname)"
   ]
  },
  {
   "cell_type": "code",
   "execution_count": null,
   "id": "224038f0",
   "metadata": {},
   "outputs": [],
   "source": []
  }
 ],
 "metadata": {
  "kernelspec": {
   "display_name": "Python 3",
   "language": "python",
   "name": "python3"
  },
  "language_info": {
   "codemirror_mode": {
    "name": "ipython",
    "version": 3
   },
   "file_extension": ".py",
   "mimetype": "text/x-python",
   "name": "python",
   "nbconvert_exporter": "python",
   "pygments_lexer": "ipython3",
   "version": "3.8.8"
  }
 },
 "nbformat": 4,
 "nbformat_minor": 5
}
