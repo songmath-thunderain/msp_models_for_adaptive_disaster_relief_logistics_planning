{
 "cells": [
  {
   "cell_type": "code",
   "execution_count": 1,
   "id": "58d32315",
   "metadata": {},
   "outputs": [],
   "source": [
    "import folium\n",
    "import pandas as pd\n",
    "import geopandas\n",
    "from geopy.geocoders import Nominatim"
   ]
  },
  {
   "cell_type": "code",
   "execution_count": 2,
   "id": "a6304c76",
   "metadata": {},
   "outputs": [
    {
     "data": {
      "text/html": [
       "<div>\n",
       "<style scoped>\n",
       "    .dataframe tbody tr th:only-of-type {\n",
       "        vertical-align: middle;\n",
       "    }\n",
       "\n",
       "    .dataframe tbody tr th {\n",
       "        vertical-align: top;\n",
       "    }\n",
       "\n",
       "    .dataframe thead th {\n",
       "        text-align: right;\n",
       "    }\n",
       "</style>\n",
       "<table border=\"1\" class=\"dataframe\">\n",
       "  <thead>\n",
       "    <tr style=\"text-align: right;\">\n",
       "      <th></th>\n",
       "      <th>Index</th>\n",
       "      <th>County</th>\n",
       "      <th>Type</th>\n",
       "      <th>Facility</th>\n",
       "      <th>Address</th>\n",
       "      <th>latitude</th>\n",
       "      <th>longitude</th>\n",
       "    </tr>\n",
       "  </thead>\n",
       "  <tbody>\n",
       "    <tr>\n",
       "      <th>0</th>\n",
       "      <td>0</td>\n",
       "      <td>NaN</td>\n",
       "      <td>Supplier</td>\n",
       "      <td>FEMA Warehouse (Food and Water)</td>\n",
       "      <td>3780 Southside Industrial Pkwy, Atlanta, GA 30354</td>\n",
       "      <td>-84.373590</td>\n",
       "      <td>33.650208</td>\n",
       "    </tr>\n",
       "    <tr>\n",
       "      <th>1</th>\n",
       "      <td>1</td>\n",
       "      <td>NaN</td>\n",
       "      <td>RSA</td>\n",
       "      <td>Florence Airport</td>\n",
       "      <td>2100 Terminal Dr, Florence, SC 29501</td>\n",
       "      <td>-79.728332</td>\n",
       "      <td>34.193145</td>\n",
       "    </tr>\n",
       "    <tr>\n",
       "      <th>2</th>\n",
       "      <td>2</td>\n",
       "      <td>NaN</td>\n",
       "      <td>RSA</td>\n",
       "      <td>North AAF (Auxiliary Airforce Field)</td>\n",
       "      <td>270 Slab Landing Rd, North, SC 29112</td>\n",
       "      <td>-81.061884</td>\n",
       "      <td>33.614169</td>\n",
       "    </tr>\n",
       "    <tr>\n",
       "      <th>3</th>\n",
       "      <td>3</td>\n",
       "      <td>NaN</td>\n",
       "      <td>RSA</td>\n",
       "      <td>Charleston Convention Center</td>\n",
       "      <td>5001 Coliseum Dr, North Charleston, SC 29418</td>\n",
       "      <td>-80.022419</td>\n",
       "      <td>32.865635</td>\n",
       "    </tr>\n",
       "    <tr>\n",
       "      <th>4</th>\n",
       "      <td>4</td>\n",
       "      <td>NaN</td>\n",
       "      <td>RSA</td>\n",
       "      <td>I-26E (Harleyville)</td>\n",
       "      <td>495 Judge St, Harleyville, SC 29448</td>\n",
       "      <td>-80.447450</td>\n",
       "      <td>33.230486</td>\n",
       "    </tr>\n",
       "  </tbody>\n",
       "</table>\n",
       "</div>"
      ],
      "text/plain": [
       "   Index County      Type                              Facility  \\\n",
       "0      0    NaN  Supplier       FEMA Warehouse (Food and Water)   \n",
       "1      1    NaN       RSA                      Florence Airport   \n",
       "2      2    NaN       RSA  North AAF (Auxiliary Airforce Field)   \n",
       "3      3    NaN       RSA          Charleston Convention Center   \n",
       "4      4    NaN       RSA                   I-26E (Harleyville)   \n",
       "\n",
       "                                             Address   latitude  longitude  \n",
       "0  3780 Southside Industrial Pkwy, Atlanta, GA 30354 -84.373590  33.650208  \n",
       "1               2100 Terminal Dr, Florence, SC 29501 -79.728332  34.193145  \n",
       "2               270 Slab Landing Rd, North, SC 29112 -81.061884  33.614169  \n",
       "3       5001 Coliseum Dr, North Charleston, SC 29418 -80.022419  32.865635  \n",
       "4                495 Judge St, Harleyville, SC 29448 -80.447450  33.230486  "
      ]
     },
     "execution_count": 2,
     "metadata": {},
     "output_type": "execute_result"
    }
   ],
   "source": [
    "df = pd.read_excel('locations.xlsx');\n",
    "df.head() # just a sneak peek of the data table"
   ]
  },
  {
   "cell_type": "code",
   "execution_count": 4,
   "id": "7f5cdeef",
   "metadata": {},
   "outputs": [],
   "source": [
    "coords = [];\n",
    "for i in range(df.shape[0]):\n",
    "    coord = [df['longitude'][i],df['latitude'][i]];\n",
    "    coords.append(coord);"
   ]
  },
  {
   "cell_type": "code",
   "execution_count": 5,
   "id": "3d94de51",
   "metadata": {},
   "outputs": [],
   "source": [
    "# Create a map centered on South Carolina (reference coordinate of the center is [33.8361, -81.1637])\n",
    "m = folium.Map(location=[33.8361, -81.1637], zoom_start=8)\n",
    "\n",
    "for i in range(len(coords)):\n",
    "    #Cirle Markers\n",
    "    #Creating dummy n to aid with popup\n",
    "    if df['Type'][i]=='Supplier':\n",
    "        n = 'Supplier'\n",
    "        color = 'green'\n",
    "    if df['Type'][i]=='RSA':\n",
    "        n = 'RSA'\n",
    "        color = 'blue'\n",
    "    if df['Type'][i]=='PoD':\n",
    "        n = 'PoD'\n",
    "        color = 'red'\n",
    "        \n",
    "    folium.CircleMarker(location=coords[i], color=color, radius=5,popup='{:02d}'.format(i)).add_to(m)\n",
    "    #Popup Markers\n",
    "    popcontent = ('Location '+str(i)+': '+'<br>'+ n)\n",
    "    iframe = folium.IFrame(popcontent)\n",
    "    pop1 = folium.Popup(iframe, min_width=150,max_width=100)\n",
    "    folium.Marker(location=coords[i],popup=pop1).add_to(m)"
   ]
  },
  {
   "cell_type": "code",
   "execution_count": 7,
   "id": "a71cfd4d",
   "metadata": {},
   "outputs": [],
   "source": [
    "# Save the map\n",
    "folium.LayerControl().add_to(m)\n",
    "m.save('location_map.html')"
   ]
  },
  {
   "cell_type": "code",
   "execution_count": null,
   "id": "c28ee3f0",
   "metadata": {},
   "outputs": [],
   "source": []
  },
  {
   "cell_type": "code",
   "execution_count": null,
   "id": "e85b7895",
   "metadata": {},
   "outputs": [],
   "source": []
  }
 ],
 "metadata": {
  "kernelspec": {
   "display_name": "Python 3 (ipykernel)",
   "language": "python",
   "name": "python3"
  },
  "language_info": {
   "codemirror_mode": {
    "name": "ipython",
    "version": 3
   },
   "file_extension": ".py",
   "mimetype": "text/x-python",
   "name": "python",
   "nbconvert_exporter": "python",
   "pygments_lexer": "ipython3",
   "version": "3.9.13"
  }
 },
 "nbformat": 4,
 "nbformat_minor": 5
}
