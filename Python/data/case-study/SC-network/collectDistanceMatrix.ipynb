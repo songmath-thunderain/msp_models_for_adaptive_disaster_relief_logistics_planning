{
 "cells": [
  {
   "cell_type": "code",
   "execution_count": 1,
   "id": "f332dd79",
   "metadata": {},
   "outputs": [],
   "source": [
    "import os\n",
    "import pandas as pd\n",
    "import geopandas as gpd\n",
    "from shapely.geometry import Point\n",
    "import matplotlib.pyplot as plt\n",
    "import numpy as np\n",
    "import googlemaps \n",
    "import requests\n",
    "# Note: you may need to install some of these packages to your computer first"
   ]
  },
  {
   "cell_type": "code",
   "execution_count": 2,
   "id": "85b69005",
   "metadata": {},
   "outputs": [
    {
     "data": {
      "text/html": [
       "<div>\n",
       "<style scoped>\n",
       "    .dataframe tbody tr th:only-of-type {\n",
       "        vertical-align: middle;\n",
       "    }\n",
       "\n",
       "    .dataframe tbody tr th {\n",
       "        vertical-align: top;\n",
       "    }\n",
       "\n",
       "    .dataframe thead th {\n",
       "        text-align: right;\n",
       "    }\n",
       "</style>\n",
       "<table border=\"1\" class=\"dataframe\">\n",
       "  <thead>\n",
       "    <tr style=\"text-align: right;\">\n",
       "      <th></th>\n",
       "      <th>Index</th>\n",
       "      <th>County</th>\n",
       "      <th>Type</th>\n",
       "      <th>Facility</th>\n",
       "      <th>Address</th>\n",
       "      <th>latitude</th>\n",
       "      <th>longitude</th>\n",
       "    </tr>\n",
       "  </thead>\n",
       "  <tbody>\n",
       "    <tr>\n",
       "      <th>0</th>\n",
       "      <td>0</td>\n",
       "      <td>NaN</td>\n",
       "      <td>Supplier</td>\n",
       "      <td>FEMA Warehouse (Food and Water)</td>\n",
       "      <td>3780 Southside Industrial Pkwy, Atlanta, GA 30354</td>\n",
       "      <td>-84.373590</td>\n",
       "      <td>33.650208</td>\n",
       "    </tr>\n",
       "    <tr>\n",
       "      <th>1</th>\n",
       "      <td>1</td>\n",
       "      <td>NaN</td>\n",
       "      <td>RSA</td>\n",
       "      <td>Florence Airport</td>\n",
       "      <td>2100 Terminal Dr, Florence, SC 29501</td>\n",
       "      <td>-79.728332</td>\n",
       "      <td>34.193145</td>\n",
       "    </tr>\n",
       "    <tr>\n",
       "      <th>2</th>\n",
       "      <td>2</td>\n",
       "      <td>NaN</td>\n",
       "      <td>RSA</td>\n",
       "      <td>North AAF (Auxiliary Airforce Field)</td>\n",
       "      <td>270 Slab Landing Rd, North, SC 29112</td>\n",
       "      <td>-81.061884</td>\n",
       "      <td>33.614169</td>\n",
       "    </tr>\n",
       "    <tr>\n",
       "      <th>3</th>\n",
       "      <td>3</td>\n",
       "      <td>NaN</td>\n",
       "      <td>RSA</td>\n",
       "      <td>Charleston Convention Center</td>\n",
       "      <td>5001 Coliseum Dr, North Charleston, SC 29418</td>\n",
       "      <td>-80.022419</td>\n",
       "      <td>32.865635</td>\n",
       "    </tr>\n",
       "    <tr>\n",
       "      <th>4</th>\n",
       "      <td>4</td>\n",
       "      <td>NaN</td>\n",
       "      <td>RSA</td>\n",
       "      <td>I-26E (Harleyville)</td>\n",
       "      <td>495 Judge St, Harleyville, SC 29448</td>\n",
       "      <td>-80.447450</td>\n",
       "      <td>33.230486</td>\n",
       "    </tr>\n",
       "  </tbody>\n",
       "</table>\n",
       "</div>"
      ],
      "text/plain": [
       "   Index County      Type                              Facility  \\\n",
       "0      0    NaN  Supplier       FEMA Warehouse (Food and Water)   \n",
       "1      1    NaN       RSA                      Florence Airport   \n",
       "2      2    NaN       RSA  North AAF (Auxiliary Airforce Field)   \n",
       "3      3    NaN       RSA          Charleston Convention Center   \n",
       "4      4    NaN       RSA                   I-26E (Harleyville)   \n",
       "\n",
       "                                             Address   latitude  longitude  \n",
       "0  3780 Southside Industrial Pkwy, Atlanta, GA 30354 -84.373590  33.650208  \n",
       "1               2100 Terminal Dr, Florence, SC 29501 -79.728332  34.193145  \n",
       "2               270 Slab Landing Rd, North, SC 29112 -81.061884  33.614169  \n",
       "3       5001 Coliseum Dr, North Charleston, SC 29418 -80.022419  32.865635  \n",
       "4                495 Judge St, Harleyville, SC 29448 -80.447450  33.230486  "
      ]
     },
     "execution_count": 2,
     "metadata": {},
     "output_type": "execute_result"
    }
   ],
   "source": [
    "df = pd.read_excel('locations.xlsx');\n",
    "df.head() # just a sneak peek of the data table"
   ]
  },
  {
   "cell_type": "code",
   "execution_count": 3,
   "id": "d21b182e",
   "metadata": {},
   "outputs": [
    {
     "name": "stdout",
     "output_type": "stream",
     "text": [
      "total number of locations =  16\n"
     ]
    }
   ],
   "source": [
    "print(\"total number of locations = \", df.shape[0])"
   ]
  },
  {
   "cell_type": "code",
   "execution_count": 4,
   "id": "e1ea2260",
   "metadata": {},
   "outputs": [],
   "source": [
    "# This block of code is generated with the help of chatGPT\n",
    "\n",
    "def calculate_distance(origin, destination):\n",
    "    API_KEY = \"\"\n",
    "    API_URL = \"https://maps.googleapis.com/maps/api/distancematrix/json?units=imperial&origins={}&destinations={}&key={}\"\n",
    "    request_url = API_URL.format(origin, destination, API_KEY)\n",
    "\n",
    "    response = requests.get(request_url)\n",
    "    data = response.json()\n",
    "    \n",
    "    distance = data[\"rows\"][0][\"elements\"][0][\"distance\"][\"value\"] # [\"text\"] will give you meters\n",
    "    \n",
    "    return distance"
   ]
  },
  {
   "cell_type": "code",
   "execution_count": 5,
   "id": "6c4dd431",
   "metadata": {},
   "outputs": [],
   "source": [
    "# Note that we will need to use GoogleMaps to compute the distance\n",
    "distance = {};\n",
    "for i in range(df.shape[0]):\n",
    "    for j in range(df.shape[0]):\n",
    "        if j != i:\n",
    "            if (df['Type'][i] == 'Supplier' and df['Type'][j] == 'RSA') or (df['Type'][i] == 'RSA' and df['Type'][j] == 'RSA') or (df['Type'][i] == 'RSA' and df['Type'][j] == 'PoD'):\n",
    "                distance[(i,j)] = 0;"
   ]
  },
  {
   "cell_type": "code",
   "execution_count": 6,
   "id": "0bfc4c64",
   "metadata": {},
   "outputs": [
    {
     "name": "stdout",
     "output_type": "stream",
     "text": [
      "dict_keys([(0, 1), (0, 2), (0, 3), (0, 4), (0, 5), (0, 6), (0, 7), (0, 8), (1, 2), (1, 3), (1, 4), (1, 5), (1, 6), (1, 7), (1, 8), (1, 9), (1, 10), (1, 11), (1, 12), (1, 13), (1, 14), (1, 15), (2, 1), (2, 3), (2, 4), (2, 5), (2, 6), (2, 7), (2, 8), (2, 9), (2, 10), (2, 11), (2, 12), (2, 13), (2, 14), (2, 15), (3, 1), (3, 2), (3, 4), (3, 5), (3, 6), (3, 7), (3, 8), (3, 9), (3, 10), (3, 11), (3, 12), (3, 13), (3, 14), (3, 15), (4, 1), (4, 2), (4, 3), (4, 5), (4, 6), (4, 7), (4, 8), (4, 9), (4, 10), (4, 11), (4, 12), (4, 13), (4, 14), (4, 15), (5, 1), (5, 2), (5, 3), (5, 4), (5, 6), (5, 7), (5, 8), (5, 9), (5, 10), (5, 11), (5, 12), (5, 13), (5, 14), (5, 15), (6, 1), (6, 2), (6, 3), (6, 4), (6, 5), (6, 7), (6, 8), (6, 9), (6, 10), (6, 11), (6, 12), (6, 13), (6, 14), (6, 15), (7, 1), (7, 2), (7, 3), (7, 4), (7, 5), (7, 6), (7, 8), (7, 9), (7, 10), (7, 11), (7, 12), (7, 13), (7, 14), (7, 15), (8, 1), (8, 2), (8, 3), (8, 4), (8, 5), (8, 6), (8, 7), (8, 9), (8, 10), (8, 11), (8, 12), (8, 13), (8, 14), (8, 15)])\n"
     ]
    }
   ],
   "source": [
    "print(distance.keys())"
   ]
  },
  {
   "cell_type": "code",
   "execution_count": 7,
   "id": "04f3293f",
   "metadata": {},
   "outputs": [],
   "source": [
    "for (i,j) in distance.keys():\n",
    "    origin = df['Address'][i];\n",
    "    destination = df['Address'][j];\n",
    "    tempDistance = calculate_distance(origin, destination);\n",
    "    distance[(i,j)] = tempDistance;"
   ]
  },
  {
   "cell_type": "code",
   "execution_count": 8,
   "id": "91bac93b",
   "metadata": {},
   "outputs": [
    {
     "name": "stdout",
     "output_type": "stream",
     "text": [
      "distance =  {(0, 1): 474639, (0, 2): 337943, (0, 3): 478353, (0, 4): 418611, (0, 5): 406037, (0, 6): 352248, (0, 7): 247222, (0, 8): 385138, (1, 2): 190681, (1, 3): 209753, (1, 4): 150012, (1, 5): 199810, (1, 6): 150203, (1, 7): 292289, (1, 8): 148624, (1, 9): 101719, (1, 10): 91255, (1, 11): 174722, (1, 12): 204514, (1, 13): 207392, (1, 14): 182276, (1, 15): 242068, (2, 1): 191228, (2, 3): 145174, (2, 4): 85432, (2, 5): 135715, (2, 6): 38935, (2, 7): 213536, (2, 8): 109398, (2, 9): 182140, (2, 10): 289164, (2, 11): 128714, (2, 12): 139935, (2, 13): 142812, (2, 14): 118181, (2, 15): 177972, (3, 1): 208842, (3, 2): 145910, (3, 4): 60484, (3, 5): 86453, (3, 6): 157123, (3, 7): 325881, (3, 8): 221742, (3, 9): 91430, (3, 10): 199949, (3, 11): 36541, (3, 12): 13683, (3, 13): 12471, (3, 14): 83055, (3, 15): 122186, (4, 1): 149123, (4, 2): 86191, (4, 3): 60095, (4, 5): 78872, (4, 6): 97404, (4, 7): 266162, (4, 8): 162023, (4, 9): 110540, (4, 10): 247059, (4, 11): 43635, (4, 12): 54855, (4, 13): 57733, (4, 14): 45881, (4, 15): 121130, (5, 1): 199890, (5, 2): 113520, (5, 3): 87658, (5, 4): 77972, (5, 6): 148665, (5, 7): 317423, (5, 8): 213284, (5, 9): 190802, (5, 10): 297826, (5, 11): 90152, (5, 12): 78407, (5, 13): 74449, (5, 14): 22148, (5, 15): 50323, (6, 1): 149064, (6, 2): 42131, (6, 3): 162741, (6, 4): 102999, (6, 5): 153281, (6, 7): 170213, (6, 8): 75468, (6, 9): 178044, (6, 10): 246999, (6, 11): 146281, (6, 12): 157501, (6, 13): 160379, (6, 14): 135747, (6, 15): 195539, (7, 1): 291521, (7, 2): 211411, (7, 3): 324252, (7, 4): 264511, (7, 5): 314793, (7, 6): 168640, (7, 8): 150733, (7, 9): 349689, (7, 10): 389457, (7, 11): 307792, (7, 12): 319013, (7, 13): 321890, (7, 14): 297259, (7, 15): 357051, (8, 1): 167708, (8, 2): 109432, (8, 3): 222273, (8, 4): 162532, (8, 5): 212814, (8, 6): 66661, (8, 7): 153150, (8, 9): 204337, (8, 10): 265643, (8, 11): 205813, (8, 12): 217034, (8, 13): 219911, (8, 14): 195280, (8, 15): 255072}\n"
     ]
    }
   ],
   "source": [
    "print(\"distance = \", distance);"
   ]
  },
  {
   "cell_type": "code",
   "execution_count": 9,
   "id": "28c36727",
   "metadata": {},
   "outputs": [],
   "source": [
    "distanceMatrix = np.zeros((df.shape[0],df.shape[0]));\n",
    "for i in range(df.shape[0]):\n",
    "    for j in range(df.shape[0]):\n",
    "        if (i,j) not in distance.keys():\n",
    "            distanceMatrix[i][j] = -1;\n",
    "        else:\n",
    "            distanceMatrix[i][j] = distance[(i,j)]/1609;"
   ]
  },
  {
   "cell_type": "code",
   "execution_count": 10,
   "id": "bf022a26",
   "metadata": {},
   "outputs": [],
   "source": [
    "np.savetxt('distanceMatrix.txt',distanceMatrix);"
   ]
  },
  {
   "cell_type": "code",
   "execution_count": null,
   "id": "536ee8e6",
   "metadata": {},
   "outputs": [],
   "source": []
  }
 ],
 "metadata": {
  "kernelspec": {
   "display_name": "Python 3 (ipykernel)",
   "language": "python",
   "name": "python3"
  },
  "language_info": {
   "codemirror_mode": {
    "name": "ipython",
    "version": 3
   },
   "file_extension": ".py",
   "mimetype": "text/x-python",
   "name": "python",
   "nbconvert_exporter": "python",
   "pygments_lexer": "ipython3",
   "version": "3.9.13"
  }
 },
 "nbformat": 4,
 "nbformat_minor": 5
}
