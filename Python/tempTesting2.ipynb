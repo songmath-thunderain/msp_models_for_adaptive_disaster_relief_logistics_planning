{
 "cells": [
  {
   "cell_type": "code",
   "execution_count": 1,
   "id": "90b89e26",
   "metadata": {},
   "outputs": [],
   "source": [
    "import numpy as np;\n",
    "import pandas as pd;\n",
    "import sys;\n",
    "import csv;\n",
    "from dataInput import *\n",
    "from misc import *"
   ]
  },
  {
   "cell_type": "code",
   "execution_count": 2,
   "id": "ee6c2ee7",
   "metadata": {},
   "outputs": [],
   "source": [
    "P_intensity = pd.read_csv(\"data/case-study/mc_int_transition_prob.csv\").values;  # intensity MC\n",
    "P_landfall = pd.read_csv(\"data/case-study/landfall.csv\").values;  # landfall MC\n",
    "\n",
    "Na = P_intensity.shape[0];  # intensity MC number of states\n",
    "Nc = P_landfall.shape[0];  # landfall MC number of states\n",
    "T = Nc;  # define T_max\n"
   ]
  },
  {
   "cell_type": "code",
   "execution_count": 3,
   "id": "04877b92",
   "metadata": {},
   "outputs": [],
   "source": [
    "trackMatrices = [];\n",
    "trackStates = [];\n",
    "for t in range(T-1):\n",
    "    temp_name = \"data/case-study/mc_track_transition_prob_at_t\"+str(t)+\".csv\";\n",
    "    temp_MC = pd.read_csv(temp_name).values\n",
    "    temp_name2 = \"data/case-study/mc_track_mean_error_at_t\"+str(t+1)+\".csv\";\n",
    "    temp_states = pd.read_csv(temp_name2).values[:,1];\n",
    "\n",
    "    trackMatrices.append(temp_MC);\n",
    "    trackStates.append(temp_states);\n",
    "\n",
    "    if temp_MC.shape[1] != len(temp_states):\n",
    "        print(\"Error in reading track MCs!\");\n",
    "        exit(0);"
   ]
  },
  {
   "cell_type": "code",
   "execution_count": 4,
   "id": "3550e975",
   "metadata": {},
   "outputs": [
    {
     "data": {
      "text/plain": [
       "(6, 6)"
      ]
     },
     "execution_count": 4,
     "metadata": {},
     "output_type": "execute_result"
    }
   ],
   "source": [
    "np.shape(trackMatrices[5])"
   ]
  },
  {
   "cell_type": "code",
   "execution_count": 5,
   "id": "2b1d4d6b",
   "metadata": {},
   "outputs": [],
   "source": [
    "d_KI = pd.read_csv(\"data/case-study/d_KI.csv\").values"
   ]
  },
  {
   "cell_type": "code",
   "execution_count": 6,
   "id": "576f5f72",
   "metadata": {},
   "outputs": [
    {
     "data": {
      "text/plain": [
       "array([[191.023,  87.207, 120.714, 186.84 , 186.317, 139.972, 132.488,\n",
       "        159.602, 101.286, 122.005, 115.898]])"
      ]
     },
     "execution_count": 6,
     "metadata": {},
     "output_type": "execute_result"
    }
   ],
   "source": [
    "d_KI"
   ]
  },
  {
   "cell_type": "code",
   "execution_count": null,
   "id": "fa4415ee",
   "metadata": {},
   "outputs": [
    {
     "name": "stdout",
     "output_type": "stream",
     "text": [
      "Total # of states K =  301\n"
     ]
    }
   ],
   "source": [
    "intensityFile = 'data/case-study/mc_int_transition_prob.csv';\n",
    "trackProbFile = 'data/case-study/mc_track_transition_prob_at_t';\n",
    "trackErrorFile = 'data/case-study/mc_track_mean_error_at_t';\n",
    "landfallFile = 'data/case-study/landfall.csv';\n",
    "hurricaneDataSet = hurricaneInputCase(intensityFile, trackProbFile, trackErrorFile, landfallFile);"
   ]
  },
  {
   "cell_type": "code",
   "execution_count": null,
   "id": "43a73a7a",
   "metadata": {},
   "outputs": [],
   "source": [
    "create_OSpaths(1,hurricaneDataSet)"
   ]
  },
  {
   "cell_type": "code",
   "execution_count": null,
   "id": "988f2b59",
   "metadata": {},
   "outputs": [],
   "source": []
  }
 ],
 "metadata": {
  "kernelspec": {
   "display_name": "Python 3",
   "language": "python",
   "name": "python3"
  },
  "language_info": {
   "codemirror_mode": {
    "name": "ipython",
    "version": 3
   },
   "file_extension": ".py",
   "mimetype": "text/x-python",
   "name": "python",
   "nbconvert_exporter": "python",
   "pygments_lexer": "ipython3",
   "version": "3.8.8"
  }
 },
 "nbformat": 4,
 "nbformat_minor": 5
}
