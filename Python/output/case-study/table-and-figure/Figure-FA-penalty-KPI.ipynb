{
 "cells": [
  {
   "cell_type": "code",
   "execution_count": 3,
   "id": "cfc20178",
   "metadata": {},
   "outputs": [
    {
     "data": {
      "text/html": [
       "<div>\n",
       "<style scoped>\n",
       "    .dataframe tbody tr th:only-of-type {\n",
       "        vertical-align: middle;\n",
       "    }\n",
       "\n",
       "    .dataframe tbody tr th {\n",
       "        vertical-align: top;\n",
       "    }\n",
       "\n",
       "    .dataframe thead th {\n",
       "        text-align: right;\n",
       "    }\n",
       "</style>\n",
       "<table border=\"1\" class=\"dataframe\">\n",
       "  <thead>\n",
       "    <tr style=\"text-align: right;\">\n",
       "      <th></th>\n",
       "      <th>penalty</th>\n",
       "      <th>procurement</th>\n",
       "      <th>salvage</th>\n",
       "      <th>penalty.1</th>\n",
       "    </tr>\n",
       "  </thead>\n",
       "  <tbody>\n",
       "    <tr>\n",
       "      <th>0</th>\n",
       "      <td>0.25</td>\n",
       "      <td>31788.61445</td>\n",
       "      <td>26146.67380</td>\n",
       "      <td>1768.613786</td>\n",
       "    </tr>\n",
       "    <tr>\n",
       "      <th>1</th>\n",
       "      <td>0.50</td>\n",
       "      <td>40407.84224</td>\n",
       "      <td>37492.25831</td>\n",
       "      <td>835.291449</td>\n",
       "    </tr>\n",
       "    <tr>\n",
       "      <th>2</th>\n",
       "      <td>1.00</td>\n",
       "      <td>46957.52276</td>\n",
       "      <td>46443.85084</td>\n",
       "      <td>456.104056</td>\n",
       "    </tr>\n",
       "    <tr>\n",
       "      <th>3</th>\n",
       "      <td>2.00</td>\n",
       "      <td>54207.15621</td>\n",
       "      <td>58580.42846</td>\n",
       "      <td>316.233408</td>\n",
       "    </tr>\n",
       "    <tr>\n",
       "      <th>4</th>\n",
       "      <td>4.00</td>\n",
       "      <td>60105.52224</td>\n",
       "      <td>68367.51088</td>\n",
       "      <td>188.100344</td>\n",
       "    </tr>\n",
       "  </tbody>\n",
       "</table>\n",
       "</div>"
      ],
      "text/plain": [
       "   penalty  procurement      salvage    penalty.1\n",
       "0     0.25  31788.61445  26146.67380  1768.613786\n",
       "1     0.50  40407.84224  37492.25831   835.291449\n",
       "2     1.00  46957.52276  46443.85084   456.104056\n",
       "3     2.00  54207.15621  58580.42846   316.233408\n",
       "4     4.00  60105.52224  68367.51088   188.100344"
      ]
     },
     "execution_count": 3,
     "metadata": {},
     "output_type": "execute_result"
    }
   ],
   "source": [
    "import pandas as pd\n",
    "import matplotlib.pyplot as plt\n",
    "import numpy as np\n",
    "\n",
    "# Load the data\n",
    "file_path = '../penalty-SA-FA-KPI-2.xlsx'\n",
    "data = pd.read_excel(file_path)\n",
    "data"
   ]
  },
  {
   "cell_type": "code",
   "execution_count": 4,
   "id": "cf4134e8",
   "metadata": {},
   "outputs": [
    {
     "data": {
      "image/png": "[encoded data removed]",
      "text/plain": [
       "<Figure size 864x432 with 1 Axes>"
      ]
     },
     "metadata": {
      "needs_background": "light"
     },
     "output_type": "display_data"
    },
    {
     "data": {
      "text/plain": [
       "<Figure size 432x288 with 0 Axes>"
      ]
     },
     "metadata": {},
     "output_type": "display_data"
    }
   ],
   "source": [
    "# Extracting the data\n",
    "penalty = data['penalty']\n",
    "procurement = data['procurement']\n",
    "salvage = data['salvage']\n",
    "penalty_cost = data['penalty.1']\n",
    "\n",
    "# Define the width of the bars\n",
    "bar_width = 0.2\n",
    "\n",
    "# Set the position of the bars on the x-axis\n",
    "r1 = np.arange(len(penalty))\n",
    "r2 = [x + bar_width for x in r1]\n",
    "r3 = [x + bar_width for x in r2]\n",
    "\n",
    "# Plotting the data\n",
    "plt.figure(figsize=(12, 6))\n",
    "\n",
    "# Creating the bars\n",
    "plt.bar(r1, procurement, color='skyblue', width=bar_width, edgecolor='grey', label='Inventory')\n",
    "plt.bar(r2, salvage, color='lightgreen', width=bar_width, edgecolor='grey', label='Salvage')\n",
    "plt.bar(r3, penalty_cost, color='lightcoral', width=bar_width, edgecolor='grey', label='Penalty')\n",
    "\n",
    "# Adding labels and title\n",
    "plt.xlabel('Penalty Parameter', fontweight='bold')\n",
    "plt.xticks([r + bar_width for r in range(len(penalty))], penalty)\n",
    "plt.ylabel('Amount', fontweight='bold')\n",
    "plt.title('Average Amount of Inventory, Salvage, and Demand Shortage under Different Penalty Parameters', fontweight='bold')\n",
    "plt.legend()\n",
    "\n",
    "# Show plot\n",
    "plt.show()\n",
    "plt.savefig('FA-penalty-cost-composition-1.png');"
   ]
  },
  {
   "cell_type": "code",
   "execution_count": null,
   "id": "4d0ac459",
   "metadata": {},
   "outputs": [],
   "source": []
  }
 ],
 "metadata": {
  "kernelspec": {
   "display_name": "Python 3 (ipykernel)",
   "language": "python",
   "name": "python3"
  },
  "language_info": {
   "codemirror_mode": {
    "name": "ipython",
    "version": 3
   },
   "file_extension": ".py",
   "mimetype": "text/x-python",
   "name": "python",
   "nbconvert_exporter": "python",
   "pygments_lexer": "ipython3",
   "version": "3.8.12"
  }
 },
 "nbformat": 4,
 "nbformat_minor": 5
}
