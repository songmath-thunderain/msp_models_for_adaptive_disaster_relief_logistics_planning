{
 "cells": [
  {
   "cell_type": "code",
   "execution_count": 1,
   "id": "eef40f26",
   "metadata": {},
   "outputs": [],
   "source": [
    "import pandas as pd"
   ]
  },
  {
   "cell_type": "code",
   "execution_count": null,
   "id": "9d8065e6",
   "metadata": {},
   "outputs": [],
   "source": []
  },
  {
   "cell_type": "code",
   "execution_count": 2,
   "id": "f1207f55",
   "metadata": {},
   "outputs": [],
   "source": [
    "# Do separate tables for different instance_option (-1: deterministic, 0: random) and cost_structure (0: old,1: safetime)"
   ]
  },
  {
   "cell_type": "code",
   "execution_count": 3,
   "id": "b2992f26",
   "metadata": {},
   "outputs": [],
   "source": [
    "def createTable(i_option, outputfile):\n",
    "    \n",
    "    if i_option == 1:\n",
    "        # Load the CSV file\n",
    "        FA_SA = '../FC_SA_summary-KPI-1.xlsx'\n",
    "        df_FA_SA = pd.read_excel(FA_SA)\n",
    "        T = 10;\n",
    "    if i_option == 2:\n",
    "        # Load the CSV file\n",
    "        FA_SA = '../FC_SA_summary-KPI-2.xlsx'\n",
    "        df_FA_SA = pd.read_excel(FA_SA)\n",
    "        T = 12;    \n",
    "        \n",
    "    tauList = [2, 3, 4]\n",
    "\n",
    "    \n",
    "    # Create a LaTeX table string with the specified columns and multi-row header\n",
    "    latex_table_custom = '';\n",
    "    \n",
    "    \n",
    "    for i1 in range(len(tauList)):\n",
    "        if i1 == 0:\n",
    "            idx = 3;\n",
    "        else:\n",
    "            idx = 5+i1;\n",
    "        tempList = df_FA_SA.iloc[[idx]].values.tolist()[0]\n",
    "        rowstring = f\"{tauList[i1]}\";\n",
    "        for t in range(T):\n",
    "            rowstring += f\" && ({round(tempList[t+2+T]*100,1)}\\%,{round(tempList[t+2+2*T]/1000,1)}K)\";\n",
    "        latex_table_custom += rowstring + f\"\\\\\\\\ \\n\"\n",
    "\n",
    "    \n",
    "        if i1 != len(tauList)-1:\n",
    "            latex_table_custom += \"\\\\hline\\n\"\n",
    "\n",
    "    print(latex_table_custom)        \n",
    "    # Save to a new .tex file\n",
    "    with open(outputfile, 'w') as f:\n",
    "        f.write(latex_table_custom)"
   ]
  },
  {
   "cell_type": "code",
   "execution_count": 4,
   "id": "992bac7b",
   "metadata": {},
   "outputs": [
    {
     "name": "stdout",
     "output_type": "stream",
     "text": [
      "2 && (0\\%,0.0K) && (0.0\\%,0.0K) && (2.9\\%,11.3K) && (63.3\\%,24.2K) && (98.0\\%,28.2K) && (94.8\\%,26.2K) && (83.5\\%,23.7K) && (0.0\\%,0.0K) && (0.0\\%,0.0K) && (0.0\\%,0.0K)\\\\ \n",
      "\\hline\n",
      "3 && (0\\%,0.0K) && (0.0\\%,0.0K) && (50.6\\%,27.4K) && (100.0\\%,29.8K) && (99.8\\%,28.7K) && (88.3\\%,25.9K) && (0.0\\%,0.0K) && (0.0\\%,0.0K) && (0.0\\%,0.0K) && (0.0\\%,0.0K)\\\\ \n",
      "\\hline\n",
      "4 && (0\\%,0.0K) && (48.9\\%,27.7K) && (100.0\\%,26.9K) && (100.0\\%,32.8K) && (98.4\\%,27.8K) && (0.0\\%,0.0K) && (0.0\\%,0.0K) && (0.0\\%,0.0K) && (0.0\\%,0.0K) && (0.0\\%,0.0K)\\\\ \n",
      "\n",
      "2 && (0\\%,0.0K) && (0.0\\%,0.0K) && (0.0\\%,0.0K) && (0.0\\%,0.0K) && (0.1\\%,34.0K) && (1.0\\%,23.7K) && (89.2\\%,21.7K) && (83.8\\%,26.8K) && (74.6\\%,22.6K) && (0.0\\%,0.0K) && (0.0\\%,0.0K) && (0.0\\%,0.0K)\\\\ \n",
      "\\hline\n",
      "3 && (0\\%,0.0K) && (0.0\\%,0.0K) && (0.0\\%,0.0K) && (0.0\\%,0.0K) && (0.1\\%,34.0K) && (95.5\\%,21.5K) && (93.4\\%,28.4K) && (82.8\\%,24.8K) && (0.0\\%,0.0K) && (0.0\\%,0.0K) && (0.0\\%,0.0K) && (0.0\\%,0.0K)\\\\ \n",
      "\\hline\n",
      "4 && (0\\%,0.0K) && (0.0\\%,0.0K) && (0.0\\%,0.0K) && (0.0\\%,0.0K) && (100.0\\%,21.7K) && (92.3\\%,30.6K) && (86.1\\%,26.6K) && (0.0\\%,0.0K) && (0.0\\%,0.0K) && (0.0\\%,0.0K) && (0.0\\%,0.0K) && (0.0\\%,0.0K)\\\\ \n",
      "\n"
     ]
    }
   ],
   "source": [
    "createTable(1,'Table-case-SA-st-FA-KPI-1.tex')\n",
    "createTable(2,'Table-case-SA-st-FA-KPI-2.tex')"
   ]
  },
  {
   "cell_type": "code",
   "execution_count": null,
   "id": "b85a86e1",
   "metadata": {},
   "outputs": [],
   "source": []
  },
  {
   "cell_type": "code",
   "execution_count": null,
   "id": "68d963db",
   "metadata": {},
   "outputs": [],
   "source": []
  },
  {
   "cell_type": "code",
   "execution_count": null,
   "id": "cf1fe8c1",
   "metadata": {},
   "outputs": [],
   "source": []
  }
 ],
 "metadata": {
  "kernelspec": {
   "display_name": "Python 3 (ipykernel)",
   "language": "python",
   "name": "python3"
  },
  "language_info": {
   "codemirror_mode": {
    "name": "ipython",
    "version": 3
   },
   "file_extension": ".py",
   "mimetype": "text/x-python",
   "name": "python",
   "nbconvert_exporter": "python",
   "pygments_lexer": "ipython3",
   "version": "3.8.12"
  }
 },
 "nbformat": 4,
 "nbformat_minor": 5
}
