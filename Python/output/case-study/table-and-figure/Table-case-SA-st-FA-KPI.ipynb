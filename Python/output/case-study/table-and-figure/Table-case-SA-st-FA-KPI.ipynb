{
 "cells": [
  {
   "cell_type": "code",
   "execution_count": 1,
   "id": "eef40f26",
   "metadata": {},
   "outputs": [],
   "source": [
    "import pandas as pd"
   ]
  },
  {
   "cell_type": "code",
   "execution_count": null,
   "id": "9d8065e6",
   "metadata": {},
   "outputs": [],
   "source": []
  },
  {
   "cell_type": "code",
   "execution_count": 2,
   "id": "f1207f55",
   "metadata": {},
   "outputs": [],
   "source": [
    "# Do separate tables for different instance_option (-1: deterministic, 0: random) and cost_structure (0: old,1: safetime)"
   ]
  },
  {
   "cell_type": "code",
   "execution_count": 3,
   "id": "b2992f26",
   "metadata": {},
   "outputs": [],
   "source": [
    "def createTable(i_option, outputfile):\n",
    "    \n",
    "    if i_option == 1:\n",
    "        # Load the CSV file\n",
    "        FA_SA = '../st_SA_FAresults-KPI.xlsx'\n",
    "        df_FA_SA = pd.read_excel(FA_SA)\n",
    "        T = 10;\n",
    "    if i_option == 2:\n",
    "        # Load the CSV file\n",
    "        FA_SA = '../st_SA_FAresults-KPI.xlsx'\n",
    "        df_FA_SA = pd.read_excel(FA_SA)\n",
    "        T = 12;    \n",
    "        \n",
    "    df_FA_0 = df_FA_SA[(df_FA_SA['instance_option'] == i_option)]\n",
    "    df_FA_0.reset_index(drop=True, inplace=True)    \n",
    "    tauList = [1, 2, 3, 4]\n",
    "\n",
    "    \n",
    "    # Create a LaTeX table string with the specified columns and multi-row header\n",
    "    latex_table_custom = '';\n",
    "    \n",
    "    \n",
    "    for i1 in range(len(tauList)):\n",
    "        tempList = df_FA_0.iloc[[i1]].values.tolist()[0]\n",
    "        rowstring = f\"{tauList[i1]}\";\n",
    "        for t in range(T):\n",
    "            rowstring += f\" && ({round(tempList[t+2+T]*100,1)}\\%,{round(tempList[t+2+2*T]/1000,1)}K)\";\n",
    "        latex_table_custom += rowstring + f\"\\\\\\\\ \\n\"\n",
    "\n",
    "    \n",
    "        if i1 != len(tauList)-1:\n",
    "            latex_table_custom += \"\\\\hline\\n\"\n",
    "\n",
    "    print(latex_table_custom)        \n",
    "    # Save to a new .tex file\n",
    "    with open(outputfile, 'w') as f:\n",
    "        f.write(latex_table_custom)"
   ]
  },
  {
   "cell_type": "code",
   "execution_count": 4,
   "id": "992bac7b",
   "metadata": {},
   "outputs": [
    {
     "name": "stdout",
     "output_type": "stream",
     "text": [
      "1 && (0.0\\%,0.0K) && (0.0\\%,0.0K) && (0.0\\%,0.0K) && (0.0\\%,0.0K) && (6.5\\%,22.9K) && (69.9\\%,21.9K) && (88.9\\%,26.4K) && (85.2\\%,22.7K) && (78.2\\%,23.6K) && (0.0\\%,0.0K)\\\\ \n",
      "\\hline\n",
      "2 && (0.0\\%,0.0K) && (0.0\\%,0.0K) && (0.0\\%,0.0K) && (0.0\\%,0.0K) && (63.3\\%,23.1K) && (100.0\\%,27.4K) && (91.7\\%,25.9K) && (80.8\\%,23.8K) && (0.0\\%,0.0K) && (0.0\\%,0.0K)\\\\ \n",
      "\\hline\n",
      "3 && (0.0\\%,0.0K) && (0.0\\%,0.0K) && (0.0\\%,0.0K) && (48.9\\%,27.7K) && (100.0\\%,27.4K) && (99.6\\%,28.2K) && (81.3\\%,27.8K) && (0.0\\%,0.0K) && (0.0\\%,0.0K) && (0.0\\%,0.0K)\\\\ \n",
      "\\hline\n",
      "4 && (0.0\\%,0.0K) && (0.0\\%,0.0K) && (48.9\\%,27.7K) && (100.0\\%,25.4K) && (100.0\\%,32.3K) && (98.0\\%,24.9K) && (0.0\\%,0.0K) && (0.0\\%,0.0K) && (0.0\\%,0.0K) && (0.0\\%,0.0K)\\\\ \n",
      "\n",
      "1 && (0.0\\%,0.0K) && (0.0\\%,0.0K) && (0.0\\%,0.0K) && (0.0\\%,0.0K) && (0.0\\%,0.0K) && (0.2\\%,34.0K) && (17.4\\%,6.5K) && (95.0\\%,10.6K) && (96.8\\%,27.1K) && (78.2\\%,24.8K) && (62.3\\%,25.6K) && (0.0\\%,0.0K)\\\\ \n",
      "\\hline\n",
      "2 && (0.0\\%,0.0K) && (0.0\\%,0.0K) && (0.0\\%,0.0K) && (0.0\\%,0.0K) && (0.0\\%,0.0K) && (2.0\\%,21.3K) && (99.7\\%,6.2K) && (99.8\\%,30.6K) && (93.2\\%,27.0K) && (80.5\\%,23.0K) && (0.0\\%,0.0K) && (0.0\\%,0.0K)\\\\ \n",
      "\\hline\n",
      "3 && (0.0\\%,0.0K) && (0.0\\%,0.0K) && (0.0\\%,0.0K) && (0.0\\%,0.0K) && (0.0\\%,0.0K) && (100.0\\%,5.0K) && (100.0\\%,33.3K) && (99.3\\%,28.9K) && (79.5\\%,27.9K) && (0.0\\%,0.0K) && (0.0\\%,0.0K) && (0.0\\%,0.0K)\\\\ \n",
      "\\hline\n",
      "4 && (0.0\\%,0.0K) && (0.0\\%,0.0K) && (0.0\\%,0.0K) && (0.0\\%,0.0K) && (100.0\\%,4.4K) && (100.0\\%,34.0K) && (100.0\\%,30.7K) && (92.7\\%,26.4K) && (0.0\\%,0.0K) && (0.0\\%,0.0K) && (0.0\\%,0.0K) && (0.0\\%,0.0K)\\\\ \n",
      "\n"
     ]
    }
   ],
   "source": [
    "createTable(1,'Table-case-SA-st-FA-KPI-1.tex')\n",
    "createTable(2,'Table-case-SA-st-FA-KPI-2.tex')"
   ]
  },
  {
   "cell_type": "code",
   "execution_count": null,
   "id": "b85a86e1",
   "metadata": {},
   "outputs": [],
   "source": []
  },
  {
   "cell_type": "code",
   "execution_count": null,
   "id": "68d963db",
   "metadata": {},
   "outputs": [],
   "source": []
  },
  {
   "cell_type": "code",
   "execution_count": null,
   "id": "cf1fe8c1",
   "metadata": {},
   "outputs": [],
   "source": []
  }
 ],
 "metadata": {
  "kernelspec": {
   "display_name": "Python 3 (ipykernel)",
   "language": "python",
   "name": "python3"
  },
  "language_info": {
   "codemirror_mode": {
    "name": "ipython",
    "version": 3
   },
   "file_extension": ".py",
   "mimetype": "text/x-python",
   "name": "python",
   "nbconvert_exporter": "python",
   "pygments_lexer": "ipython3",
   "version": "3.11.7"
  }
 },
 "nbformat": 4,
 "nbformat_minor": 5
}
