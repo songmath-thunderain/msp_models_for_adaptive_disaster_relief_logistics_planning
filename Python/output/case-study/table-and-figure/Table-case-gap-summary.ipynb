{
 "cells": [
  {
   "cell_type": "code",
   "execution_count": 1,
   "id": "eef40f26",
   "metadata": {},
   "outputs": [],
   "source": [
    "import pandas as pd"
   ]
  },
  {
   "cell_type": "code",
   "execution_count": 2,
   "id": "9d8065e6",
   "metadata": {},
   "outputs": [],
   "source": [
    "# Load the CSV file\n",
    "FA = '../Trans_SA_FAresults.xlsx'\n",
    "CV = '../Trans_SA_CVresults.xlsx'\n",
    "static2SSP = '../Trans_SA_static2SSPresults.xlsx'\n",
    "rolling2SSP = '../Trans_SA_rolling2SSPresults.xlsx'\n",
    "WS = '../Trans_SA_WSresults.xlsx'\n",
    "naiveWS = '../Trans_SA_naiveWSresults.xlsx'\n",
    "\n",
    "df_FA = pd.read_excel(FA)\n",
    "df_CV = pd.read_excel(CV)\n",
    "df_s2SSP = pd.read_excel(static2SSP)\n",
    "df_r2SSP = pd.read_excel(rolling2SSP)\n",
    "df_WS = pd.read_excel(WS)\n",
    "df_naiveWS = pd.read_excel(naiveWS)"
   ]
  },
  {
   "cell_type": "code",
   "execution_count": 3,
   "id": "f3b57f47",
   "metadata": {},
   "outputs": [
    {
     "name": "stdout",
     "output_type": "stream",
     "text": [
      "df_CV.shape =  (10, 6)\n"
     ]
    }
   ],
   "source": [
    "if df_CV.shape[0] != df_FA.shape[0] or df_CV.shape[0] != df_s2SSP.shape[0] or df_CV.shape[0] != df_r2SSP.shape[0] or df_CV.shape[0] != df_WS.shape[0]:\n",
    "    print(\"ERROR! # of rows in the data frames are inconsistent!\")\n",
    "else:\n",
    "    print(\"df_CV.shape = \", df_CV.shape)"
   ]
  },
  {
   "cell_type": "code",
   "execution_count": 4,
   "id": "f1207f55",
   "metadata": {},
   "outputs": [],
   "source": [
    "# Do separate tables for different instance_option (-1: deterministic, 0: random) and cost_structure (0: old,1: safetime)"
   ]
  },
  {
   "cell_type": "code",
   "execution_count": 5,
   "id": "b2992f26",
   "metadata": {},
   "outputs": [],
   "source": [
    "def createTable(i_option, outputfile):\n",
    "    df_CV_0 = df_CV[(df_CV['instance_option'] == i_option)]\n",
    "    df_FA_0 = df_FA[(df_FA['instance_option'] == i_option)]\n",
    "    df_s2SSP_0 = df_s2SSP[(df_s2SSP['instance_option'] == i_option)]\n",
    "    df_r2SSP_0 = df_r2SSP[(df_r2SSP['instance_option'] == i_option)]\n",
    "    df_WS_0 = df_WS[(df_WS['instance_option'] == i_option)]\n",
    "    df_naiveWS_0 = df_naiveWS[(df_naiveWS['instance_option'] == i_option)]\n",
    "    df_CV_0.reset_index(drop=True, inplace=True)\n",
    "    df_FA_0.reset_index(drop=True, inplace=True)\n",
    "    df_s2SSP_0.reset_index(drop=True, inplace=True)\n",
    "    df_r2SSP_0.reset_index(drop=True, inplace=True)\n",
    "    df_WS_0.reset_index(drop=True, inplace=True)\n",
    "    df_naiveWS_0.reset_index(drop=True, inplace=True)\n",
    "    tauList = [1, 2, 5, 10, 1e6]\n",
    "\n",
    "    \n",
    "    # Create a LaTeX table string with the specified columns and multi-row header\n",
    "    latex_table_custom = '';\n",
    "    \n",
    "    idx = 0;\n",
    "    for i1 in range(len(tauList)):\n",
    "        CV_val = df_CV_0[\"obj\"][idx] \n",
    "        CV_CI = df_CV_0[\"CI\"][idx] \n",
    "        FA_LB = df_FA_0[\"LB\"][idx]\n",
    "        FA_obj = df_FA_0[\"obj\"][idx]\n",
    "        FA_CI = df_FA_0[\"CI\"][idx]\n",
    "        FA_time = df_FA_0[\"train_time\"][idx]\n",
    "        FA_gap = int((df_FA_0[\"obj\"][idx]-df_CV_0[\"obj\"][idx])/df_CV_0[\"obj\"][idx]*100)\n",
    "        WS_time = df_WS_0[\"train_time\"][idx]\n",
    "        WS_gap = int((df_WS_0[\"obj\"][idx]-df_CV_0[\"obj\"][idx])/df_CV_0[\"obj\"][idx]*100)\n",
    "        r2SSP_gap = int((df_r2SSP_0[\"obj\"][idx]-df_CV_0[\"obj\"][idx])/df_CV_0[\"obj\"][idx]*100)\n",
    "        s2SSP_time = df_s2SSP_0[\"train_time\"][idx]\n",
    "        s2SSP_gap = int((df_s2SSP_0[\"obj\"][idx]-df_CV_0[\"obj\"][idx])/df_CV_0[\"obj\"][idx]*100)\n",
    "        naiveWS_time = df_naiveWS_0[\"train_time\"][idx]\n",
    "        naiveWS_gap = int((df_naiveWS_0[\"obj\"][idx]-df_CV_0[\"obj\"][idx])/df_CV_0[\"obj\"][idx]*100)\n",
    "\n",
    "        latex_table_custom += f\"{tauList[i1]} && {round(CV_val,1)} & {round(CV_CI,1)} && {round(FA_LB,1)} & {round(FA_obj,1)}$\\pm${round(FA_CI,1)} & {round(FA_time,1)} & {FA_gap}\\\\% && {round(s2SSP_time,1)} & {s2SSP_gap}\\\\% && {r2SSP_gap}\\\\% && {naiveWS_gap}\\\\% && {round(WS_time,1)} & {WS_gap}\\\\%   \\\\\\\\ \\n\"\n",
    "        \n",
    "        idx += 1;\n",
    "        if i1 != len(tauList)-1:\n",
    "            latex_table_custom += \"\\\\hline\\n\"\n",
    "\n",
    "    print(latex_table_custom)        \n",
    "    # Save to a new .tex file\n",
    "    with open(outputfile, 'w') as f:\n",
    "        f.write(latex_table_custom)"
   ]
  },
  {
   "cell_type": "code",
   "execution_count": 6,
   "id": "992bac7b",
   "metadata": {},
   "outputs": [
    {
     "name": "stdout",
     "output_type": "stream",
     "text": [
      "1 && 895909.2 & 60833.2 && 2381917.4 & 2224109.6$\\pm$128755.9 & 172.8 & 148\\% && 0.1 & 313\\% && 155\\% && 256\\% && 13.9 & 209\\%   \\\\ \n",
      "\\hline\n",
      "2 && 956670.7 & 64898.1 && 2821117.5 & 2702341.0$\\pm$158119.7 & 134.8 & 182\\% && 0.1 & 314\\% && 199\\% && 370\\% && 12.6 & 260\\%   \\\\ \n",
      "\\hline\n",
      "5 && 953525.0 & 64687.6 && 3124434.3 & 2985251.8$\\pm$154233.0 & 318.2 & 213\\% && 0.2 & 315\\% && 216\\% && 625\\% && 13.1 & 262\\%   \\\\ \n",
      "\\hline\n",
      "10 && 948282.2 & 64336.9 && 3208616.2 & 3119646.2$\\pm$195906.3 & 182.0 & 228\\% && 0.1 & 316\\% && 231\\% && 889\\% && 14.5 & 264\\%   \\\\ \n",
      "\\hline\n",
      "1000000.0 && 957719.2 & 64968.2 && 3279854.3 & 3100418.8$\\pm$183713.7 & 99.7 & 223\\% && 0.1 & 313\\% && 232\\% && 1125\\% && 11.7 & 262\\%   \\\\ \n",
      "\n",
      "1 && 774050.6 & 60638.7 && 2526503.1 & 2446379.8$\\pm$214354.7 & 76.7 & 216\\% && 4.7 & 329\\% && 248\\% && 457\\% && 1812.9 & 302\\%   \\\\ \n",
      "\\hline\n",
      "2 && 814352.3 & 63494.4 && 2829311.5 & 2765838.6$\\pm$195737.9 & 66.5 & 239\\% && 4.7 & 322\\% && 247\\% && 540\\% && 1798.1 & 326\\%   \\\\ \n",
      "\\hline\n",
      "5 && 811632.5 & 63284.1 && 3009203.0 & 3025749.2$\\pm$259595.5 & 87.1 & 272\\% && 4.7 & 323\\% && 294\\% && 820\\% && 1774.6 & 320\\%   \\\\ \n",
      "\\hline\n",
      "10 && 807099.4 & 62933.6 && 3081331.1 & 3083036.9$\\pm$268750.5 & 81.4 & 281\\% && 4.6 & 325\\% && 305\\% && 1049\\% && 1787.6 & 321\\%   \\\\ \n",
      "\\hline\n",
      "1000000.0 && 815259.0 & 63564.5 && 3124531.8 & 3078117.7$\\pm$263259.7 & 61.8 & 277\\% && 4.7 & 322\\% && 310\\% && 1230\\% && 1860.7 & 318\\%   \\\\ \n",
      "\n"
     ]
    }
   ],
   "source": [
    "createTable(1,'Table-case-gap-summary1.tex')\n",
    "createTable(2,'Table-case-gap-summary2.tex')"
   ]
  },
  {
   "cell_type": "code",
   "execution_count": null,
   "id": "b85a86e1",
   "metadata": {},
   "outputs": [],
   "source": []
  },
  {
   "cell_type": "code",
   "execution_count": null,
   "id": "68d963db",
   "metadata": {},
   "outputs": [],
   "source": []
  },
  {
   "cell_type": "code",
   "execution_count": null,
   "id": "cf1fe8c1",
   "metadata": {},
   "outputs": [],
   "source": []
  }
 ],
 "metadata": {
  "kernelspec": {
   "display_name": "Python 3 (ipykernel)",
   "language": "python",
   "name": "python3"
  },
  "language_info": {
   "codemirror_mode": {
    "name": "ipython",
    "version": 3
   },
   "file_extension": ".py",
   "mimetype": "text/x-python",
   "name": "python",
   "nbconvert_exporter": "python",
   "pygments_lexer": "ipython3",
   "version": "3.8.12"
  }
 },
 "nbformat": 4,
 "nbformat_minor": 5
}
