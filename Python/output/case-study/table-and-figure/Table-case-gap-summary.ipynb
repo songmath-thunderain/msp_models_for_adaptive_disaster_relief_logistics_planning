{
 "cells": [
  {
   "cell_type": "code",
   "execution_count": 1,
   "id": "eef40f26",
   "metadata": {},
   "outputs": [],
   "source": [
    "import pandas as pd"
   ]
  },
  {
   "cell_type": "code",
   "execution_count": 2,
   "id": "9d8065e6",
   "metadata": {},
   "outputs": [],
   "source": [
    "# Load the CSV file\n",
    "FA = '../FAresults.xlsx'\n",
    "CV = '../CVresults.xlsx'\n",
    "static2SSP = '../static2SSPresults.xlsx'\n",
    "rolling2SSP = '../rolling2SSPresults.xlsx'\n",
    "WS = '../WSresults.xlsx'\n",
    "naiveWS = '../naiveWSresults.xlsx'\n",
    "\n",
    "df_FA = pd.read_excel(FA)\n",
    "df_CV = pd.read_excel(CV)\n",
    "df_s2SSP = pd.read_excel(static2SSP)\n",
    "df_r2SSP = pd.read_excel(rolling2SSP)\n",
    "df_WS = pd.read_excel(WS)\n",
    "df_naiveWS = pd.read_excel(naiveWS)"
   ]
  },
  {
   "cell_type": "code",
   "execution_count": 3,
   "id": "f3b57f47",
   "metadata": {},
   "outputs": [
    {
     "name": "stdout",
     "output_type": "stream",
     "text": [
      "df_CV.shape =  (14, 12)\n"
     ]
    }
   ],
   "source": [
    "if df_CV.shape[0] != df_FA.shape[0] or df_CV.shape[0] != df_s2SSP.shape[0] or df_CV.shape[0] != df_r2SSP.shape[0] or df_CV.shape[0] != df_WS.shape[0]:\n",
    "    print(\"ERROR! # of rows in the data frames are inconsistent!\")\n",
    "else:\n",
    "    print(\"df_CV.shape = \", df_CV.shape)"
   ]
  },
  {
   "cell_type": "code",
   "execution_count": 4,
   "id": "f1207f55",
   "metadata": {},
   "outputs": [],
   "source": [
    "# Do separate tables for different instance_option (-1: deterministic, 0: random) and cost_structure (0: old,1: safetime)"
   ]
  },
  {
   "cell_type": "code",
   "execution_count": 5,
   "id": "b2992f26",
   "metadata": {},
   "outputs": [],
   "source": [
    "def createTable(i_option, outputfile):\n",
    "    df_CV_0 = df_CV[(df_CV['instance_option'] == i_option)]\n",
    "    df_FA_0 = df_FA[(df_FA['instance_option'] == i_option)]\n",
    "    df_s2SSP_0 = df_s2SSP[(df_s2SSP['instance_option'] == i_option)]\n",
    "    df_r2SSP_0 = df_r2SSP[(df_r2SSP['instance_option'] == i_option)]\n",
    "    df_WS_0 = df_WS[(df_WS['instance_option'] == i_option)]\n",
    "    df_naiveWS_0 = df_naiveWS[(df_naiveWS['instance_option'] == i_option)]\n",
    "    df_CV_0.reset_index(drop=True, inplace=True)\n",
    "    df_FA_0.reset_index(drop=True, inplace=True)\n",
    "    df_s2SSP_0.reset_index(drop=True, inplace=True)\n",
    "    df_r2SSP_0.reset_index(drop=True, inplace=True)\n",
    "    df_WS_0.reset_index(drop=True, inplace=True)\n",
    "    df_naiveWS_0.reset_index(drop=True, inplace=True)\n",
    "    tauList = [0, 2, 5, 10, 1e6]\n",
    "\n",
    "    \n",
    "    # Create a LaTeX table string with the specified columns and multi-row header\n",
    "    latex_table_custom = '';\n",
    "    \n",
    "    idx = 0;\n",
    "    for i1 in range(len(tauList)):\n",
    "        CV_val = df_CV_0[\"obj\"][idx] \n",
    "        CV_CI = df_CV_0[\"CI\"][idx] \n",
    "        FA_time = df_FA_0[\"train_time\"][idx]\n",
    "        FA_gap = int((df_FA_0[\"obj\"][idx]-df_CV_0[\"obj\"][idx])/df_CV_0[\"obj\"][idx]*100)\n",
    "        WS_time = df_WS_0[\"train_time\"][idx]\n",
    "        WS_gap = int((df_WS_0[\"obj\"][idx]-df_CV_0[\"obj\"][idx])/df_CV_0[\"obj\"][idx]*100)\n",
    "        r2SSP_gap = int((df_r2SSP_0[\"obj\"][idx]-df_CV_0[\"obj\"][idx])/df_CV_0[\"obj\"][idx]*100)\n",
    "        s2SSP_time = df_s2SSP_0[\"train_time\"][idx]\n",
    "        s2SSP_gap = int((df_s2SSP_0[\"obj\"][idx]-df_CV_0[\"obj\"][idx])/df_CV_0[\"obj\"][idx]*100)\n",
    "        naiveWS_time = df_naiveWS_0[\"train_time\"][idx]\n",
    "        naiveWS_gap = int((df_naiveWS_0[\"obj\"][idx]-df_CV_0[\"obj\"][idx])/df_CV_0[\"obj\"][idx]*100)\n",
    "\n",
    "        latex_table_custom += f\"{tauList[i1]} && {round(CV_val,1)} & {round(CV_CI,1)} && {round(FA_time,1)} & {FA_gap}\\\\% && {round(s2SSP_time,1)} & {s2SSP_gap}\\\\% && {r2SSP_gap}\\\\% && {round(naiveWS_time,1)} & {naiveWS_gap}\\\\% && {round(WS_time,1)} & {WS_gap}\\\\%   \\\\\\\\ \\n\"\n",
    "        \n",
    "        idx += 1;\n",
    "        if i1 != len(tauList)-1:\n",
    "            latex_table_custom += \"\\\\hline\\n\"\n",
    "\n",
    "    print(latex_table_custom)        \n",
    "    # Save to a new .tex file\n",
    "    with open(outputfile, 'w') as f:\n",
    "        f.write(latex_table_custom)"
   ]
  },
  {
   "cell_type": "code",
   "execution_count": 6,
   "id": "992bac7b",
   "metadata": {},
   "outputs": [
    {
     "name": "stdout",
     "output_type": "stream",
     "text": [
      "0 && 686620.0 & 46943.2 && 160.8 & 157\\% && 0.1 & 321\\% && 159\\% && 13.7 & 276\\% && 13.7 & 217\\%   \\\\ \n",
      "\\hline\n",
      "2 && 748325.1 & 51070.7 && 177.8 & 182\\% && 0.1 & 325\\% && 205\\% && 13.9 & 389\\% && 13.6 & 266\\%   \\\\ \n",
      "\\hline\n",
      "5 && 748010.6 & 51049.7 && 193.9 & 214\\% && 0.1 & 325\\% && 216\\% && 13.5 & 677\\% && 13.5 & 265\\%   \\\\ \n",
      "\\hline\n",
      "10 && 747486.3 & 51014.6 && 132.7 & 233\\% && 0.1 & 326\\% && 229\\% && 13.8 & 998\\% && 13.8 & 267\\%   \\\\ \n",
      "\\hline\n",
      "1000000.0 && 748430.0 & 51077.8 && 126.2 & 229\\% && 0.1 & 325\\% && 232\\% && 14.3 & 1434\\% && 12.5 & 267\\%   \\\\ \n",
      "\n",
      "0 && 594303.9 & 46775.5 && 88.9 & 116\\% && 0.1 & 324\\% && 252\\% && 406.8 & 535\\% && 23.8 & 304\\%   \\\\ \n",
      "\\hline\n",
      "2 && 635421.6 & 49699.5 && 45.1 & 150\\% && 5.2 & 314\\% && 249\\% && 439.4 & 626\\% && 405.4 & 344\\%   \\\\ \n",
      "\\hline\n",
      "5 && 635149.6 & 49678.4 && 43.5 & 181\\% && 5.1 & 314\\% && 322\\% && 426.0 & 925\\% && 400.8 & 350\\%   \\\\ \n",
      "\\hline\n",
      "10 && 634696.3 & 49643.4 && 54.8 & 202\\% && 5.0 & 315\\% && 318\\% && 425.1 & 1223\\% && 401.4 & 349\\%   \\\\ \n",
      "\\hline\n",
      "1000000.0 && 635512.2 & 49706.5 && 39.6 & 199\\% && 5.1 & 314\\% && 336\\% && 408.6 & 1568\\% && 400.0 & 349\\%   \\\\ \n",
      "\n"
     ]
    }
   ],
   "source": [
    "createTable(1,'Table-case-gap-summary1.tex')\n",
    "createTable(2,'Table-case-gap-summary2.tex')"
   ]
  },
  {
   "cell_type": "code",
   "execution_count": null,
   "id": "b85a86e1",
   "metadata": {},
   "outputs": [],
   "source": []
  },
  {
   "cell_type": "code",
   "execution_count": null,
   "id": "68d963db",
   "metadata": {},
   "outputs": [],
   "source": []
  },
  {
   "cell_type": "code",
   "execution_count": null,
   "id": "cf1fe8c1",
   "metadata": {},
   "outputs": [],
   "source": []
  }
 ],
 "metadata": {
  "kernelspec": {
   "display_name": "Python 3 (ipykernel)",
   "language": "python",
   "name": "python3"
  },
  "language_info": {
   "codemirror_mode": {
    "name": "ipython",
    "version": 3
   },
   "file_extension": ".py",
   "mimetype": "text/x-python",
   "name": "python",
   "nbconvert_exporter": "python",
   "pygments_lexer": "ipython3",
   "version": "3.8.12"
  }
 },
 "nbformat": 4,
 "nbformat_minor": 5
}
