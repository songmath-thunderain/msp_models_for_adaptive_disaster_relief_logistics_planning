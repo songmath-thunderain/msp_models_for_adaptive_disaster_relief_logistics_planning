{
 "cells": [
  {
   "cell_type": "code",
   "execution_count": null,
   "id": "74457797",
   "metadata": {},
   "outputs": [],
   "source": [
    "import numpy as np\n",
    "import matplotlib.pyplot as plt"
   ]
  },
  {
   "cell_type": "code",
   "execution_count": null,
   "id": "ff0e84dc",
   "metadata": {},
   "outputs": [],
   "source": [
    "# Function to find the absorption period for a given row\n",
    "def find_absorption_period(row):\n",
    "    for i in range(1, len(row)):\n",
    "        if np.all(row[i:] == row[i-1]):\n",
    "            return i\n",
    "    return len(row) - 1\n",
    "\n",
    "# Calculate the absorption periods for all samples\n",
    "absorption_periods = data.apply(find_absorption_period, axis=1)\n",
    "\n",
    "# Create the histogram with integer ticks on the x-axis\n",
    "plt.figure(figsize=(10, 6))\n",
    "plt.hist(absorption_periods, bins=np.arange(absorption_periods.min(), absorption_periods.max() + 2) - 0.5, edgecolor='black')\n",
    "plt.title('Histogram of Absorption Periods')\n",
    "plt.xlabel('Periods until Absorption')\n",
    "plt.ylabel('Frequency')\n",
    "plt.xticks(range(absorption_periods.min(), absorption_periods.max() + 1))\n",
    "plt.grid(True)\n",
    "plt.show()"
   ]
  }
 ],
 "metadata": {
  "kernelspec": {
   "display_name": "Python 3 (ipykernel)",
   "language": "python",
   "name": "python3"
  },
  "language_info": {
   "codemirror_mode": {
    "name": "ipython",
    "version": 3
   },
   "file_extension": ".py",
   "mimetype": "text/x-python",
   "name": "python",
   "nbconvert_exporter": "python",
   "pygments_lexer": "ipython3",
   "version": "3.8.12"
  }
 },
 "nbformat": 4,
 "nbformat_minor": 5
}
