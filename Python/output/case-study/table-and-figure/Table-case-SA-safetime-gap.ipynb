{
 "cells": [
  {
   "cell_type": "code",
   "execution_count": 1,
   "id": "eef40f26",
   "metadata": {},
   "outputs": [],
   "source": [
    "import pandas as pd"
   ]
  },
  {
   "cell_type": "code",
   "execution_count": 2,
   "id": "9d8065e6",
   "metadata": {},
   "outputs": [],
   "source": [
    "# Load the CSV file\n",
    "FA = '../st_SA_FAresults.xlsx'\n",
    "CV = '../st_SA_CVresults.xlsx'\n",
    "static2SSP = '../st_SA_static2SSPresults.xlsx'\n",
    "#rolling2SSP = '../rolling2SSPresults.xlsx'\n",
    "WS = '../st_SA_WSresults.xlsx'\n",
    "naiveWS = '../st_SA_naiveWSresults.xlsx'\n",
    "\n",
    "df_FA = pd.read_excel(FA)\n",
    "df_CV = pd.read_excel(CV)\n",
    "df_s2SSP = pd.read_excel(static2SSP)\n",
    "#df_r2SSP = pd.read_excel(rolling2SSP)\n",
    "df_WS = pd.read_excel(WS)\n",
    "df_naiveWS = pd.read_excel(naiveWS)"
   ]
  },
  {
   "cell_type": "code",
   "execution_count": 3,
   "id": "f1207f55",
   "metadata": {},
   "outputs": [],
   "source": [
    "# Do separate tables for different instance_option (-1: deterministic, 0: random) and cost_structure (0: old,1: safetime)"
   ]
  },
  {
   "cell_type": "code",
   "execution_count": 4,
   "id": "b2992f26",
   "metadata": {},
   "outputs": [],
   "source": [
    "def createTable(i_option, outputfile):\n",
    "    df_CV_0 = df_CV[(df_CV['instance_option'] == i_option)]\n",
    "    df_FA_0 = df_FA[(df_FA['instance_option'] == i_option)]\n",
    "    df_s2SSP_0 = df_s2SSP[(df_s2SSP['instance_option'] == i_option)]\n",
    "    #df_r2SSP_0 = df_r2SSP[(df_r2SSP['instance_option'] == i_option)]\n",
    "    df_WS_0 = df_WS[(df_WS['instance_option'] == i_option)]\n",
    "    df_naiveWS_0 = df_naiveWS[(df_naiveWS['instance_option'] == i_option)]\n",
    "    df_CV_0.reset_index(drop=True, inplace=True)\n",
    "    df_FA_0.reset_index(drop=True, inplace=True)\n",
    "    df_s2SSP_0.reset_index(drop=True, inplace=True)\n",
    "    #df_r2SSP_0.reset_index(drop=True, inplace=True)\n",
    "    df_WS_0.reset_index(drop=True, inplace=True)\n",
    "    df_naiveWS_0.reset_index(drop=True, inplace=True)\n",
    "    \n",
    "    tauList = [1,2,3,4]\n",
    "\n",
    "    \n",
    "    # Create a LaTeX table string with the specified columns and multi-row header\n",
    "    latex_table_custom = '';\n",
    "    \n",
    "    idx = 0;\n",
    "    for i1 in range(len(tauList)):\n",
    "        idx = i1\n",
    "        CV_val = df_CV_0[\"obj\"][idx] \n",
    "        FA_val = df_FA_0[\"obj\"][idx]\n",
    "        FA_gap = int((df_FA_0[\"obj\"][idx]-df_CV_0[\"obj\"][idx])/df_CV_0[\"obj\"][idx]*100)\n",
    "        WS_val = df_WS_0[\"obj\"][idx]\n",
    "        WS_gap = int((df_WS_0[\"obj\"][idx]-df_CV_0[\"obj\"][idx])/df_CV_0[\"obj\"][idx]*100)\n",
    "        #r2SSP_val = df_r2SSP_0[\"obj\"][idx]\n",
    "        #r2SSP_gap = int((df_r2SSP_0[\"obj\"][idx]-df_CV_0[\"obj\"][idx])/df_CV_0[\"obj\"][idx]*100)\n",
    "        s2SSP_val = df_s2SSP_0[\"obj\"][idx]\n",
    "        s2SSP_gap = int((df_s2SSP_0[\"obj\"][idx]-df_CV_0[\"obj\"][idx])/df_CV_0[\"obj\"][idx]*100)\n",
    "        naiveWS_val = df_naiveWS_0[\"obj\"][idx]\n",
    "        naiveWS_gap = int((df_naiveWS_0[\"obj\"][idx]-df_CV_0[\"obj\"][idx])/df_CV_0[\"obj\"][idx]*100)\n",
    "\n",
    "        latex_table_custom += f\"{tauList[i1]} && {round(CV_val/1000,1)}K && ({round(FA_val/1000,1)}K, {FA_gap}\\\\%) && ({round(s2SSP_val/1000,1)}K, {s2SSP_gap}\\\\%) && ({round(naiveWS_val/1000,1)}K, {naiveWS_gap}\\\\%) && ({round(WS_val/1000,1)}K, {WS_gap}\\\\%)   \\\\\\\\ \\n\"\n",
    "        #latex_table_custom += f\"{tauList[i1]} && {round(CV_val/1000,1)}K && ({round(FA_val/1000,1)}K, {FA_gap}\\\\%) && ({round(s2SSP_val/1000,1)}K, {s2SSP_gap}\\\\%) && ({round(r2SSP_val/1000,1)}K, {r2SSP_gap}\\\\%) && ({round(WS_val/1000,1)}K, {WS_gap}\\\\%)   \\\\\\\\ \\n\"\n",
    "        if i1 != len(tauList)-1:\n",
    "            latex_table_custom += \"\\\\hline\\n\"\n",
    "\n",
    "    print(latex_table_custom)        \n",
    "    # Save to a new .tex file\n",
    "    with open(outputfile, 'w') as f:\n",
    "        f.write(latex_table_custom)"
   ]
  },
  {
   "cell_type": "code",
   "execution_count": 5,
   "id": "992bac7b",
   "metadata": {},
   "outputs": [
    {
     "name": "stdout",
     "output_type": "stream",
     "text": [
      "1 && 926.8K && (2696.3K, 190\\%) && (3834.3K, 313\\%) && (11649.2K, 1156\\%) && (3069.4K, 231\\%)   \\\\ \n",
      "\\hline\n",
      "2 && 957.7K && (3100.4K, 223\\%) && (3962.3K, 313\\%) && (11735.8K, 1125\\%) && (3467.3K, 262\\%)   \\\\ \n",
      "\\hline\n",
      "3 && 988.6K && (3466.9K, 250\\%) && (4090.2K, 313\\%) && (11771.4K, 1090\\%) && (3629.6K, 267\\%)   \\\\ \n",
      "\\hline\n",
      "4 && 1019.5K && (3667.5K, 259\\%) && (4218.2K, 313\\%) && (11815.0K, 1058\\%) && (3723.8K, 265\\%)   \\\\ \n",
      "\n",
      "1 && 788.5K && (2568.5K, 225\\%) && (3323.9K, 321\\%) && (10793.3K, 1268\\%) && (3257.0K, 313\\%)   \\\\ \n",
      "\\hline\n",
      "2 && 815.3K && (3078.1K, 277\\%) && (3443.0K, 322\\%) && (10848.6K, 1230\\%) && (3541.0K, 334\\%)   \\\\ \n",
      "\\hline\n",
      "3 && 842.0K && (3293.9K, 291\\%) && (3562.2K, 323\\%) && (10903.2K, 1194\\%) && (3611.5K, 328\\%)   \\\\ \n",
      "\\hline\n",
      "4 && 868.7K && (3494.9K, 302\\%) && (3681.3K, 323\\%) && (10932.3K, 1158\\%) && (3773.4K, 334\\%)   \\\\ \n",
      "\n"
     ]
    }
   ],
   "source": [
    "createTable(1,'Table-case-SA-safetime1.tex')\n",
    "createTable(2,'Table-case-SA-safetime2.tex')"
   ]
  },
  {
   "cell_type": "code",
   "execution_count": null,
   "id": "b85a86e1",
   "metadata": {},
   "outputs": [],
   "source": []
  },
  {
   "cell_type": "code",
   "execution_count": null,
   "id": "68d963db",
   "metadata": {},
   "outputs": [],
   "source": []
  },
  {
   "cell_type": "code",
   "execution_count": null,
   "id": "cf1fe8c1",
   "metadata": {},
   "outputs": [],
   "source": []
  }
 ],
 "metadata": {
  "kernelspec": {
   "display_name": "Python 3 (ipykernel)",
   "language": "python",
   "name": "python3"
  },
  "language_info": {
   "codemirror_mode": {
    "name": "ipython",
    "version": 3
   },
   "file_extension": ".py",
   "mimetype": "text/x-python",
   "name": "python",
   "nbconvert_exporter": "python",
   "pygments_lexer": "ipython3",
   "version": "3.11.7"
  }
 },
 "nbformat": 4,
 "nbformat_minor": 5
}
