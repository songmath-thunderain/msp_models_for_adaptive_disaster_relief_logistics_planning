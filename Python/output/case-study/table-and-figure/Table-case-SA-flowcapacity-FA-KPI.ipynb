{
 "cells": [
  {
   "cell_type": "code",
   "execution_count": 1,
   "id": "eef40f26",
   "metadata": {},
   "outputs": [],
   "source": [
    "import pandas as pd"
   ]
  },
  {
   "cell_type": "code",
   "execution_count": 2,
   "id": "9d8065e6",
   "metadata": {},
   "outputs": [],
   "source": [
    "# Load the CSV file\n",
    "FA_SA = '../FC_SA_FAresults-KPI.xlsx'\n",
    "\n",
    "df_FA_SA = pd.read_excel(FA_SA)"
   ]
  },
  {
   "cell_type": "code",
   "execution_count": 3,
   "id": "f1207f55",
   "metadata": {},
   "outputs": [],
   "source": [
    "# Do separate tables for different instance_option (-1: deterministic, 0: random) and cost_structure (0: old,1: safetime)"
   ]
  },
  {
   "cell_type": "code",
   "execution_count": 4,
   "id": "b2992f26",
   "metadata": {},
   "outputs": [],
   "source": [
    "def createTable(i_option, outputfile):\n",
    "    \n",
    "    df_FA_0_SA = df_FA_SA[(df_FA_SA['instance_option'] == i_option)]\n",
    "    \n",
    "    df_FA_0_SA.reset_index(drop=True, inplace=True)\n",
    "    \n",
    "    tauList = [0.25, 0.5, 1, 2, 4]\n",
    "\n",
    "    \n",
    "    # Create a LaTeX table string with the specified columns and multi-row header\n",
    "    latex_table_custom = '';\n",
    "    \n",
    "    if i_option == 1:\n",
    "        T = 10;\n",
    "    elif i_option == 2:\n",
    "        T = 12;\n",
    "    \n",
    "    idx = 0;\n",
    "    for i1 in range(len(tauList)):\n",
    "        tempList = df_FA_0_SA.iloc[[idx]].values.tolist()[0]\n",
    "        rowstring = f\"{tauList[i1]}\";\n",
    "        for t in range(T):\n",
    "            rowstring += f\" && ({round(tempList[t+3+T]*100,1)}\\%,{round(tempList[t+3+2*T]/1000,1)}K)\";\n",
    "        latex_table_custom += rowstring + f\"\\\\\\\\ \\n\"\n",
    "\n",
    "        idx += 1;\n",
    "    \n",
    "        if i1 != len(tauList)-1:\n",
    "            latex_table_custom += \"\\\\hline\\n\"\n",
    "\n",
    "    print(latex_table_custom)        \n",
    "    # Save to a new .tex file\n",
    "    with open(outputfile, 'w') as f:\n",
    "        f.write(latex_table_custom)"
   ]
  },
  {
   "cell_type": "code",
   "execution_count": 5,
   "id": "992bac7b",
   "metadata": {},
   "outputs": [
    {
     "name": "stdout",
     "output_type": "stream",
     "text": [
      "0.25 && (100.0\\%,8.5K) && (100.0\\%,8.5K) && (100.0\\%,8.5K) && (100.0\\%,8.5K) && (98.0\\%,8.3K) && (88.2\\%,8.4K) && (79.1\\%,8.2K) && (0.0\\%,0.0K) && (0.0\\%,0.0K) && (0.0\\%,0.0K)\\\\ \n",
      "\\hline\n",
      "0.5 && (100.0\\%,17.0K) && (48.9\\%,17.0K) && (94.8\\%,12.0K) && (100.0\\%,14.6K) && (91.5\\%,14.2K) && (75.5\\%,15.1K) && (63.2\\%,14.1K) && (0.0\\%,0.0K) && (0.0\\%,0.0K) && (0.0\\%,0.0K)\\\\ \n",
      "\\hline\n",
      "1 && (0.0\\%,0.0K) && (0.0\\%,0.0K) && (0.0\\%,0.0K) && (63.3\\%,23.1K) && (100.0\\%,27.4K) && (91.7\\%,25.9K) && (80.8\\%,23.8K) && (0.0\\%,0.0K) && (0.0\\%,0.0K) && (0.0\\%,0.0K)\\\\ \n",
      "\\hline\n",
      "2 && (0.0\\%,0.0K) && (0.0\\%,0.0K) && (0.0\\%,0.0K) && (0.0\\%,0.0K) && (8.9\\%,13.7K) && (92.1\\%,42.2K) && (99.8\\%,45.3K) && (0.0\\%,0.0K) && (0.0\\%,0.0K) && (0.0\\%,0.0K)\\\\ \n",
      "\\hline\n",
      "4 && (0.0\\%,0.0K) && (0.0\\%,0.0K) && (0.0\\%,0.0K) && (0.0\\%,0.0K) && (0.0\\%,0.0K) && (12.7\\%,14.0K) && (100.0\\%,83.8K) && (0.0\\%,0.0K) && (0.0\\%,0.0K) && (0.0\\%,0.0K)\\\\ \n",
      "\n",
      "0.25 && (100.0\\%,8.5K) && (100.0\\%,8.5K) && (100.0\\%,8.5K) && (100.0\\%,8.5K) && (100.0\\%,8.5K) && (100.0\\%,8.4K) && (94.2\\%,8.1K) && (82.7\\%,7.3K) && (67.9\\%,7.8K) && (0.0\\%,0.0K) && (0.0\\%,0.0K) && (0.0\\%,0.0K)\\\\ \n",
      "\\hline\n",
      "0.5 && (0.0\\%,0.0K) && (0.0\\%,0.0K) && (100.0\\%,4.4K) && (100.0\\%,17.0K) && (100.0\\%,17.0K) && (95.6\\%,17.0K) && (91.5\\%,14.1K) && (72.8\\%,13.8K) && (61.3\\%,12.3K) && (0.0\\%,0.0K) && (0.0\\%,0.0K) && (0.0\\%,0.0K)\\\\ \n",
      "\\hline\n",
      "1 && (0.0\\%,0.0K) && (0.0\\%,0.0K) && (0.0\\%,0.0K) && (0.0\\%,0.0K) && (2.0\\%,21.3K) && (99.7\\%,6.2K) && (99.8\\%,30.6K) && (93.2\\%,27.0K) && (80.5\\%,23.0K) && (0.0\\%,0.0K) && (0.0\\%,0.0K) && (0.0\\%,0.0K)\\\\ \n",
      "\\hline\n",
      "2 && (0.0\\%,0.0K) && (0.0\\%,0.0K) && (0.0\\%,0.0K) && (0.0\\%,0.0K) && (0.0\\%,0.0K) && (0.0\\%,0.0K) && (4.9\\%,27.6K) && (91.5\\%,40.1K) && (96.8\\%,43.6K) && (0.0\\%,0.0K) && (0.0\\%,0.0K) && (0.0\\%,0.0K)\\\\ \n",
      "\\hline\n",
      "4 && (0.0\\%,0.0K) && (0.0\\%,0.0K) && (0.0\\%,0.0K) && (0.0\\%,0.0K) && (0.0\\%,0.0K) && (0.0\\%,0.0K) && (0.0\\%,0.0K) && (8.2\\%,32.6K) && (100.0\\%,77.6K) && (0.0\\%,0.0K) && (0.0\\%,0.0K) && (0.0\\%,0.0K)\\\\ \n",
      "\n"
     ]
    }
   ],
   "source": [
    "createTable(1,'Table-case-SA-flowcapacity-FA-KPI-1.tex')\n",
    "createTable(2,'Table-case-SA-flowcapacity-FA-KPI-2.tex')"
   ]
  },
  {
   "cell_type": "code",
   "execution_count": null,
   "id": "b85a86e1",
   "metadata": {},
   "outputs": [],
   "source": []
  },
  {
   "cell_type": "code",
   "execution_count": null,
   "id": "68d963db",
   "metadata": {},
   "outputs": [],
   "source": []
  },
  {
   "cell_type": "code",
   "execution_count": null,
   "id": "cf1fe8c1",
   "metadata": {},
   "outputs": [],
   "source": []
  }
 ],
 "metadata": {
  "kernelspec": {
   "display_name": "Python 3 (ipykernel)",
   "language": "python",
   "name": "python3"
  },
  "language_info": {
   "codemirror_mode": {
    "name": "ipython",
    "version": 3
   },
   "file_extension": ".py",
   "mimetype": "text/x-python",
   "name": "python",
   "nbconvert_exporter": "python",
   "pygments_lexer": "ipython3",
   "version": "3.11.7"
  }
 },
 "nbformat": 4,
 "nbformat_minor": 5
}
