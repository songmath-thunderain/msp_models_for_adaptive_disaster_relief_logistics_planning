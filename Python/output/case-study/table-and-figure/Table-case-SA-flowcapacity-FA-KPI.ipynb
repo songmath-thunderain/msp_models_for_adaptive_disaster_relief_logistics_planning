{
 "cells": [
  {
   "cell_type": "code",
   "execution_count": 1,
   "id": "eef40f26",
   "metadata": {},
   "outputs": [],
   "source": [
    "import pandas as pd"
   ]
  },
  {
   "cell_type": "code",
   "execution_count": 2,
   "id": "9d8065e6",
   "metadata": {},
   "outputs": [],
   "source": [
    "# Load the CSV file\n",
    "FA_SA = '../FC_SA_FAresults-KPI.xlsx'\n",
    "\n",
    "df_FA_SA = pd.read_excel(FA_SA)"
   ]
  },
  {
   "cell_type": "code",
   "execution_count": 3,
   "id": "f1207f55",
   "metadata": {},
   "outputs": [],
   "source": [
    "# Do separate tables for different instance_option (-1: deterministic, 0: random) and cost_structure (0: old,1: safetime)"
   ]
  },
  {
   "cell_type": "code",
   "execution_count": 4,
   "id": "b2992f26",
   "metadata": {},
   "outputs": [],
   "source": [
    "def createTable(i_option, outputfile):\n",
    "    \n",
    "    df_FA_0_SA = df_FA_SA[(df_FA_SA['instance_option'] == i_option)]\n",
    "    \n",
    "    df_FA_0_SA.reset_index(drop=True, inplace=True)\n",
    "    \n",
    "    tauList = [0.25, 0.5, 1, 2, 4]\n",
    "\n",
    "    \n",
    "    # Create a LaTeX table string with the specified columns and multi-row header\n",
    "    latex_table_custom = '';\n",
    "    \n",
    "    if i_option == 1:\n",
    "        T = 10;\n",
    "    elif i_option == 2:\n",
    "        T = 12;\n",
    "    \n",
    "    idx = 0;\n",
    "    for i1 in range(len(tauList)):\n",
    "        rowstring = f\"{tauList[i1]}\";\n",
    "        for t in range(T):\n",
    "            rowstring += f\" && ({round(df_FA_0_SA.iloc[[idx]].values.tolist()[0][t+3+T]*100,1)}\\%,{round(df_FA_0_SA.iloc[[idx]].values.tolist()[0][t+3+2*T],1)})\";\n",
    "        latex_table_custom += rowstring + f\"\\\\\\\\ \\n\"\n",
    "\n",
    "        idx += 1;\n",
    "    \n",
    "        if i1 != len(tauList)-1:\n",
    "            latex_table_custom += \"\\\\hline\\n\"\n",
    "\n",
    "    print(latex_table_custom)        \n",
    "    # Save to a new .tex file\n",
    "    with open(outputfile, 'w') as f:\n",
    "        f.write(latex_table_custom)"
   ]
  },
  {
   "cell_type": "code",
   "execution_count": 5,
   "id": "992bac7b",
   "metadata": {},
   "outputs": [
    {
     "name": "stdout",
     "output_type": "stream",
     "text": [
      "0.25 && (100.0\\%,8500.0) && (100.0\\%,8500.0) && (100.0\\%,8500.0) && (100.0\\%,8500.0) && (98.0\\%,8365.0) && (92.3\\%,8314.1) && (86.0\\%,8134.4) && (0.0\\%,0.0) && (0.0\\%,0.0) && (0.0\\%,0.0)\\\\ \n",
      "\\hline\n",
      "0.5 && (100.0\\%,17000.0) && (48.9\\%,17000.0) && (100.0\\%,12931.7) && (99.0\\%,15052.6) && (94.4\\%,14667.3) && (72.7\\%,15127.8) && (67.5\\%,13848.7) && (0.0\\%,0.0) && (0.0\\%,0.0) && (0.0\\%,0.0)\\\\ \n",
      "\\hline\n",
      "1 && (0.0\\%,0.0) && (0.0\\%,0.0) && (2.9\\%,11311.7) && (63.3\\%,24163.1) && (98.0\\%,28231.8) && (94.8\\%,26243.3) && (83.5\\%,23725.8) && (0.0\\%,0.0) && (0.0\\%,0.0) && (0.0\\%,0.0)\\\\ \n",
      "\\hline\n",
      "2 && (0.0\\%,0.0) && (0.0\\%,0.0) && (0.0\\%,0.0) && (0.0\\%,0.0) && (10.0\\%,26413.5) && (92.3\\%,41363.4) && (99.7\\%,47362.7) && (0.0\\%,0.0) && (0.0\\%,0.0) && (0.0\\%,0.0)\\\\ \n",
      "\\hline\n",
      "4 && (0.0\\%,0.0) && (0.0\\%,0.0) && (0.0\\%,0.0) && (0.0\\%,0.0) && (0.0\\%,0.0) && (12.7\\%,27399.2) && (100.0\\%,85128.4) && (0.0\\%,0.0) && (0.0\\%,0.0) && (0.0\\%,0.0)\\\\ \n",
      "\n",
      "0.25 && (100.0\\%,8365.0) && (100.0\\%,8314.1) && (98.0\\%,8134.4) && (92.3\\%,0.0) && (86.0\\%,0.0) && (0.0\\%,0.0) && (0.0\\%,0.0) && (0.0\\%,0.0) && (850000.0\\%,0.0) && (850000.0\\%,0.0) && (850000.0\\%,16.0) && (850000.0\\%,5.4)\\\\ \n",
      "\\hline\n",
      "0.5 && (100.0\\%,14667.3) && (99.0\\%,15127.8) && (94.4\\%,13848.7) && (72.7\\%,0.0) && (67.5\\%,0.0) && (0.0\\%,0.0) && (0.0\\%,0.0) && (0.0\\%,0.0) && (1700000.0\\%,0.0) && (1700000.0\\%,0.0) && (1293170.0\\%,0.0) && (1505256.5\\%,0.0)\\\\ \n",
      "\\hline\n",
      "1 && (2.9\\%,28231.8) && (63.3\\%,26243.3) && (98.0\\%,23725.8) && (94.8\\%,0.0) && (83.5\\%,0.0) && (0.0\\%,0.0) && (0.0\\%,0.0) && (0.0\\%,0.0) && (0.0\\%,0.0) && (0.0\\%,0.0) && (1131171.0\\%,0.0) && (2416309.9\\%,1.6)\\\\ \n",
      "\\hline\n",
      "2 && (0.0\\%,26413.5) && (0.0\\%,41363.4) && (10.0\\%,47362.7) && (92.3\\%,0.0) && (99.7\\%,0.0) && (0.0\\%,0.0) && (0.0\\%,0.0) && (0.0\\%,0.0) && (0.0\\%,0.0) && (0.0\\%,0.0) && (0.0\\%,0.0) && (0.0\\%,1.6)\\\\ \n",
      "\\hline\n",
      "4 && (0.0\\%,0.0) && (0.0\\%,27399.2) && (0.0\\%,85128.4) && (12.7\\%,0.0) && (100.0\\%,0.0) && (0.0\\%,0.0) && (0.0\\%,0.0) && (0.0\\%,0.0) && (0.0\\%,0.0) && (0.0\\%,0.0) && (0.0\\%,0.0) && (0.0\\%,0.0)\\\\ \n",
      "\n"
     ]
    }
   ],
   "source": [
    "createTable(1,'Table-case-SA-flowcapacity-FA-KPI-1.tex')\n",
    "createTable(2,'Table-case-SA-flowcapacity-FA-KPI-2.tex')"
   ]
  },
  {
   "cell_type": "code",
   "execution_count": null,
   "id": "b85a86e1",
   "metadata": {},
   "outputs": [],
   "source": []
  },
  {
   "cell_type": "code",
   "execution_count": null,
   "id": "68d963db",
   "metadata": {},
   "outputs": [],
   "source": []
  },
  {
   "cell_type": "code",
   "execution_count": null,
   "id": "cf1fe8c1",
   "metadata": {},
   "outputs": [],
   "source": []
  }
 ],
 "metadata": {
  "kernelspec": {
   "display_name": "Python 3 (ipykernel)",
   "language": "python",
   "name": "python3"
  },
  "language_info": {
   "codemirror_mode": {
    "name": "ipython",
    "version": 3
   },
   "file_extension": ".py",
   "mimetype": "text/x-python",
   "name": "python",
   "nbconvert_exporter": "python",
   "pygments_lexer": "ipython3",
   "version": "3.11.7"
  }
 },
 "nbformat": 4,
 "nbformat_minor": 5
}
