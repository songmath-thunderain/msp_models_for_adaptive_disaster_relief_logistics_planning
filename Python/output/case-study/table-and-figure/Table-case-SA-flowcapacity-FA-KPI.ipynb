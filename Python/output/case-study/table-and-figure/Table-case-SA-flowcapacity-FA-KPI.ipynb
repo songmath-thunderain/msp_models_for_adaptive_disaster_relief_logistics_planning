{
 "cells": [
  {
   "cell_type": "code",
   "execution_count": 1,
   "id": "eef40f26",
   "metadata": {},
   "outputs": [],
   "source": [
    "import pandas as pd"
   ]
  },
  {
   "cell_type": "code",
   "execution_count": 2,
   "id": "9d8065e6",
   "metadata": {},
   "outputs": [],
   "source": [
    "# Load the CSV file\n",
    "FA_SA = '../FC_SA_FAresults-KPI.xlsx'\n",
    "\n",
    "df_FA_SA = pd.read_excel(FA_SA)"
   ]
  },
  {
   "cell_type": "code",
   "execution_count": 3,
   "id": "f1207f55",
   "metadata": {},
   "outputs": [],
   "source": [
    "# Do separate tables for different instance_option (-1: deterministic, 0: random) and cost_structure (0: old,1: safetime)"
   ]
  },
  {
   "cell_type": "code",
   "execution_count": 4,
   "id": "b2992f26",
   "metadata": {},
   "outputs": [],
   "source": [
    "def createTable(i_option, outputfile):\n",
    "    \n",
    "    df_FA_0_SA = df_FA_SA[(df_FA_SA['instance_option'] == i_option)]\n",
    "    \n",
    "    df_FA_0_SA.reset_index(drop=True, inplace=True)\n",
    "    \n",
    "    tauList = [0.25, 0.5, 1, 2, 4]\n",
    "\n",
    "    \n",
    "    # Create a LaTeX table string with the specified columns and multi-row header\n",
    "    latex_table_custom = '';\n",
    "    \n",
    "    if i_option == 1:\n",
    "        T = 10;\n",
    "    elif i_option == 2:\n",
    "        T = 12;\n",
    "    \n",
    "    idx = 0;\n",
    "    for i1 in range(len(tauList)):\n",
    "        rowstring = f\"{tauList[i1]}\";\n",
    "        for t in range(T):\n",
    "            rowstring += f\" && ({round(df_FA_SA.iloc[[idx]].values.tolist()[0][t+3]*100,1)}\\\\%,{round(df_FA_SA.iloc[[idx]].values.tolist()[0][t+3+T],1)})\";\n",
    "\n",
    "        latex_table_custom = rowstring + f\"\\\\\\\\ \\n\"\n",
    "\n",
    "        idx += 1;\n",
    "    \n",
    "        if i1 != len(tauList)-1:\n",
    "            latex_table_custom += \"\\\\hline\\n\"\n",
    "\n",
    "    print(latex_table_custom)        \n",
    "    # Save to a new .tex file\n",
    "    with open(outputfile, 'w') as f:\n",
    "        f.write(latex_table_custom)"
   ]
  },
  {
   "cell_type": "code",
   "execution_count": 5,
   "id": "992bac7b",
   "metadata": {},
   "outputs": [
    {
     "name": "stdout",
     "output_type": "stream",
     "text": [
      "4 && (0.0\\%,0.0) && (0.0\\%,0.0) && (0.0\\%,0.0) && (0.0\\%,0.0) && (0.0\\%,0.0) && (347969.2\\%,0.1) && (8512838.4\\%,1.0) && (0.0\\%,0.0) && (0.0\\%,0.0) && (0.0\\%,0.0)\\\\ \n",
      "\n",
      "4 && (0.0\\%,0.0) && (0.0\\%,0.0) && (0.0\\%,0.0) && (0.0\\%,0.1) && (0.0\\%,1.0) && (347969.2\\%,0.0) && (8512838.4\\%,0.0) && (0.0\\%,0.0) && (0.0\\%,0.0) && (0.0\\%,0.0) && (0.0\\%,0.0) && (0.0\\%,0.0)\\\\ \n",
      "\n"
     ]
    }
   ],
   "source": [
    "createTable(1,'Table-case-SA-flowcapacity-FA-KPI-1.tex')\n",
    "createTable(2,'Table-case-SA-flowcapacity-FA-KPI-2.tex')"
   ]
  },
  {
   "cell_type": "code",
   "execution_count": null,
   "id": "b85a86e1",
   "metadata": {},
   "outputs": [],
   "source": []
  },
  {
   "cell_type": "code",
   "execution_count": null,
   "id": "68d963db",
   "metadata": {},
   "outputs": [],
   "source": []
  },
  {
   "cell_type": "code",
   "execution_count": null,
   "id": "cf1fe8c1",
   "metadata": {},
   "outputs": [],
   "source": []
  }
 ],
 "metadata": {
  "kernelspec": {
   "display_name": "Python 3 (ipykernel)",
   "language": "python",
   "name": "python3"
  },
  "language_info": {
   "codemirror_mode": {
    "name": "ipython",
    "version": 3
   },
   "file_extension": ".py",
   "mimetype": "text/x-python",
   "name": "python",
   "nbconvert_exporter": "python",
   "pygments_lexer": "ipython3",
   "version": "3.8.12"
  }
 },
 "nbformat": 4,
 "nbformat_minor": 5
}
