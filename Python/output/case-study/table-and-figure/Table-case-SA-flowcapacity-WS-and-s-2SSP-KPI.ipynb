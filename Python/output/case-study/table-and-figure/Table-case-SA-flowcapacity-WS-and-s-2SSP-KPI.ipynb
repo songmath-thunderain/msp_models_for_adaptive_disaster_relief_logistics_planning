{
 "cells": [
  {
   "cell_type": "code",
   "execution_count": 1,
   "id": "eef40f26",
   "metadata": {},
   "outputs": [],
   "source": [
    "import pandas as pd"
   ]
  },
  {
   "cell_type": "code",
   "execution_count": 2,
   "id": "f1207f55",
   "metadata": {},
   "outputs": [],
   "source": [
    "# Do separate tables for different instance_option (-1: deterministic, 0: random) and cost_structure (0: old,1: safetime)"
   ]
  },
  {
   "cell_type": "code",
   "execution_count": 3,
   "id": "b2992f26",
   "metadata": {},
   "outputs": [],
   "source": [
    "def createTable(i_option, a_option, outputfile):\n",
    "    \n",
    "    tauList = [0.25, 0.5, 1, 2, 4]\n",
    "\n",
    "    # Create a LaTeX table string with the specified columns and multi-row header\n",
    "    latex_table_custom = '';\n",
    "    \n",
    "    if i_option == 1:\n",
    "        T = 10;\n",
    "        # Load the CSV file\n",
    "        FA_SA = '../FC_SA_summary-KPI-1.xlsx'\n",
    "        df_FA_SA = pd.read_excel(FA_SA)\n",
    "    elif i_option == 2:\n",
    "        T = 12;\n",
    "        # Load the CSV file\n",
    "        FA_SA = '../FC_SA_summary-KPI-2.xlsx'\n",
    "        df_FA_SA = pd.read_excel(FA_SA)\n",
    "    \n",
    "    if a_option == 0: # WS\n",
    "        idx = 11;\n",
    "        for i1 in range(len(tauList)):\n",
    "            tempList = df_FA_SA.iloc[[idx]].values.tolist()[0]\n",
    "            rowstring = f\"{tauList[i1]}\";\n",
    "            for t in range(T):\n",
    "                rowstring += f\" && ({round(tempList[t+2]/1000,1)}K,{round(tempList[t+2+T]*100,1)}\\%)\";\n",
    "            latex_table_custom += rowstring + f\"\\\\\\\\ \\n\"\n",
    "\n",
    "            idx += 1;\n",
    "\n",
    "            if i1 != len(tauList)-1:\n",
    "                latex_table_custom += \"\\\\hline\\n\"\n",
    "                \n",
    "    if a_option == 1: # s-2SSP\n",
    "        idx = 21;\n",
    "        for i1 in range(len(tauList)):\n",
    "            tempList = df_FA_SA.iloc[[idx]].values.tolist()[0]\n",
    "            rowstring = f\"{tauList[i1]}\";\n",
    "            for t in range(T):\n",
    "                rowstring += f\" && {round(tempList[t+2]/1000,1)}K\";\n",
    "            latex_table_custom += rowstring + f\"\\\\\\\\ \\n\"\n",
    "\n",
    "            idx += 1;\n",
    "\n",
    "            if i1 != len(tauList)-1:\n",
    "                latex_table_custom += \"\\\\hline\\n\"\n",
    "\n",
    "    print(latex_table_custom)        \n",
    "    # Save to a new .tex file\n",
    "    with open(outputfile, 'w') as f:\n",
    "        f.write(latex_table_custom)"
   ]
  },
  {
   "cell_type": "code",
   "execution_count": 4,
   "id": "992bac7b",
   "metadata": {},
   "outputs": [
    {
     "name": "stdout",
     "output_type": "stream",
     "text": [
      "0.25 && (8.5K,100\\%) && (8.5K,0.0\\%) && (8.5K,0.0\\%) && (8.5K,0.0\\%) && (8.5K,0.0\\%) && (8.5K,0.0\\%) && (8.5K,0.0\\%) && (0.0K,0.0\\%) && (0.0K,0.0\\%) && (0.0K,0.0\\%)\\\\ \n",
      "\\hline\n",
      "0.5 && (12.3K,100\\%) && (17.0K,0.0\\%) && (17.0K,0.0\\%) && (17.0K,0.0\\%) && (17.0K,0.0\\%) && (17.0K,0.0\\%) && (17.0K,0.0\\%) && (0.0K,0.0\\%) && (0.0K,0.0\\%) && (0.0K,0.0\\%)\\\\ \n",
      "\\hline\n",
      "1 && (0.0K,0\\%) && (0.0K,0.0\\%) && (0.0K,0.0\\%) && (13.4K,48.9\\%) && (22.3K,32.9\\%) && (31.5K,14.6\\%) && (33.7K,3.6\\%) && (0.0K,0.0\\%) && (0.0K,0.0\\%) && (0.0K,0.0\\%)\\\\ \n",
      "\\hline\n",
      "2 && (0.0K,0\\%) && (0.0K,0.0\\%) && (0.0K,0.0\\%) && (0.0K,0.0\\%) && (0.2K,0.7\\%) && (31.4K,73.3\\%) && (62.7K,26.0\\%) && (0.0K,0.0\\%) && (0.0K,0.0\\%) && (0.0K,0.0\\%)\\\\ \n",
      "\\hline\n",
      "4 && (0.0K,0\\%) && (0.0K,0.0\\%) && (0.0K,0.0\\%) && (0.0K,0.0\\%) && (0.0K,0.0\\%) && (0.7K,2.5\\%) && (89.2K,97.5\\%) && (0.0K,0.0\\%) && (0.0K,0.0\\%) && (0.0K,0.0\\%)\\\\ \n",
      "\n",
      "0.25 && (0.0K,0\\%) && (2.0K,23.6\\%) && (8.5K,76.4\\%) && (8.5K,0.0\\%) && (8.5K,0.0\\%) && (8.5K,0.0\\%) && (8.5K,0.0\\%) && (8.5K,0.0\\%) && (8.5K,0.0\\%) && (0.0K,0.0\\%) && (0.0K,0.0\\%) && (0.0K,0.0\\%)\\\\ \n",
      "\\hline\n",
      "0.5 && (0.0K,0\\%) && (0.0K,28.1\\%) && (1.5K,42.8\\%) && (11.8K,28.4\\%) && (15.7K,0.7\\%) && (16.4K,0.0\\%) && (17.0K,0.0\\%) && (17.0K,0.0\\%) && (17.0K,0.0\\%) && (0.0K,0.0\\%) && (0.0K,0.0\\%) && (0.0K,0.0\\%)\\\\ \n",
      "\\hline\n",
      "1 && (0.0K,0\\%) && (0.0K,2.5\\%) && (0.0K,19.1\\%) && (0.0K,8.5\\%) && (0.0K,27.8\\%) && (1.4K,14.5\\%) && (20.7K,18.3\\%) && (31.4K,8.8\\%) && (34.0K,0.5\\%) && (0.0K,0.0\\%) && (0.0K,0.0\\%) && (0.0K,0.0\\%)\\\\ \n",
      "\\hline\n",
      "2 && (0.0K,0\\%) && (0.0K,2.5\\%) && (0.0K,11.4\\%) && (0.0K,6.0\\%) && (0.0K,8.3\\%) && (0.0K,11.3\\%) && (0.0K,19.9\\%) && (20.4K,35.2\\%) && (65.2K,5.4\\%) && (0.0K,0.0\\%) && (0.0K,0.0\\%) && (0.0K,0.0\\%)\\\\ \n",
      "\\hline\n",
      "4 && (0.0K,0\\%) && (0.0K,0.0\\%) && (0.0K,0.0\\%) && (0.0K,0.0\\%) && (0.0K,1.3\\%) && (0.0K,15.7\\%) && (0.0K,2.8\\%) && (0.0K,19.2\\%) && (84.3K,61.0\\%) && (0.0K,0.0\\%) && (0.0K,0.0\\%) && (0.0K,0.0\\%)\\\\ \n",
      "\n",
      "0.25 && 8.5K && 8.5K && 8.5K && 8.5K && 8.5K && 8.5K && 8.5K && 0.0K && 0.0K && 0.0K\\\\ \n",
      "\\hline\n",
      "0.5 && 12.3K && 17.0K && 17.0K && 17.0K && 17.0K && 17.0K && 17.0K && 0.0K && 0.0K && 0.0K\\\\ \n",
      "\\hline\n",
      "1 && 0.0K && 0.0K && 0.0K && 26.6K && 34.0K && 34.0K && 34.0K && 0.0K && 0.0K && 0.0K\\\\ \n",
      "\\hline\n",
      "2 && 0.0K && 0.0K && 0.0K && 0.0K && 0.0K && 60.6K && 68.0K && 0.0K && 0.0K && 0.0K\\\\ \n",
      "\\hline\n",
      "4 && 0.0K && 0.0K && 0.0K && 0.0K && 0.0K && 0.0K && 128.6K && 0.0K && 0.0K && 0.0K\\\\ \n",
      "\n",
      "0.25 && 8.5K && 8.5K && 8.5K && 8.5K && 8.5K && 8.5K && 8.5K && 8.5K && 8.5K && 0.0K && 0.0K && 0.0K\\\\ \n",
      "\\hline\n",
      "0.5 && 0.0K && 0.0K && 4.4K && 17.0K && 17.0K && 17.0K && 17.0K && 17.0K && 17.0K && 0.0K && 0.0K && 0.0K\\\\ \n",
      "\\hline\n",
      "1 && 0.0K && 0.0K && 0.0K && 0.0K && 0.0K && 4.4K && 34.0K && 34.0K && 34.0K && 0.0K && 0.0K && 0.0K\\\\ \n",
      "\\hline\n",
      "2 && 0.0K && 0.0K && 0.0K && 0.0K && 0.0K && 0.0K && 0.0K && 38.4K && 68.0K && 0.0K && 0.0K && 0.0K\\\\ \n",
      "\\hline\n",
      "4 && 0.0K && 0.0K && 0.0K && 0.0K && 0.0K && 0.0K && 0.0K && 0.0K && 106.4K && 0.0K && 0.0K && 0.0K\\\\ \n",
      "\n"
     ]
    }
   ],
   "source": [
    "createTable(1,0,'Table-case-SA-flowcapacity-WS-KPI-1.tex')\n",
    "createTable(2,0,'Table-case-SA-flowcapacity-WS-KPI-2.tex')\n",
    "createTable(1,1,'Table-case-SA-flowcapacity-s2SSP-KPI-1.tex')\n",
    "createTable(2,1,'Table-case-SA-flowcapacity-s2SSP-KPI-2.tex')"
   ]
  },
  {
   "cell_type": "code",
   "execution_count": null,
   "id": "b85a86e1",
   "metadata": {},
   "outputs": [],
   "source": []
  },
  {
   "cell_type": "code",
   "execution_count": null,
   "id": "68d963db",
   "metadata": {},
   "outputs": [],
   "source": []
  },
  {
   "cell_type": "code",
   "execution_count": null,
   "id": "cf1fe8c1",
   "metadata": {},
   "outputs": [],
   "source": []
  }
 ],
 "metadata": {
  "kernelspec": {
   "display_name": "Python 3 (ipykernel)",
   "language": "python",
   "name": "python3"
  },
  "language_info": {
   "codemirror_mode": {
    "name": "ipython",
    "version": 3
   },
   "file_extension": ".py",
   "mimetype": "text/x-python",
   "name": "python",
   "nbconvert_exporter": "python",
   "pygments_lexer": "ipython3",
   "version": "3.8.12"
  }
 },
 "nbformat": 4,
 "nbformat_minor": 5
}
