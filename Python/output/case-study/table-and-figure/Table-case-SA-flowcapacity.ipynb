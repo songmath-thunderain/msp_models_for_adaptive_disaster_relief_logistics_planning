{
 "cells": [
  {
   "cell_type": "code",
   "execution_count": 1,
   "id": "eef40f26",
   "metadata": {},
   "outputs": [],
   "source": [
    "import pandas as pd"
   ]
  },
  {
   "cell_type": "code",
   "execution_count": 2,
   "id": "9d8065e6",
   "metadata": {},
   "outputs": [],
   "source": [
    "# Load the CSV file\n",
    "FA = '../FAresults.xlsx'\n",
    "CV = '../CVresults.xlsx'\n",
    "static2SSP = '../static2SSPresults.xlsx'\n",
    "rolling2SSP = '../rolling2SSPresults.xlsx'\n",
    "WS = '../WSresults.xlsx'\n",
    "naiveWS = '../naiveWSresults.xlsx'\n",
    "\n",
    "df_FA = pd.read_excel(FA)\n",
    "df_CV = pd.read_excel(CV)\n",
    "df_s2SSP = pd.read_excel(static2SSP)\n",
    "df_r2SSP = pd.read_excel(rolling2SSP)\n",
    "df_WS = pd.read_excel(WS)\n",
    "df_naiveWS = pd.read_excel(naiveWS)\n",
    "\n",
    "# Load the CSV file\n",
    "FA_SA = '../FC_SA_FAresults.xlsx'\n",
    "CV_SA = '../FC_SA_CVresults.xlsx'\n",
    "static2SSP_SA = '../FC_SA_static2SSPresults.xlsx'\n",
    "rolling2SSP_SA = '../FC_SA_rolling2SSPresults.xlsx'\n",
    "WS_SA = '../FC_SA_WSresults.xlsx'\n",
    "naiveWS_SA = '../FC_SA_naiveWSresults.xlsx'\n",
    "\n",
    "df_FA_SA = pd.read_excel(FA_SA)\n",
    "df_CV_SA = pd.read_excel(CV_SA)\n",
    "df_s2SSP_SA = pd.read_excel(static2SSP_SA)\n",
    "df_r2SSP_SA = pd.read_excel(rolling2SSP_SA)\n",
    "df_WS_SA = pd.read_excel(WS_SA)\n",
    "df_naiveWS_SA = pd.read_excel(naiveWS_SA)"
   ]
  },
  {
   "cell_type": "code",
   "execution_count": 3,
   "id": "f3b57f47",
   "metadata": {},
   "outputs": [
    {
     "name": "stdout",
     "output_type": "stream",
     "text": [
      "df_CV.shape =  (14, 12)\n"
     ]
    }
   ],
   "source": [
    "if df_CV.shape[0] != df_FA.shape[0] or df_CV.shape[0] != df_s2SSP.shape[0] or df_CV.shape[0] != df_r2SSP.shape[0] or df_CV.shape[0] != df_WS.shape[0]:\n",
    "    print(\"ERROR! # of rows in the data frames are inconsistent!\")\n",
    "else:\n",
    "    print(\"df_CV.shape = \", df_CV.shape)"
   ]
  },
  {
   "cell_type": "code",
   "execution_count": 4,
   "id": "f1207f55",
   "metadata": {},
   "outputs": [],
   "source": [
    "# Do separate tables for different instance_option (-1: deterministic, 0: random) and cost_structure (0: old,1: safetime)"
   ]
  },
  {
   "cell_type": "code",
   "execution_count": 5,
   "id": "b2992f26",
   "metadata": {},
   "outputs": [],
   "source": [
    "def createTable(i_option, outputfile):\n",
    "    df_CV_0 = df_CV[(df_CV['instance_option'] == i_option)]\n",
    "    df_FA_0 = df_FA[(df_FA['instance_option'] == i_option)]\n",
    "    df_s2SSP_0 = df_s2SSP[(df_s2SSP['instance_option'] == i_option)]\n",
    "    df_r2SSP_0 = df_r2SSP[(df_r2SSP['instance_option'] == i_option)]\n",
    "    df_WS_0 = df_WS[(df_WS['instance_option'] == i_option)]\n",
    "    df_naiveWS_0 = df_naiveWS[(df_naiveWS['instance_option'] == i_option)]\n",
    "    df_CV_0.reset_index(drop=True, inplace=True)\n",
    "    df_FA_0.reset_index(drop=True, inplace=True)\n",
    "    df_s2SSP_0.reset_index(drop=True, inplace=True)\n",
    "    df_r2SSP_0.reset_index(drop=True, inplace=True)\n",
    "    df_WS_0.reset_index(drop=True, inplace=True)\n",
    "    df_naiveWS_0.reset_index(drop=True, inplace=True)\n",
    "    \n",
    "    df_CV_0_SA = df_CV_SA[(df_CV_SA['instance_option'] == i_option)]\n",
    "    df_FA_0_SA = df_FA_SA[(df_FA_SA['instance_option'] == i_option)]\n",
    "    df_s2SSP_0_SA = df_s2SSP_SA[(df_s2SSP_SA['instance_option'] == i_option)]\n",
    "    df_r2SSP_0_SA = df_r2SSP_SA[(df_r2SSP_SA['instance_option'] == i_option)]\n",
    "    df_WS_0_SA = df_WS_SA[(df_WS_SA['instance_option'] == i_option)]\n",
    "    df_naiveWS_0_SA = df_naiveWS_SA[(df_naiveWS_SA['instance_option'] == i_option)]\n",
    "    df_CV_0_SA.reset_index(drop=True, inplace=True)\n",
    "    df_FA_0_SA.reset_index(drop=True, inplace=True)\n",
    "    df_s2SSP_0_SA.reset_index(drop=True, inplace=True)\n",
    "    df_r2SSP_0_SA.reset_index(drop=True, inplace=True)\n",
    "    df_WS_0_SA.reset_index(drop=True, inplace=True)\n",
    "    df_naiveWS_0_SA.reset_index(drop=True, inplace=True)\n",
    "    tauList = [0.25, 0.5, 1, 2, 4]\n",
    "\n",
    "    \n",
    "    # Create a LaTeX table string with the specified columns and multi-row header\n",
    "    latex_table_custom = '';\n",
    "    \n",
    "    idx = 0;\n",
    "    for i1 in range(len(tauList)):\n",
    "        if tauList[i1] != 1:\n",
    "            CV_val = df_CV_0_SA[\"obj\"][idx] \n",
    "            FA_val = df_FA_0_SA[\"obj\"][idx]\n",
    "            FA_gap = int((df_FA_0_SA[\"obj\"][idx]-df_CV_0_SA[\"obj\"][idx])/df_CV_0_SA[\"obj\"][idx]*100)\n",
    "            WS_val = df_WS_0_SA[\"obj\"][idx]\n",
    "            WS_gap = int((df_WS_0_SA[\"obj\"][idx]-df_CV_0_SA[\"obj\"][idx])/df_CV_0_SA[\"obj\"][idx]*100)\n",
    "            r2SSP_val = df_r2SSP_0_SA[\"obj\"][idx]\n",
    "            r2SSP_gap = int((df_r2SSP_0_SA[\"obj\"][idx]-df_CV_0_SA[\"obj\"][idx])/df_CV_0_SA[\"obj\"][idx]*100)\n",
    "            s2SSP_val = df_s2SSP_0_SA[\"obj\"][idx]\n",
    "            s2SSP_gap = int((df_s2SSP_0_SA[\"obj\"][idx]-df_CV_0_SA[\"obj\"][idx])/df_CV_0_SA[\"obj\"][idx]*100)\n",
    "            naiveWS_val = df_naiveWS_0_SA[\"obj\"][idx]\n",
    "            naiveWS_gap = int((df_naiveWS_0_SA[\"obj\"][idx]-df_CV_0_SA[\"obj\"][idx])/df_CV_0_SA[\"obj\"][idx]*100)\n",
    "\n",
    "            latex_table_custom += f\"{tauList[i1]} && {round(CV_val/1000,1)}K && ({round(FA_val/1000,1)}K, {FA_gap}\\\\%) && ({round(s2SSP_val/1000,1)}K, {s2SSP_gap}\\\\%) && ({round(r2SSP_val/1000,1)}K, {r2SSP_gap}\\\\%) && ({round(naiveWS_val/1000,1)}K, {naiveWS_gap}\\\\%) && ({round(WS_val/1000,1)}K, {WS_gap}\\\\%)   \\\\\\\\ \\n\"\n",
    "\n",
    "            idx += 1;\n",
    "        else:\n",
    "            CV_val = df_CV_0[\"obj\"][4] # hardcode: FC factor = 1 corresponds to index = 4\n",
    "            FA_val = df_FA_0[\"obj\"][4]\n",
    "            FA_gap = int((df_FA_0[\"obj\"][4]-df_CV_0[\"obj\"][4])/df_CV_0[\"obj\"][4]*100)\n",
    "            WS_val = df_WS_0[\"obj\"][4]\n",
    "            WS_gap = int((df_WS_0[\"obj\"][4]-df_CV_0[\"obj\"][4])/df_CV_0[\"obj\"][4]*100)\n",
    "            r2SSP_val = df_r2SSP_0[\"obj\"][4]\n",
    "            r2SSP_gap = int((df_r2SSP_0[\"obj\"][4]-df_CV_0[\"obj\"][4])/df_CV_0[\"obj\"][4]*100)\n",
    "            s2SSP_val = df_s2SSP_0[\"obj\"][4]\n",
    "            s2SSP_gap = int((df_s2SSP_0[\"obj\"][4]-df_CV_0[\"obj\"][4])/df_CV_0[\"obj\"][4]*100)\n",
    "            naiveWS_val = df_naiveWS_0[\"obj\"][4]\n",
    "            naiveWS_gap = int((df_naiveWS_0[\"obj\"][4]-df_CV_0[\"obj\"][4])/df_CV_0[\"obj\"][4]*100)\n",
    "\n",
    "            latex_table_custom += f\"{tauList[i1]} && {round(CV_val/1000,1)}K && ({round(FA_val/1000,1)}K, {FA_gap}\\\\%) && ({round(s2SSP_val/1000,1)}K, {s2SSP_gap}\\\\%) && ({round(r2SSP_val/1000,1)}K, {r2SSP_gap}\\\\%) && ({round(naiveWS_val/1000,1)}K, {naiveWS_gap}\\\\%) && ({round(WS_val/1000,1)}K, {WS_gap}\\\\%)   \\\\\\\\ \\n\"\n",
    "        if i1 != len(tauList)-1:\n",
    "            latex_table_custom += \"\\\\hline\\n\"\n",
    "\n",
    "    print(latex_table_custom)        \n",
    "    # Save to a new .tex file\n",
    "    with open(outputfile, 'w') as f:\n",
    "        f.write(latex_table_custom)"
   ]
  },
  {
   "cell_type": "code",
   "execution_count": 6,
   "id": "992bac7b",
   "metadata": {},
   "outputs": [
    {
     "name": "stdout",
     "output_type": "stream",
     "text": [
      "0.25 && 5006.6K && (5923.5K, 18\\%) && (5944.5K, 18\\%) && (5911.7K, 18\\%) && (23672.5K, 372\\%) && (5944.5K, 18\\%)   \\\\ \n",
      "\\hline\n",
      "0.5 && 962.5K && (2835.2K, 194\\%) && (3303.6K, 243\\%) && (2831.0K, 194\\%) && (18607.2K, 1833\\%) && (3303.6K, 243\\%)   \\\\ \n",
      "\\hline\n",
      "1 && 748.4K && (2465.1K, 229\\%) && (3185.6K, 325\\%) && (2492.2K, 232\\%) && (11482.7K, 1434\\%) && (2747.8K, 267\\%)   \\\\ \n",
      "\\hline\n",
      "2 && 737.1K && (2332.9K, 216\\%) && (3049.8K, 313\\%) && (2327.6K, 215\\%) && (4548.7K, 517\\%) && (2473.9K, 235\\%)   \\\\ \n",
      "\\hline\n",
      "4 && 734.1K && (2289.0K, 211\\%) && (2981.9K, 306\\%) && (2251.9K, 206\\%) && (2241.5K, 205\\%) && (2260.6K, 207\\%)   \\\\ \n",
      "\n",
      "0.25 && 2843.9K && (4390.0K, 54\\%) && (4320.9K, 51\\%) && (4346.7K, 52\\%) && (20573.8K, 623\\%) && (5393.1K, 89\\%)   \\\\ \n",
      "\\hline\n",
      "0.5 && 658.3K && (2803.1K, 325\\%) && (2820.9K, 328\\%) && (2919.7K, 343\\%) && (16282.7K, 2373\\%) && (2899.7K, 340\\%)   \\\\ \n",
      "\\hline\n",
      "1 && 635.5K && (2614.4K, 311\\%) && (2634.8K, 314\\%) && (2776.8K, 336\\%) && (10605.6K, 1568\\%) && (2854.8K, 349\\%)   \\\\ \n",
      "\\hline\n",
      "2 && 625.4K && (2522.5K, 303\\%) && (2548.8K, 307\\%) && (2537.9K, 305\\%) && (4639.7K, 641\\%) && (2593.8K, 314\\%)   \\\\ \n",
      "\\hline\n",
      "4 && 622.3K && (2482.2K, 298\\%) && (2505.9K, 302\\%) && (2329.7K, 274\\%) && (2329.3K, 274\\%) && (2338.1K, 275\\%)   \\\\ \n",
      "\n"
     ]
    }
   ],
   "source": [
    "createTable(1,'Table-case-SA-flowcapacity1.tex')\n",
    "createTable(2,'Table-case-SA-flowcapacity2.tex')"
   ]
  },
  {
   "cell_type": "code",
   "execution_count": null,
   "id": "b85a86e1",
   "metadata": {},
   "outputs": [],
   "source": []
  },
  {
   "cell_type": "code",
   "execution_count": null,
   "id": "68d963db",
   "metadata": {},
   "outputs": [],
   "source": []
  },
  {
   "cell_type": "code",
   "execution_count": null,
   "id": "cf1fe8c1",
   "metadata": {},
   "outputs": [],
   "source": []
  }
 ],
 "metadata": {
  "kernelspec": {
   "display_name": "Python 3 (ipykernel)",
   "language": "python",
   "name": "python3"
  },
  "language_info": {
   "codemirror_mode": {
    "name": "ipython",
    "version": 3
   },
   "file_extension": ".py",
   "mimetype": "text/x-python",
   "name": "python",
   "nbconvert_exporter": "python",
   "pygments_lexer": "ipython3",
   "version": "3.8.12"
  }
 },
 "nbformat": 4,
 "nbformat_minor": 5
}
