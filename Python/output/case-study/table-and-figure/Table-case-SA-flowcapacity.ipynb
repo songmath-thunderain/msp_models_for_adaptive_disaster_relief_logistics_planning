{
 "cells": [
  {
   "cell_type": "code",
   "execution_count": 6,
   "id": "eef40f26",
   "metadata": {},
   "outputs": [],
   "source": [
    "import pandas as pd"
   ]
  },
  {
   "cell_type": "code",
   "execution_count": 7,
   "id": "9d8065e6",
   "metadata": {},
   "outputs": [],
   "source": [
    "# Load the CSV file\n",
    "FA_SA = '../FC_SA_FAresults.xlsx'\n",
    "CV_SA = '../FC_SA_CVresults.xlsx'\n",
    "static2SSP_SA = '../FC_SA_static2SSPresults.xlsx'\n",
    "#rolling2SSP_SA = '../FC_SA_rolling2SSPresults.xlsx'\n",
    "WS_SA = '../FC_SA_WSresults.xlsx'\n",
    "naiveWS_SA = '../FC_SA_naiveWSresults.xlsx'\n",
    "\n",
    "df_FA_SA = pd.read_excel(FA_SA)\n",
    "df_CV_SA = pd.read_excel(CV_SA)\n",
    "df_s2SSP_SA = pd.read_excel(static2SSP_SA)\n",
    "#df_r2SSP_SA = pd.read_excel(rolling2SSP_SA)\n",
    "df_WS_SA = pd.read_excel(WS_SA)\n",
    "df_naiveWS_SA = pd.read_excel(naiveWS_SA)"
   ]
  },
  {
   "cell_type": "code",
   "execution_count": 8,
   "id": "f1207f55",
   "metadata": {},
   "outputs": [],
   "source": [
    "# Do separate tables for different instance_option (-1: deterministic, 0: random) and cost_structure (0: old,1: safetime)"
   ]
  },
  {
   "cell_type": "code",
   "execution_count": 9,
   "id": "b2992f26",
   "metadata": {},
   "outputs": [],
   "source": [
    "def createTable(i_option, outputfile):\n",
    "   \n",
    "    df_CV_0_SA = df_CV_SA[(df_CV_SA['instance_option'] == i_option)]\n",
    "    df_FA_0_SA = df_FA_SA[(df_FA_SA['instance_option'] == i_option)]\n",
    "    df_s2SSP_0_SA = df_s2SSP_SA[(df_s2SSP_SA['instance_option'] == i_option)]\n",
    "    #df_r2SSP_0_SA = df_r2SSP_SA[(df_r2SSP_SA['instance_option'] == i_option)]\n",
    "    df_WS_0_SA = df_WS_SA[(df_WS_SA['instance_option'] == i_option)]\n",
    "    df_naiveWS_0_SA = df_naiveWS_SA[(df_naiveWS_SA['instance_option'] == i_option)]\n",
    "    df_CV_0_SA.reset_index(drop=True, inplace=True)\n",
    "    df_FA_0_SA.reset_index(drop=True, inplace=True)\n",
    "    df_s2SSP_0_SA.reset_index(drop=True, inplace=True)\n",
    "    #df_r2SSP_0_SA.reset_index(drop=True, inplace=True)\n",
    "    df_WS_0_SA.reset_index(drop=True, inplace=True)\n",
    "    df_naiveWS_0_SA.reset_index(drop=True, inplace=True)\n",
    "    tauList = [0.25, 0.5, 1, 2, 4]\n",
    "\n",
    "    \n",
    "    # Create a LaTeX table string with the specified columns and multi-row header\n",
    "    latex_table_custom = '';\n",
    "    \n",
    "    idx = 0;\n",
    "    for i1 in range(len(tauList)):\n",
    "            CV_val = df_CV_0_SA[\"obj\"][idx] \n",
    "            FA_val = df_FA_0_SA[\"obj\"][idx]\n",
    "            FA_gap = int((df_FA_0_SA[\"obj\"][idx]-df_CV_0_SA[\"obj\"][idx])/df_CV_0_SA[\"obj\"][idx]*100)\n",
    "            WS_val = df_WS_0_SA[\"obj\"][idx]\n",
    "            WS_gap = int((df_WS_0_SA[\"obj\"][idx]-df_CV_0_SA[\"obj\"][idx])/df_CV_0_SA[\"obj\"][idx]*100)\n",
    "            #r2SSP_val = df_r2SSP_0_SA[\"obj\"][idx]\n",
    "            #r2SSP_gap = int((df_r2SSP_0_SA[\"obj\"][idx]-df_CV_0_SA[\"obj\"][idx])/df_CV_0_SA[\"obj\"][idx]*100)\n",
    "            s2SSP_val = df_s2SSP_0_SA[\"obj\"][idx]\n",
    "            s2SSP_gap = int((df_s2SSP_0_SA[\"obj\"][idx]-df_CV_0_SA[\"obj\"][idx])/df_CV_0_SA[\"obj\"][idx]*100)\n",
    "            naiveWS_val = df_naiveWS_0_SA[\"obj\"][idx]\n",
    "            naiveWS_gap = int((df_naiveWS_0_SA[\"obj\"][idx]-df_CV_0_SA[\"obj\"][idx])/df_CV_0_SA[\"obj\"][idx]*100)\n",
    "\n",
    "            #latex_table_custom += f\"{tauList[i1]} && {round(CV_val/1000,1)}K && ({round(FA_val/1000,1)}K, {FA_gap}\\\\%) && ({round(s2SSP_val/1000,1)}K, {s2SSP_gap}\\\\%) && ({round(r2SSP_val/1000,1)}K, {r2SSP_gap}\\\\%) && ({round(naiveWS_val/1000,1)}K, {naiveWS_gap}\\\\%) && ({round(WS_val/1000,1)}K, {WS_gap}\\\\%)   \\\\\\\\ \\n\"\n",
    "            latex_table_custom += f\"{tauList[i1]} && {round(CV_val/1000,1)}K && ({round(FA_val/1000,1)}K, {FA_gap}\\\\%) && ({round(s2SSP_val/1000,1)}K, {s2SSP_gap}\\\\%) && ({round(naiveWS_val/1000,1)}K, {naiveWS_gap}\\\\%) && ({round(WS_val/1000,1)}K, {WS_gap}\\\\%)   \\\\\\\\ \\n\"\n",
    "\n",
    "            idx += 1;\n",
    "        \n",
    "            if i1 != len(tauList)-1:\n",
    "                latex_table_custom += \"\\\\hline\\n\"\n",
    "\n",
    "    print(latex_table_custom)        \n",
    "    # Save to a new .tex file\n",
    "    with open(outputfile, 'w') as f:\n",
    "        f.write(latex_table_custom)"
   ]
  },
  {
   "cell_type": "code",
   "execution_count": 10,
   "id": "992bac7b",
   "metadata": {},
   "outputs": [
    {
     "name": "stdout",
     "output_type": "stream",
     "text": [
      "0.25 && 5185.1K && (6342.9K, 22\\%) && (6405.1K, 23\\%) && (23739.1K, 357\\%) && (6405.1K, 23\\%)   \\\\ \n",
      "\\hline\n",
      "0.5 && 1170.4K && (3455.7K, 195\\%) && (4174.8K, 256\\%) && (18739.6K, 1501\\%) && (3842.1K, 228\\%)   \\\\ \n",
      "\\hline\n",
      "1 && 957.7K && (3100.4K, 223\\%) && (3962.3K, 313\\%) && (11735.8K, 1125\\%) && (3467.3K, 262\\%)   \\\\ \n",
      "\\hline\n",
      "2 && 946.4K && (2960.0K, 212\\%) && (3858.7K, 307\\%) && (5004.9K, 428\\%) && (3183.5K, 236\\%)   \\\\ \n",
      "\\hline\n",
      "4 && 943.4K && (2922.9K, 209\\%) && (3806.9K, 303\\%) && (2906.0K, 208\\%) && (2906.0K, 208\\%)   \\\\ \n",
      "\n",
      "0.25 && 3007.7K && (4832.4K, 60\\%) && (4897.5K, 62\\%) && (20638.8K, 586\\%) && (4897.4K, 62\\%)   \\\\ \n",
      "\\hline\n",
      "0.5 && 838.1K && (3322.9K, 296\\%) && (3629.1K, 333\\%) && (16412.7K, 1858\\%) && (3650.6K, 335\\%)   \\\\ \n",
      "\\hline\n",
      "1 && 815.3K && (3078.1K, 277\\%) && (3443.0K, 322\\%) && (10848.6K, 1230\\%) && (3413.0K, 318\\%)   \\\\ \n",
      "\\hline\n",
      "2 && 805.2K && (2950.5K, 266\\%) && (3357.1K, 316\\%) && (5087.4K, 531\\%) && (3115.6K, 286\\%)   \\\\ \n",
      "\\hline\n",
      "4 && 802.1K && (2893.7K, 260\\%) && (3314.1K, 313\\%) && (2936.8K, 266\\%) && (2893.9K, 260\\%)   \\\\ \n",
      "\n"
     ]
    }
   ],
   "source": [
    "createTable(1,'Table-case-SA-flowcapacity1.tex')\n",
    "createTable(2,'Table-case-SA-flowcapacity2.tex')"
   ]
  },
  {
   "cell_type": "code",
   "execution_count": null,
   "id": "b85a86e1",
   "metadata": {},
   "outputs": [],
   "source": []
  },
  {
   "cell_type": "code",
   "execution_count": null,
   "id": "68d963db",
   "metadata": {},
   "outputs": [],
   "source": []
  },
  {
   "cell_type": "code",
   "execution_count": null,
   "id": "cf1fe8c1",
   "metadata": {},
   "outputs": [],
   "source": []
  }
 ],
 "metadata": {
  "kernelspec": {
   "display_name": "Python 3 (ipykernel)",
   "language": "python",
   "name": "python3"
  },
  "language_info": {
   "codemirror_mode": {
    "name": "ipython",
    "version": 3
   },
   "file_extension": ".py",
   "mimetype": "text/x-python",
   "name": "python",
   "nbconvert_exporter": "python",
   "pygments_lexer": "ipython3",
   "version": "3.8.12"
  }
 },
 "nbformat": 4,
 "nbformat_minor": 5
}
