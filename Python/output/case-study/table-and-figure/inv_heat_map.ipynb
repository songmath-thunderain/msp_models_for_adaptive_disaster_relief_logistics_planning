{
 "cells": [
  {
   "cell_type": "code",
   "execution_count": 1,
   "id": "ad884d30",
   "metadata": {},
   "outputs": [],
   "source": [
    "import matplotlib.pyplot as plt\n",
    "import numpy as np"
   ]
  },
  {
   "cell_type": "code",
   "execution_count": 2,
   "id": "a5316c88",
   "metadata": {},
   "outputs": [],
   "source": [
    "# The provided dictionary\n",
    "inv_heat_map = {\n",
    "    (0, 0): 0.0, (1, 0): 0.0, (2, 0): 0.0, (3, 0): 13069.400080159407, (4, 0): 32695.203770832202,\n",
    "    (5, 0): 46856.895169042335, (6, 0): 58506.34546160595, (7, 0): 64226.41033108407,\n",
    "    (8, 0): 68532.99806846355, (0, 1): -1, (1, 1): 0.0, (2, 1): 0.0,\n",
    "    (3, 1): 13580.975070186103, (4, 1): 40849.01305188712, (5, 1): 60408.316398805335,\n",
    "    (6, 1): 74604.63713190332, (7, 1): 75699.36047649669, (8, 1): 76301.32384096207,\n",
    "    (0, 2): -1, (1, 2): 0.0, (2, 2): 0.0, (3, 2): 13741.72078145863,\n",
    "    (4, 2): 44787.768314346016, (5, 2): 72061.13602982779, (6, 2): 91013.56192514447,\n",
    "    (7, 2): 85320.68985635949, (8, 2): 84759.97206613555, (0, 3): -1,\n",
    "    (1, 3): -1, (2, 3): 0.0, (3, 3): 23192.039085380617, (4, 3): 48894.73956145641,\n",
    "    (5, 3): 77513.56298181207, (6, 3): 100913.1850276236, (7, 3): 97458.23820320841,\n",
    "    (8, 3): 92416.77374795558,  (0, 4): -1, (1, 4): -1, (2, 4): -1,\n",
    "    (3, 4): 21258.319539579126, (4, 4): 56530.53864085846, (5, 4): 81007.07819701753,\n",
    "    (6, 4): 107141.57587705174, (7, 4): 103232.0938972112, (8, 4): 100282.30769307801,\n",
    "     (0, 5): -1, (1, 5): -1, (2, 5): -1, (3, 5): -1, (4, 5): -1,\n",
    "    (5, 5): -1, (6, 5): 88757.83313324174, (7, 5): 89829.4144207225, (8, 5): 95525.92087372013\n",
    "}"
   ]
  },
  {
   "cell_type": "code",
   "execution_count": 5,
   "id": "c3277fa1",
   "metadata": {},
   "outputs": [
    {
     "name": "stderr",
     "output_type": "stream",
     "text": [
      "/var/folders/0s/qypk53qx37jbg8qwrmx9x_xr0000gp/T/ipykernel_3450/2796476978.py:15: MatplotlibDeprecationWarning: You are modifying the state of a globally registered colormap. This has been deprecated since 3.3 and in 3.6, you will not be able to modify a registered colormap in-place. To remove this warning, you can make a copy of the colormap first. cmap = mpl.cm.get_cmap(\"viridis\").copy()\n",
      "  cmap.set_bad(color='white')\n"
     ]
    },
    {
     "data": {
      "image/png": "[encoded data removed]",
      "text/plain": [
       "<Figure size 720x576 with 2 Axes>"
      ]
     },
     "metadata": {
      "needs_background": "light"
     },
     "output_type": "display_data"
    },
    {
     "data": {
      "text/plain": [
       "<Figure size 432x288 with 0 Axes>"
      ]
     },
     "metadata": {},
     "output_type": "display_data"
    }
   ],
   "source": [
    "# Create arrays for plotting\n",
    "times = sorted(set(k[0]+1 for k in inv_heat_map.keys()))\n",
    "intensities = sorted(set(k[1] for k in inv_heat_map.keys()))\n",
    "heatmap_data = np.full((len(intensities), len(times)), np.nan)\n",
    "\n",
    "for (t, i), value in inv_heat_map.items():\n",
    "    heatmap_data[i, t] = value\n",
    "\n",
    "# Mask out the cells with value -1\n",
    "masked_heatmap_data = np.ma.masked_where(heatmap_data == -1, heatmap_data)\n",
    "\n",
    "# Plotting the heatmap\n",
    "plt.figure(figsize=(10, 8))\n",
    "cmap = plt.cm.viridis\n",
    "cmap.set_bad(color='white')\n",
    "plt.imshow(masked_heatmap_data, cmap=cmap, aspect='auto', origin='lower')\n",
    "plt.colorbar(label='Inventory Level')\n",
    "plt.xlabel('Time')\n",
    "plt.ylabel('Intensity')\n",
    "plt.title('Inventory Heat Map Over Time at Different Intensity States')\n",
    "plt.xticks(range(len(times)), times)\n",
    "plt.yticks(range(len(intensities)), intensities)\n",
    "plt.show()\n",
    "plt.savefig('FA-inv-heatmap-D.png');"
   ]
  },
  {
   "cell_type": "code",
   "execution_count": null,
   "id": "161e96ae",
   "metadata": {},
   "outputs": [],
   "source": []
  }
 ],
 "metadata": {
  "kernelspec": {
   "display_name": "Python 3 (ipykernel)",
   "language": "python",
   "name": "python3"
  },
  "language_info": {
   "codemirror_mode": {
    "name": "ipython",
    "version": 3
   },
   "file_extension": ".py",
   "mimetype": "text/x-python",
   "name": "python",
   "nbconvert_exporter": "python",
   "pygments_lexer": "ipython3",
   "version": "3.8.12"
  }
 },
 "nbformat": 4,
 "nbformat_minor": 5
}
