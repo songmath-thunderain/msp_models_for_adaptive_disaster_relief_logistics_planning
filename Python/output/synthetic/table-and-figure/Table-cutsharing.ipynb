{
 "cells": [
  {
   "cell_type": "code",
   "execution_count": 4,
   "id": "eef40f26",
   "metadata": {},
   "outputs": [],
   "source": [
    "import pandas as pd"
   ]
  },
  {
   "cell_type": "code",
   "execution_count": 6,
   "id": "9d8065e6",
   "metadata": {},
   "outputs": [],
   "source": [
    "# Load the CSV file\n",
    "file_path = '../FAresults-cutsharing.xlsx'\n",
    "df = pd.read_excel(file_path)"
   ]
  },
  {
   "cell_type": "code",
   "execution_count": null,
   "id": "298ead81",
   "metadata": {},
   "outputs": [],
   "source": [
    "df.head()"
   ]
  },
  {
   "cell_type": "code",
   "execution_count": null,
   "id": "38b1e87f",
   "metadata": {},
   "outputs": [],
   "source": [
    "# Drop rows with NaN values\n",
    "df = df.dropna()\n",
    "\n",
    "# Separate data based on the 'option' column\n",
    "df_option_0 = df[df['option'] == 0]\n",
    "df_option_1 = df[df['option'] == 1]\n",
    "\n",
    "# Reset index for both dataframes\n",
    "df_option_0.reset_index(drop=True, inplace=True)\n",
    "df_option_1.reset_index(drop=True, inplace=True)"
   ]
  },
  {
   "cell_type": "code",
   "execution_count": null,
   "id": "ae2a6c5f",
   "metadata": {},
   "outputs": [],
   "source": [
    "# some table macros\n",
    "tauList = [0, 0.5, 5]\n",
    "NiList = [3,6,9]\n",
    "NjList = [10,20,30]"
   ]
  },
  {
   "cell_type": "code",
   "execution_count": null,
   "id": "909a2c40",
   "metadata": {},
   "outputs": [],
   "source": [
    "# Create a LaTeX table string with the specified columns and multi-row header\n",
    "latex_table_custom = \"\"\"\n",
    "\\begin{table}[htbp]\n",
    "\\centering\n",
    "\\begin{adjustbox}{width=\\textwidth}\n",
    "\\begin{tabular}{@{}lllccccc@{}}\n",
    "\\toprule\n",
    " & & & \\multicolumn{2}{c}{\\ac{famsp} without cut-sharing}   & \\phantom{abc} &\n",
    " \\multicolumn{2}{c}{\\ac{famsp} with cut-sharing}\\\\\n",
    "\\cmidrule{4-5} \\cmidrule{7-8} \n",
    "  $\\nu$ & $|I|\\quad |J|$ && time & \\# of iterations \n",
    "                      && time & \\# of iterations\\\\ \\midrule\n",
    "\"\"\""
   ]
  },
  {
   "cell_type": "code",
   "execution_count": null,
   "id": "b85a86e1",
   "metadata": {},
   "outputs": [],
   "source": [
    "# Combine data from both options into a single row for the LaTeX table with the specified columns\n",
    "idx = 0;\n",
    "for i1 in range(len(tauList)):\n",
    "    for i2 in range(len(NiList)):\n",
    "        for i3 in range(len(NjList)):\n",
    "            row_0 = df_option_0.iloc[idx] \n",
    "            row_1 = df_option_1.iloc[idx] \n",
    "            if i2 == 0:\n",
    "                if i3 == 0:\n",
    "                    latex_table_custom += f\"{tauList[i1]} & {row_0['Ni']} $\\quad$ {row_0['Nj']} && {round(row_0['train_time'],1)} & {round(row_0['iter'])} && {round(row_1['train_time'],1)} & {round(row_1['iter'])}  \\\\\\\\ \\n\"\n",
    "                else:\n",
    "                    latex_table_custom += f\" &  $\\quad\\quad$ {row_0['Nj']} && {round(row_0['train_time'],1)} & {round(row_0['iter'])} && {round(row_1['train_time'],1)} & {round(row_1['iter'])}  \\\\\\\\ \\n\"\n",
    "            else:\n",
    "                if i3 == 0:\n",
    "                    latex_table_custom += f\" & {row_0['Ni']}  $\\quad\\quad$ {row_0['Nj']} && {round(row_0['train_time'],1)} & {round(row_0['iter'])} && {round(row_1['train_time'],1)} & {round(row_1['iter'])}  \\\\\\\\ \\n\"\n",
    "                else:\n",
    "                    latex_table_custom += f\" &  $\\quad\\quad$ {row_0['Nj']} && {round(row_0['train_time'],1)} & {round(row_0['iter'])} && {round(row_1['train_time'],1)} & {round(row_1['iter'])}  \\\\\\\\ \\n\"\n",
    "            latex_table_custom += f\"{row_0['Ni']} & {row_0['Nj']} & {row_0['tau']} & {round(row_0['iter'])} & {round(row_0['train_time'],1)} & {round(row_1['iter'])} & {round(row_1['train_time'],1)} \\\\\\\\ \\n\"\n",
    "            idx += 1;\n",
    "    if i1 != len(tauList)-1:\n",
    "        latex_table_custom += \"\\\\hline\\n\"\n",
    "latex_table_custom += \"\"\"\n",
    "\\bottomrule\n",
    "\\end{tabular}\n",
    "\\end{adjustbox}\n",
    "\\caption{Performances of the nested Benders decomposition algorithm for solving the \\ac{famsp} model with and without the cut-sharing strategy.}\n",
    "\\label{tab:results_cutsharing}\n",
    "\\end{table}\n",
    "\"\"\"\n",
    "\n",
    "# Save to a new .tex file\n",
    "with open('Table-cutsharing.tex', 'w') as f:\n",
    "    f.write(latex_table_custom)"
   ]
  },
  {
   "cell_type": "code",
   "execution_count": null,
   "id": "cf1fe8c1",
   "metadata": {},
   "outputs": [],
   "source": []
  }
 ],
 "metadata": {
  "kernelspec": {
   "display_name": "Python 3",
   "language": "python",
   "name": "python3"
  },
  "language_info": {
   "codemirror_mode": {
    "name": "ipython",
    "version": 3
   },
   "file_extension": ".py",
   "mimetype": "text/x-python",
   "name": "python",
   "nbconvert_exporter": "python",
   "pygments_lexer": "ipython3",
   "version": "3.8.8"
  }
 },
 "nbformat": 4,
 "nbformat_minor": 5
}
