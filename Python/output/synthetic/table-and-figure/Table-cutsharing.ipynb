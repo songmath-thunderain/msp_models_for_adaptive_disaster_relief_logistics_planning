{
 "cells": [
  {
   "cell_type": "code",
   "execution_count": 1,
   "id": "eef40f26",
   "metadata": {},
   "outputs": [],
   "source": [
    "import pandas as pd"
   ]
  },
  {
   "cell_type": "code",
   "execution_count": 2,
   "id": "9d8065e6",
   "metadata": {},
   "outputs": [],
   "source": [
    "# Load the CSV file\n",
    "file_path = '../FAresults-cutsharing.xlsx'\n",
    "df = pd.read_excel(file_path)"
   ]
  },
  {
   "cell_type": "code",
   "execution_count": 3,
   "id": "298ead81",
   "metadata": {},
   "outputs": [
    {
     "data": {
      "text/html": [
       "<div>\n",
       "<style scoped>\n",
       "    .dataframe tbody tr th:only-of-type {\n",
       "        vertical-align: middle;\n",
       "    }\n",
       "\n",
       "    .dataframe tbody tr th {\n",
       "        vertical-align: top;\n",
       "    }\n",
       "\n",
       "    .dataframe thead th {\n",
       "        text-align: right;\n",
       "    }\n",
       "</style>\n",
       "<table border=\"1\" class=\"dataframe\">\n",
       "  <thead>\n",
       "    <tr style=\"text-align: right;\">\n",
       "      <th></th>\n",
       "      <th>instance_option</th>\n",
       "      <th>cost_structure</th>\n",
       "      <th>dissipate_option</th>\n",
       "      <th>absorbing_option</th>\n",
       "      <th>k_init</th>\n",
       "      <th>Ni</th>\n",
       "      <th>Nj</th>\n",
       "      <th>tau</th>\n",
       "      <th>safe_time</th>\n",
       "      <th>option</th>\n",
       "      <th>LB</th>\n",
       "      <th>iter</th>\n",
       "      <th>obj</th>\n",
       "      <th>CI</th>\n",
       "      <th>train_time</th>\n",
       "      <th>test_time</th>\n",
       "    </tr>\n",
       "  </thead>\n",
       "  <tbody>\n",
       "    <tr>\n",
       "      <th>0</th>\n",
       "      <td>-1</td>\n",
       "      <td>0</td>\n",
       "      <td>0</td>\n",
       "      <td>0</td>\n",
       "      <td>57</td>\n",
       "      <td>3</td>\n",
       "      <td>10</td>\n",
       "      <td>0.0</td>\n",
       "      <td>0</td>\n",
       "      <td>0</td>\n",
       "      <td>1687.848518</td>\n",
       "      <td>5434</td>\n",
       "      <td>1643.922721</td>\n",
       "      <td>148.097879</td>\n",
       "      <td>93.240224</td>\n",
       "      <td>1.012399</td>\n",
       "    </tr>\n",
       "    <tr>\n",
       "      <th>1</th>\n",
       "      <td>-1</td>\n",
       "      <td>0</td>\n",
       "      <td>0</td>\n",
       "      <td>0</td>\n",
       "      <td>57</td>\n",
       "      <td>3</td>\n",
       "      <td>10</td>\n",
       "      <td>0.0</td>\n",
       "      <td>0</td>\n",
       "      <td>1</td>\n",
       "      <td>1702.630420</td>\n",
       "      <td>508</td>\n",
       "      <td>1644.934680</td>\n",
       "      <td>148.272947</td>\n",
       "      <td>25.820372</td>\n",
       "      <td>1.333249</td>\n",
       "    </tr>\n",
       "    <tr>\n",
       "      <th>2</th>\n",
       "      <td>-1</td>\n",
       "      <td>0</td>\n",
       "      <td>0</td>\n",
       "      <td>0</td>\n",
       "      <td>57</td>\n",
       "      <td>3</td>\n",
       "      <td>10</td>\n",
       "      <td>0.5</td>\n",
       "      <td>0</td>\n",
       "      <td>0</td>\n",
       "      <td>3956.057990</td>\n",
       "      <td>4591</td>\n",
       "      <td>3851.340465</td>\n",
       "      <td>341.999366</td>\n",
       "      <td>88.902116</td>\n",
       "      <td>1.090198</td>\n",
       "    </tr>\n",
       "    <tr>\n",
       "      <th>3</th>\n",
       "      <td>-1</td>\n",
       "      <td>0</td>\n",
       "      <td>0</td>\n",
       "      <td>0</td>\n",
       "      <td>57</td>\n",
       "      <td>3</td>\n",
       "      <td>10</td>\n",
       "      <td>0.5</td>\n",
       "      <td>0</td>\n",
       "      <td>1</td>\n",
       "      <td>3975.455355</td>\n",
       "      <td>913</td>\n",
       "      <td>3859.461046</td>\n",
       "      <td>345.581435</td>\n",
       "      <td>55.855435</td>\n",
       "      <td>1.760015</td>\n",
       "    </tr>\n",
       "    <tr>\n",
       "      <th>4</th>\n",
       "      <td>-1</td>\n",
       "      <td>0</td>\n",
       "      <td>0</td>\n",
       "      <td>0</td>\n",
       "      <td>57</td>\n",
       "      <td>3</td>\n",
       "      <td>10</td>\n",
       "      <td>5.0</td>\n",
       "      <td>0</td>\n",
       "      <td>0</td>\n",
       "      <td>8320.075187</td>\n",
       "      <td>3924</td>\n",
       "      <td>8597.983060</td>\n",
       "      <td>1050.001716</td>\n",
       "      <td>78.071190</td>\n",
       "      <td>1.132198</td>\n",
       "    </tr>\n",
       "  </tbody>\n",
       "</table>\n",
       "</div>"
      ],
      "text/plain": [
       "   instance_option  cost_structure  dissipate_option  absorbing_option  \\\n",
       "0               -1               0                 0                 0   \n",
       "1               -1               0                 0                 0   \n",
       "2               -1               0                 0                 0   \n",
       "3               -1               0                 0                 0   \n",
       "4               -1               0                 0                 0   \n",
       "\n",
       "   k_init  Ni  Nj  tau  safe_time  option           LB  iter          obj  \\\n",
       "0      57   3  10  0.0          0       0  1687.848518  5434  1643.922721   \n",
       "1      57   3  10  0.0          0       1  1702.630420   508  1644.934680   \n",
       "2      57   3  10  0.5          0       0  3956.057990  4591  3851.340465   \n",
       "3      57   3  10  0.5          0       1  3975.455355   913  3859.461046   \n",
       "4      57   3  10  5.0          0       0  8320.075187  3924  8597.983060   \n",
       "\n",
       "            CI  train_time  test_time  \n",
       "0   148.097879   93.240224   1.012399  \n",
       "1   148.272947   25.820372   1.333249  \n",
       "2   341.999366   88.902116   1.090198  \n",
       "3   345.581435   55.855435   1.760015  \n",
       "4  1050.001716   78.071190   1.132198  "
      ]
     },
     "execution_count": 3,
     "metadata": {},
     "output_type": "execute_result"
    }
   ],
   "source": [
    "df.head()"
   ]
  },
  {
   "cell_type": "code",
   "execution_count": 4,
   "id": "fac44924",
   "metadata": {},
   "outputs": [
    {
     "data": {
      "text/plain": [
       "(108, 16)"
      ]
     },
     "execution_count": 4,
     "metadata": {},
     "output_type": "execute_result"
    }
   ],
   "source": [
    "df = df.dropna()\n",
    "df.shape"
   ]
  },
  {
   "cell_type": "code",
   "execution_count": 5,
   "id": "d471a9ea",
   "metadata": {},
   "outputs": [],
   "source": [
    "df_option_0 = df[(df['option'] == 0) & (df['instance_option'] == 0)]\n",
    "df_option_1 = df[(df['option'] == 1) & (df['instance_option'] == 0)]\n",
    "df_option_0.reset_index(drop=True, inplace=True)\n",
    "df_option_1.reset_index(drop=True, inplace=True)"
   ]
  },
  {
   "cell_type": "code",
   "execution_count": 6,
   "id": "496ad770",
   "metadata": {},
   "outputs": [
    {
     "data": {
      "text/plain": [
       "(27, 16)"
      ]
     },
     "execution_count": 6,
     "metadata": {},
     "output_type": "execute_result"
    }
   ],
   "source": [
    "df_option_1.shape"
   ]
  },
  {
   "cell_type": "code",
   "execution_count": 7,
   "id": "ae2a6c5f",
   "metadata": {},
   "outputs": [],
   "source": [
    "# some table macros\n",
    "tauList = [0, 0.5, 5]\n",
    "NiList = [3,6,9]\n",
    "NjList = [10,20,30]"
   ]
  },
  {
   "cell_type": "code",
   "execution_count": 8,
   "id": "909a2c40",
   "metadata": {},
   "outputs": [],
   "source": [
    "# Create a LaTeX table string with the specified columns and multi-row header\n",
    "latex_table_custom = '';"
   ]
  },
  {
   "cell_type": "code",
   "execution_count": 9,
   "id": "b85a86e1",
   "metadata": {},
   "outputs": [
    {
     "name": "stdout",
     "output_type": "stream",
     "text": [
      "0 & 3 $\\quad$ 10 && 1725.7 & 1931.1$\\pm$385.5 & 388.1 & 9700 && 1764.4 & 1763.2$\\pm$184.7 & 223.8 & 1382  \\\\ \n",
      " &  $\\quad\\quad$ 20 && 3272.4 & 3759.8$\\pm$825.6 & 534.7 & 10473 && 3330.3 & 3352.3$\\pm$296.6 & 318.7 & 1735  \\\\ \n",
      " &  $\\quad\\quad$ 30 && 5065.4 & 5205.8$\\pm$457.3 & 689.3 & 11152 && 5118.8 & 5171.2$\\pm$449.2 & 331.2 & 1712  \\\\ \n",
      " & 6  $\\quad$ 10 && 1848.2 & 1818.6$\\pm$213.2 & 896.7 & 16653 && 1866.0 & 1818.7$\\pm$213.2 & 244.3 & 1122  \\\\ \n",
      " &  $\\quad\\quad$ 20 && 3317.0 & 3378.3$\\pm$312.4 & 865.7 & 12770 && 3378.8 & 3361.4$\\pm$306.0 & 341.8 & 1386  \\\\ \n",
      " &  $\\quad\\quad$ 30 && 5185.2 & 5262.4$\\pm$490.4 & 1019.6 & 12862 && 5253.8 & 5214.0$\\pm$475.7 & 266.8 & 1075  \\\\ \n",
      " & 9  $\\quad$ 10 && 1791.8 & 1787.6$\\pm$197.7 & 1191.4 & 17697 && 1808.6 & 1788.0$\\pm$196.7 & 364.2 & 1229  \\\\ \n",
      " &  $\\quad\\quad$ 20 && 3309.6 & 3393.9$\\pm$313.1 & 1009.9 & 12184 && 3358.4 & 3352.1$\\pm$297.8 & 360.7 & 1169  \\\\ \n",
      " &  $\\quad\\quad$ 30 && 5113.4 & 6267.2$\\pm$1618.8 & 1159.6 & 11937 && 5187.7 & 5198.8$\\pm$462.1 & 302.6 & 974  \\\\ \n",
      "\\hline\n",
      "0.5 & 3 $\\quad$ 10 && 2918.0 & 3159.7$\\pm$427.1 & 633.6 & 14786 && 2953.1 & 2996.6$\\pm$256.2 & 240.8 & 1435  \\\\ \n",
      " &  $\\quad\\quad$ 20 && 5480.7 & 5870.2$\\pm$894.8 & 985.2 & 17819 && 5522.3 & 5474.4$\\pm$434.6 & 230.8 & 1310  \\\\ \n",
      " &  $\\quad\\quad$ 30 && 8250.5 & 10294.0$\\pm$2145.4 & 685.3 & 10641 && 8421.0 & 8527.9$\\pm$716.9 & 420.4 & 2003  \\\\ \n",
      " & 6  $\\quad$ 10 && 2975.1 & 2989.8$\\pm$270.8 & 978.5 & 16525 && 3002.1 & 2996.6$\\pm$271.7 & 266.1 & 1179  \\\\ \n",
      " &  $\\quad\\quad$ 20 && 5429.0 & 5853.9$\\pm$894.4 & 941.0 & 13100 && 5519.8 & 5434.5$\\pm$431.7 & 271.7 & 1115  \\\\ \n",
      " &  $\\quad\\quad$ 30 && 8372.1 & 9401.0$\\pm$1608.4 & 1452.6 & 16464 && 8451.9 & 8455.7$\\pm$711.4 & 255.6 & 1021  \\\\ \n",
      " & 9  $\\quad$ 10 && 2932.6 & 3298.8$\\pm$515.1 & 943.4 & 12910 && 2978.7 & 2991.5$\\pm$258.7 & 372.3 & 1218  \\\\ \n",
      " &  $\\quad\\quad$ 20 && 5436.9 & 5923.5$\\pm$920.3 & 982.6 & 10968 && 5537.3 & 5464.5$\\pm$438.2 & 381.3 & 1207  \\\\ \n",
      " &  $\\quad\\quad$ 30 && 8337.4 & 9190.1$\\pm$1481.1 & 1572.9 & 14773 && 8456.3 & 8524.8$\\pm$725.1 & 365.4 & 1109  \\\\ \n",
      "\\hline\n",
      "5 & 3 $\\quad$ 10 && 5992.6 & 5832.4$\\pm$732.8 & 592.6 & 13482 && 6119.2 & 5888.5$\\pm$735.3 & 108.9 & 733  \\\\ \n",
      " &  $\\quad\\quad$ 20 && 11385.2 & 11079.2$\\pm$1241.8 & 671.7 & 12294 && 11680.5 & 11234.7$\\pm$1279.3 & 163.1 & 948  \\\\ \n",
      " &  $\\quad\\quad$ 30 && 17003.0 & 16722.1$\\pm$2161.1 & 974.6 & 14574 && 17384.3 & 16691.0$\\pm$2156.6 & 174.9 & 966  \\\\ \n",
      " & 6  $\\quad$ 10 && 5826.6 & 5795.2$\\pm$788.8 & 1050.7 & 17158 && 5947.8 & 5697.0$\\pm$733.5 & 215.0 & 947  \\\\ \n",
      " &  $\\quad\\quad$ 20 && 11174.1 & 11203.8$\\pm$1492.2 & 1315.1 & 17489 && 11328.5 & 10817.4$\\pm$1270.3 & 187.7 & 809  \\\\ \n",
      " &  $\\quad\\quad$ 30 && 16586.8 & 16265.1$\\pm$2186.0 & 1392.6 & 15650 && 16901.3 & 16185.2$\\pm$2145.9 & 308.0 & 1157  \\\\ \n",
      " & 9  $\\quad$ 10 && 5928.1 & 5781.6$\\pm$756.8 & 1300.2 & 16914 && 6015.9 & 5743.2$\\pm$744.9 & 280.1 & 938  \\\\ \n",
      " &  $\\quad\\quad$ 20 && 11264.9 & 11109.2$\\pm$1390.1 & 1934.7 & 19921 && 11413.0 & 10925.2$\\pm$1297.0 & 309.3 & 971  \\\\ \n",
      " &  $\\quad\\quad$ 30 && 16697.8 & 16365.4$\\pm$2202.8 & 1872.5 & 16944 && 16990.0 & 16258.8$\\pm$2171.1 & 467.5 & 1312  \\\\ \n",
      "\n"
     ]
    }
   ],
   "source": [
    "# Combine data from both options into a single row for the LaTeX table with the specified columns\n",
    "for i1 in range(len(tauList)):\n",
    "    for i2 in range(len(NiList)):\n",
    "        for i3 in range(len(NjList)):\n",
    "            idx = i2*len(NjList)*len(tauList)+i3*len(tauList)+i1\n",
    "            row_0 = df_option_0.iloc[idx] \n",
    "            row_1 = df_option_1.iloc[idx] \n",
    "            \n",
    "            if i2 == 0:\n",
    "                if i3 == 0:\n",
    "                    latex_table_custom += f\"{tauList[i1]} & {round(row_0['Ni'])} $\\quad$ {round(row_0['Nj'])} && {round(row_0['LB'],1)} & {round(row_0['obj'],1)}$\\pm${round(row_0['CI'],1)} & {round(row_0['train_time'],1)} & {round(row_0['iter'])} && {round(row_1['LB'],1)} & {round(row_1['obj'],1)}$\\pm${round(row_1['CI'],1)} & {round(row_1['train_time'],1)} & {round(row_1['iter'])}  \\\\\\\\ \\n\"\n",
    "                else:\n",
    "                    latex_table_custom += f\" &  $\\quad\\quad$ {round(row_0['Nj'])} && {round(row_0['LB'],1)} & {round(row_0['obj'],1)}$\\pm${round(row_0['CI'],1)} & {round(row_0['train_time'],1)} & {round(row_0['iter'])} && {round(row_1['LB'],1)} & {round(row_1['obj'],1)}$\\pm${round(row_1['CI'],1)} & {round(row_1['train_time'],1)} & {round(row_1['iter'])}  \\\\\\\\ \\n\"\n",
    "            else:\n",
    "                if i3 == 0:\n",
    "                    latex_table_custom += f\" & {round(row_0['Ni'])}  $\\quad$ {round(row_0['Nj'])} && {round(row_0['LB'],1)} & {round(row_0['obj'],1)}$\\pm${round(row_0['CI'],1)} & {round(row_0['train_time'],1)} & {round(row_0['iter'])} && {round(row_1['LB'],1)} & {round(row_1['obj'],1)}$\\pm${round(row_1['CI'],1)} & {round(row_1['train_time'],1)} & {round(row_1['iter'])}  \\\\\\\\ \\n\"\n",
    "                else:\n",
    "                    latex_table_custom += f\" &  $\\quad\\quad$ {round(row_0['Nj'])} && {round(row_0['LB'],1)} & {round(row_0['obj'],1)}$\\pm${round(row_0['CI'],1)} & {round(row_0['train_time'],1)} & {round(row_0['iter'])} && {round(row_1['LB'],1)} & {round(row_1['obj'],1)}$\\pm${round(row_1['CI'],1)} & {round(row_1['train_time'],1)} & {round(row_1['iter'])}  \\\\\\\\ \\n\"\n",
    "    if i1 != len(tauList)-1:\n",
    "        latex_table_custom += \"\\\\hline\\n\"\n",
    "\n",
    "print(latex_table_custom)\n",
    "# Save to a new .tex file\n",
    "with open('Table-cutsharing.tex', 'w') as f:\n",
    "    f.write(latex_table_custom)"
   ]
  },
  {
   "cell_type": "code",
   "execution_count": null,
   "id": "cf1fe8c1",
   "metadata": {},
   "outputs": [],
   "source": []
  }
 ],
 "metadata": {
  "kernelspec": {
   "display_name": "Python 3 (ipykernel)",
   "language": "python",
   "name": "python3"
  },
  "language_info": {
   "codemirror_mode": {
    "name": "ipython",
    "version": 3
   },
   "file_extension": ".py",
   "mimetype": "text/x-python",
   "name": "python",
   "nbconvert_exporter": "python",
   "pygments_lexer": "ipython3",
   "version": "3.8.12"
  }
 },
 "nbformat": 4,
 "nbformat_minor": 5
}
