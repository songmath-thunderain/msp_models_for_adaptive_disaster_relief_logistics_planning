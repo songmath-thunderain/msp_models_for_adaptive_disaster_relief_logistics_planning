{
 "cells": [
  {
   "cell_type": "code",
   "execution_count": 1,
   "id": "eef40f26",
   "metadata": {},
   "outputs": [],
   "source": [
    "import pandas as pd"
   ]
  },
  {
   "cell_type": "code",
   "execution_count": 2,
   "id": "9d8065e6",
   "metadata": {},
   "outputs": [],
   "source": [
    "# Load the CSV file\n",
    "file_path = '../FAresults-cutsharing.xlsx'\n",
    "df = pd.read_excel(file_path)"
   ]
  },
  {
   "cell_type": "code",
   "execution_count": 3,
   "id": "298ead81",
   "metadata": {},
   "outputs": [
    {
     "data": {
      "text/html": [
       "<div>\n",
       "<style scoped>\n",
       "    .dataframe tbody tr th:only-of-type {\n",
       "        vertical-align: middle;\n",
       "    }\n",
       "\n",
       "    .dataframe tbody tr th {\n",
       "        vertical-align: top;\n",
       "    }\n",
       "\n",
       "    .dataframe thead th {\n",
       "        text-align: right;\n",
       "    }\n",
       "</style>\n",
       "<table border=\"1\" class=\"dataframe\">\n",
       "  <thead>\n",
       "    <tr style=\"text-align: right;\">\n",
       "      <th></th>\n",
       "      <th>instance_option</th>\n",
       "      <th>cost_structure</th>\n",
       "      <th>dissipate_option</th>\n",
       "      <th>absorbing_option</th>\n",
       "      <th>k_init</th>\n",
       "      <th>Ni</th>\n",
       "      <th>Nj</th>\n",
       "      <th>tau</th>\n",
       "      <th>safe_time</th>\n",
       "      <th>option</th>\n",
       "      <th>LB</th>\n",
       "      <th>iter</th>\n",
       "      <th>obj</th>\n",
       "      <th>CI</th>\n",
       "      <th>train_time</th>\n",
       "      <th>test_time</th>\n",
       "    </tr>\n",
       "  </thead>\n",
       "  <tbody>\n",
       "    <tr>\n",
       "      <th>0</th>\n",
       "      <td>NaN</td>\n",
       "      <td>NaN</td>\n",
       "      <td>NaN</td>\n",
       "      <td>NaN</td>\n",
       "      <td>NaN</td>\n",
       "      <td>NaN</td>\n",
       "      <td>NaN</td>\n",
       "      <td>NaN</td>\n",
       "      <td>NaN</td>\n",
       "      <td>NaN</td>\n",
       "      <td>NaN</td>\n",
       "      <td>NaN</td>\n",
       "      <td>NaN</td>\n",
       "      <td>NaN</td>\n",
       "      <td>NaN</td>\n",
       "      <td>NaN</td>\n",
       "    </tr>\n",
       "    <tr>\n",
       "      <th>1</th>\n",
       "      <td>NaN</td>\n",
       "      <td>NaN</td>\n",
       "      <td>NaN</td>\n",
       "      <td>NaN</td>\n",
       "      <td>NaN</td>\n",
       "      <td>NaN</td>\n",
       "      <td>NaN</td>\n",
       "      <td>NaN</td>\n",
       "      <td>NaN</td>\n",
       "      <td>NaN</td>\n",
       "      <td>NaN</td>\n",
       "      <td>NaN</td>\n",
       "      <td>NaN</td>\n",
       "      <td>NaN</td>\n",
       "      <td>NaN</td>\n",
       "      <td>NaN</td>\n",
       "    </tr>\n",
       "    <tr>\n",
       "      <th>2</th>\n",
       "      <td>0.0</td>\n",
       "      <td>0.0</td>\n",
       "      <td>0.0</td>\n",
       "      <td>0.0</td>\n",
       "      <td>57.0</td>\n",
       "      <td>3.0</td>\n",
       "      <td>10.0</td>\n",
       "      <td>0.0</td>\n",
       "      <td>0.0</td>\n",
       "      <td>0.0</td>\n",
       "      <td>1736.741600</td>\n",
       "      <td>12531.0</td>\n",
       "      <td>65342.30402</td>\n",
       "      <td>7002.769047</td>\n",
       "      <td>497.344150</td>\n",
       "      <td>0.463747</td>\n",
       "    </tr>\n",
       "    <tr>\n",
       "      <th>3</th>\n",
       "      <td>0.0</td>\n",
       "      <td>0.0</td>\n",
       "      <td>0.0</td>\n",
       "      <td>0.0</td>\n",
       "      <td>57.0</td>\n",
       "      <td>3.0</td>\n",
       "      <td>10.0</td>\n",
       "      <td>0.0</td>\n",
       "      <td>0.0</td>\n",
       "      <td>1.0</td>\n",
       "      <td>1764.790464</td>\n",
       "      <td>1873.0</td>\n",
       "      <td>65362.54105</td>\n",
       "      <td>7007.387136</td>\n",
       "      <td>360.370947</td>\n",
       "      <td>1.063055</td>\n",
       "    </tr>\n",
       "    <tr>\n",
       "      <th>4</th>\n",
       "      <td>0.0</td>\n",
       "      <td>0.0</td>\n",
       "      <td>0.0</td>\n",
       "      <td>0.0</td>\n",
       "      <td>57.0</td>\n",
       "      <td>3.0</td>\n",
       "      <td>10.0</td>\n",
       "      <td>0.5</td>\n",
       "      <td>0.0</td>\n",
       "      <td>0.0</td>\n",
       "      <td>2924.287928</td>\n",
       "      <td>15903.0</td>\n",
       "      <td>68178.71681</td>\n",
       "      <td>7192.748904</td>\n",
       "      <td>662.588392</td>\n",
       "      <td>0.443435</td>\n",
       "    </tr>\n",
       "  </tbody>\n",
       "</table>\n",
       "</div>"
      ],
      "text/plain": [
       "   instance_option  cost_structure  dissipate_option  absorbing_option  \\\n",
       "0              NaN             NaN               NaN               NaN   \n",
       "1              NaN             NaN               NaN               NaN   \n",
       "2              0.0             0.0               0.0               0.0   \n",
       "3              0.0             0.0               0.0               0.0   \n",
       "4              0.0             0.0               0.0               0.0   \n",
       "\n",
       "   k_init   Ni    Nj  tau  safe_time  option           LB     iter  \\\n",
       "0     NaN  NaN   NaN  NaN        NaN     NaN          NaN      NaN   \n",
       "1     NaN  NaN   NaN  NaN        NaN     NaN          NaN      NaN   \n",
       "2    57.0  3.0  10.0  0.0        0.0     0.0  1736.741600  12531.0   \n",
       "3    57.0  3.0  10.0  0.0        0.0     1.0  1764.790464   1873.0   \n",
       "4    57.0  3.0  10.0  0.5        0.0     0.0  2924.287928  15903.0   \n",
       "\n",
       "           obj           CI  train_time  test_time  \n",
       "0          NaN          NaN         NaN        NaN  \n",
       "1          NaN          NaN         NaN        NaN  \n",
       "2  65342.30402  7002.769047  497.344150   0.463747  \n",
       "3  65362.54105  7007.387136  360.370947   1.063055  \n",
       "4  68178.71681  7192.748904  662.588392   0.443435  "
      ]
     },
     "execution_count": 3,
     "metadata": {},
     "output_type": "execute_result"
    }
   ],
   "source": [
    "df.head()"
   ]
  },
  {
   "cell_type": "code",
   "execution_count": 4,
   "id": "fac44924",
   "metadata": {},
   "outputs": [
    {
     "data": {
      "text/plain": [
       "(54, 16)"
      ]
     },
     "execution_count": 4,
     "metadata": {},
     "output_type": "execute_result"
    }
   ],
   "source": [
    "df = df.dropna()\n",
    "df.shape"
   ]
  },
  {
   "cell_type": "code",
   "execution_count": 5,
   "id": "d471a9ea",
   "metadata": {},
   "outputs": [],
   "source": [
    "df_option_0 = df[df['option'] == 0]\n",
    "df_option_1 = df[df['option'] == 1]\n",
    "df_option_0.reset_index(drop=True, inplace=True)\n",
    "df_option_1.reset_index(drop=True, inplace=True)"
   ]
  },
  {
   "cell_type": "code",
   "execution_count": 6,
   "id": "496ad770",
   "metadata": {},
   "outputs": [
    {
     "data": {
      "text/plain": [
       "(27, 16)"
      ]
     },
     "execution_count": 6,
     "metadata": {},
     "output_type": "execute_result"
    }
   ],
   "source": [
    "df_option_1.shape"
   ]
  },
  {
   "cell_type": "code",
   "execution_count": 7,
   "id": "ae2a6c5f",
   "metadata": {},
   "outputs": [],
   "source": [
    "# some table macros\n",
    "tauList = [0, 0.5, 5]\n",
    "NiList = [3,6,9]\n",
    "NjList = [10,20,30]"
   ]
  },
  {
   "cell_type": "code",
   "execution_count": 8,
   "id": "909a2c40",
   "metadata": {},
   "outputs": [],
   "source": [
    "# Create a LaTeX table string with the specified columns and multi-row header\n",
    "latex_table_custom = '';"
   ]
  },
  {
   "cell_type": "code",
   "execution_count": 9,
   "id": "b85a86e1",
   "metadata": {},
   "outputs": [
    {
     "name": "stdout",
     "output_type": "stream",
     "text": [
      "0 & 3.0 $\\quad$ 10.0 && 497.3 & 12531 && 360.4 & 1873  \\\\ \n",
      " &  $\\quad\\quad$ 10.0 && 662.6 & 15903 && 386.3 & 2010  \\\\ \n",
      " &  $\\quad\\quad$ 10.0 && 826.0 & 19276 && 137.5 & 909  \\\\ \n",
      " & 3.0  $\\quad\\quad$ 20.0 && 672.3 & 14163 && 166.0 & 1041  \\\\ \n",
      " &  $\\quad\\quad$ 20.0 && 585.6 & 11641 && 250.7 & 1373  \\\\ \n",
      " &  $\\quad\\quad$ 20.0 && 1049.1 & 20000 && 165.5 & 1006  \\\\ \n",
      " & 3.0  $\\quad\\quad$ 30.0 && 791.8 & 14057 && 181.6 & 1055  \\\\ \n",
      " &  $\\quad\\quad$ 30.0 && 885.2 & 14820 && 241.6 & 1320  \\\\ \n",
      " &  $\\quad\\quad$ 30.0 && 1144.4 & 18684 && 121.6 & 694  \\\\ \n",
      "\\hline\n",
      "0.5 & 6.0 $\\quad$ 10.0 && 799.7 & 14425 && 412.0 & 1319  \\\\ \n",
      " &  $\\quad\\quad$ 10.0 && 636.9 & 11273 && 329.1 & 1346  \\\\ \n",
      " &  $\\quad\\quad$ 10.0 && 886.8 & 15253 && 250.4 & 1064  \\\\ \n",
      " & 6.0  $\\quad\\quad$ 20.0 && 1039.3 & 16526 && 246.8 & 1060  \\\\ \n",
      " &  $\\quad\\quad$ 20.0 && 1057.6 & 15004 && 189.4 & 834  \\\\ \n",
      " &  $\\quad\\quad$ 20.0 && 809.1 & 11646 && 183.3 & 785  \\\\ \n",
      " & 6.0  $\\quad\\quad$ 30.0 && 997.1 & 13566 && 242.0 & 1011  \\\\ \n",
      " &  $\\quad\\quad$ 30.0 && 1131.0 & 14165 && 428.3 & 1547  \\\\ \n",
      " &  $\\quad\\quad$ 30.0 && 1778.1 & 21431 && 293.8 & 1131  \\\\ \n",
      "\\hline\n",
      "5 & 9.0 $\\quad$ 10.0 && 816.1 & 12548 && 298.6 & 1016  \\\\ \n",
      " &  $\\quad\\quad$ 10.0 && 1182.4 & 16266 && 537.3 & 1657  \\\\ \n",
      " &  $\\quad\\quad$ 10.0 && 1209.0 & 16253 && 228.1 & 800  \\\\ \n",
      " & 9.0  $\\quad\\quad$ 20.0 && 1184.7 & 15163 && 616.4 & 1805  \\\\ \n",
      " &  $\\quad\\quad$ 20.0 && 1486.4 & 16858 && 524.9 & 1564  \\\\ \n",
      " &  $\\quad\\quad$ 20.0 && 1594.5 & 17736 && 288.6 & 928  \\\\ \n",
      " & 9.0  $\\quad\\quad$ 30.0 && 1378.6 & 14785 && 354.8 & 1084  \\\\ \n",
      " &  $\\quad\\quad$ 30.0 && 1598.7 & 16019 && 222.2 & 740  \\\\ \n",
      " &  $\\quad\\quad$ 30.0 && 1740.8 & 16166 && 396.1 & 1154  \\\\ \n",
      "\n"
     ]
    }
   ],
   "source": [
    "# Combine data from both options into a single row for the LaTeX table with the specified columns\n",
    "idx = 0;\n",
    "for i1 in range(len(tauList)):\n",
    "    for i2 in range(len(NiList)):\n",
    "        for i3 in range(len(NjList)):\n",
    "            row_0 = df_option_0.iloc[idx] \n",
    "            row_1 = df_option_1.iloc[idx] \n",
    "            if i2 == 0:\n",
    "                if i3 == 0:\n",
    "                    latex_table_custom += f\"{tauList[i1]} & {row_0['Ni']} $\\quad$ {row_0['Nj']} && {round(row_0['train_time'],1)} & {round(row_0['iter'])} && {round(row_1['train_time'],1)} & {round(row_1['iter'])}  \\\\\\\\ \\n\"\n",
    "                else:\n",
    "                    latex_table_custom += f\" &  $\\quad\\quad$ {row_0['Nj']} && {round(row_0['train_time'],1)} & {round(row_0['iter'])} && {round(row_1['train_time'],1)} & {round(row_1['iter'])}  \\\\\\\\ \\n\"\n",
    "            else:\n",
    "                if i3 == 0:\n",
    "                    latex_table_custom += f\" & {row_0['Ni']}  $\\quad\\quad$ {row_0['Nj']} && {round(row_0['train_time'],1)} & {round(row_0['iter'])} && {round(row_1['train_time'],1)} & {round(row_1['iter'])}  \\\\\\\\ \\n\"\n",
    "                else:\n",
    "                    latex_table_custom += f\" &  $\\quad\\quad$ {row_0['Nj']} && {round(row_0['train_time'],1)} & {round(row_0['iter'])} && {round(row_1['train_time'],1)} & {round(row_1['iter'])}  \\\\\\\\ \\n\"\n",
    "            idx += 1;\n",
    "    if i1 != len(tauList)-1:\n",
    "        latex_table_custom += \"\\\\hline\\n\"\n",
    "\n",
    "print(latex_table_custom)\n",
    "# Save to a new .tex file\n",
    "with open('Table-cutsharing.tex', 'w') as f:\n",
    "    f.write(latex_table_custom)"
   ]
  },
  {
   "cell_type": "code",
   "execution_count": null,
   "id": "cf1fe8c1",
   "metadata": {},
   "outputs": [],
   "source": []
  }
 ],
 "metadata": {
  "kernelspec": {
   "display_name": "Python 3 (ipykernel)",
   "language": "python",
   "name": "python3"
  },
  "language_info": {
   "codemirror_mode": {
    "name": "ipython",
    "version": 3
   },
   "file_extension": ".py",
   "mimetype": "text/x-python",
   "name": "python",
   "nbconvert_exporter": "python",
   "pygments_lexer": "ipython3",
   "version": "3.8.12"
  }
 },
 "nbformat": 4,
 "nbformat_minor": 5
}
