{
 "cells": [
  {
   "cell_type": "code",
   "execution_count": 4,
   "id": "eef40f26",
   "metadata": {},
   "outputs": [],
   "source": [
    "import pandas as pd"
   ]
  },
  {
   "cell_type": "code",
   "execution_count": 6,
   "id": "9d8065e6",
   "metadata": {},
   "outputs": [],
   "source": [
    "# Load the CSV file\n",
    "file_path = '../FAresults-cutsharing.xlsx'\n",
    "df = pd.read_excel(file_path)"
   ]
  },
  {
   "cell_type": "code",
   "execution_count": null,
   "id": "298ead81",
   "metadata": {},
   "outputs": [],
   "source": [
    "df.head()"
   ]
  },
  {
   "cell_type": "code",
   "execution_count": null,
   "id": "38b1e87f",
   "metadata": {},
   "outputs": [],
   "source": [
    "# Drop rows with NaN values\n",
    "df = df.dropna()\n",
    "\n",
    "# Separate data based on the 'option' column\n",
    "df_option_0 = df[df['option'] == 0]\n",
    "df_option_1 = df[df['option'] == 1]\n",
    "\n",
    "# Reset index for both dataframes\n",
    "df_option_0.reset_index(drop=True, inplace=True)\n",
    "df_option_1.reset_index(drop=True, inplace=True)"
   ]
  },
  {
   "cell_type": "code",
   "execution_count": null,
   "id": "909a2c40",
   "metadata": {},
   "outputs": [],
   "source": [
    "# Create a LaTeX table string with the specified columns and multi-row header\n",
    "latex_table_custom = \"\"\"\n",
    "\\\\begin{table}[ht]\n",
    "\\\\centering\n",
    "\\\\begin{tabular}{|c|c|c|c|c|c|c|}\n",
    "\\\\hline\n",
    "\\\\textbf{Ni} & \\\\textbf{Nj} & \\\\textbf{tau} & \\\\multicolumn{2}{c|}{\\\\textbf{option = 0}} & \\\\multicolumn{2}{c|}{\\\\textbf{option = 1}} \\\\\\\\\n",
    "\\\\cline{4-7}\n",
    " &  &  & \\\\textbf{iter} & \\\\textbf{train\\_time} & \\\\textbf{iter} & \\\\textbf{train\\_time} \\\\\\\\\n",
    "\\\\hline\n",
    "\"\"\""
   ]
  },
  {
   "cell_type": "code",
   "execution_count": null,
   "id": "b85a86e1",
   "metadata": {},
   "outputs": [],
   "source": [
    "# Combine data from both options into a single row for the LaTeX table with the specified columns\n",
    "for idx in range(max(len(df_option_0), len(df_option_1))):\n",
    "    row_0 = df_option_0.iloc[idx] if idx < len(df_option_0) else [''] * len(df_option_0.columns)\n",
    "    row_1 = df_option_1.iloc[idx] if idx < len(df_option_1) else [''] * len(df_option_1.columns)\n",
    "    \n",
    "    latex_table_custom += f\"{row_0['Ni']} & {row_0['Nj']} & {row_0['tau']} & {row_0['iter']} & {row_0['train_time']} & {row_1['iter']} & {row_1['train_time']} \\\\\\\\ \\n\"\n",
    "    latex_table_custom += \"\\\\hline\\n\"\n",
    "\n",
    "latex_table_custom += \"\"\"\n",
    "\\\\end{tabular}\n",
    "\\\\caption{Results comparison for option 0 and option 1}\n",
    "\\\\label{tab:results_comparison}\n",
    "\\\\end{table}\n",
    "\"\"\"\n",
    "\n",
    "# Save to a new .tex file\n",
    "with open('Table-cutsharing.tex', 'w') as f:\n",
    "    f.write(latex_table_custom)"
   ]
  },
  {
   "cell_type": "code",
   "execution_count": null,
   "id": "cf1fe8c1",
   "metadata": {},
   "outputs": [],
   "source": []
  }
 ],
 "metadata": {
  "kernelspec": {
   "display_name": "Python 3 (ipykernel)",
   "language": "python",
   "name": "python3"
  },
  "language_info": {
   "codemirror_mode": {
    "name": "ipython",
    "version": 3
   },
   "file_extension": ".py",
   "mimetype": "text/x-python",
   "name": "python",
   "nbconvert_exporter": "python",
   "pygments_lexer": "ipython3",
   "version": "3.8.12"
  }
 },
 "nbformat": 4,
 "nbformat_minor": 5
}
