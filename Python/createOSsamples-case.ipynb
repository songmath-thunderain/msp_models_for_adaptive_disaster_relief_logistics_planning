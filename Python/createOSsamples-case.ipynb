{
 "cells": [
  {
   "cell_type": "code",
   "execution_count": 1,
   "id": "90b89e26",
   "metadata": {},
   "outputs": [],
   "source": [
    "import numpy as np;\n",
    "import pandas as pd;\n",
    "import sys;\n",
    "import csv;\n",
    "from misc import *\n",
    "from dataClass import *"
   ]
  },
  {
   "cell_type": "code",
   "execution_count": 2,
   "id": "fa4415ee",
   "metadata": {},
   "outputs": [
    {
     "data": {
      "text/plain": [
       "'\\n# Old input format for case study instance\\nP_intensity = pd.read_csv(\"data/case-study/mc_int_transition_prob.csv\").values;  # intensity MC\\nP_landfall = pd.read_csv(\"data/case-study/landfall.csv\").values;  # landfall MC\\n\\nNa = P_intensity.shape[0];  # intensity MC number of states\\nNc = P_landfall.shape[0];  # landfall MC number of states\\nT = Nc;  # define T_max\\n\\n\\ntrackMatrices = [];\\ntrackStates = [];\\nfor t in range(T-1):\\n    temp_name = \"data/case-study/mc_track_transition_prob_at_t\"+str(t)+\".csv\";\\n    temp_MC = pd.read_csv(temp_name).values\\n    temp_name2 = \"data/case-study/mc_track_mean_error_at_t\"+str(t+1)+\".csv\";\\n    temp_states = pd.read_csv(temp_name2).values[:,1];\\n\\n    trackMatrices.append(temp_MC);\\n    trackStates.append(temp_states);\\n\\n    if temp_MC.shape[1] != len(temp_states):\\n        print(\"Error in reading track MCs!\");\\n        exit(0);\\n\\nintensityFile = \\'data/case-study/mc_int_transition_prob.csv\\';\\ntrackProbFile = \\'data/case-study/mc_track_transition_prob_at_t\\';\\ntrackErrorFile = \\'data/case-study/mc_track_mean_error_at_t\\';\\nlandfallFile = \\'data/case-study/landfall_deterministic.csv\\';\\nhurricaneInstance = hurricaneData();\\nhurricaneInstance.input_from_Case(intensityFile, trackProbFile, trackErrorFile, landfallFile);\\n'"
      ]
     },
     "execution_count": 2,
     "metadata": {},
     "output_type": "execute_result"
    }
   ],
   "source": [
    "'''\n",
    "# Old input format for case study instance\n",
    "P_intensity = pd.read_csv(\"data/case-study/mc_int_transition_prob.csv\").values;  # intensity MC\n",
    "P_landfall = pd.read_csv(\"data/case-study/landfall.csv\").values;  # landfall MC\n",
    "\n",
    "Na = P_intensity.shape[0];  # intensity MC number of states\n",
    "Nc = P_landfall.shape[0];  # landfall MC number of states\n",
    "T = Nc;  # define T_max\n",
    "\n",
    "\n",
    "trackMatrices = [];\n",
    "trackStates = [];\n",
    "for t in range(T-1):\n",
    "    temp_name = \"data/case-study/mc_track_transition_prob_at_t\"+str(t)+\".csv\";\n",
    "    temp_MC = pd.read_csv(temp_name).values\n",
    "    temp_name2 = \"data/case-study/mc_track_mean_error_at_t\"+str(t+1)+\".csv\";\n",
    "    temp_states = pd.read_csv(temp_name2).values[:,1];\n",
    "\n",
    "    trackMatrices.append(temp_MC);\n",
    "    trackStates.append(temp_states);\n",
    "\n",
    "    if temp_MC.shape[1] != len(temp_states):\n",
    "        print(\"Error in reading track MCs!\");\n",
    "        exit(0);\n",
    "\n",
    "intensityFile = 'data/case-study/mc_int_transition_prob.csv';\n",
    "trackProbFile = 'data/case-study/mc_track_transition_prob_at_t';\n",
    "trackErrorFile = 'data/case-study/mc_track_mean_error_at_t';\n",
    "landfallFile = 'data/case-study/landfall_deterministic.csv';\n",
    "hurricaneInstance = hurricaneData();\n",
    "hurricaneInstance.input_from_Case(intensityFile, trackProbFile, trackErrorFile, landfallFile);\n",
    "'''"
   ]
  },
  {
   "cell_type": "code",
   "execution_count": 3,
   "id": "02b4b7c4",
   "metadata": {},
   "outputs": [
    {
     "name": "stdout",
     "output_type": "stream",
     "text": [
      "Total # of states K =  373\n",
      "Total # of MC states = [12,24,24,30,36,42,54,66,84]\n",
      "Total # of stages =  10\n"
     ]
    }
   ],
   "source": [
    "# new case study input interface\n",
    "hurricaneInstance = hurricaneData();\n",
    "absorbingFile = None; # deterministic landfall case: no need to supply the absorbingFile\n",
    "MCFile = 'data/case-study/SC-network/deterministic/pi_mssp_d.json';\n",
    "hurricaneInstance.input_from_Case_new(absorbingFile, MCFile);"
   ]
  },
  {
   "cell_type": "code",
   "execution_count": 4,
   "id": "43a73a7a",
   "metadata": {},
   "outputs": [
    {
     "name": "stdout",
     "output_type": "stream",
     "text": [
      "rr =  10000\n",
      "cc =  32\n"
     ]
    }
   ],
   "source": [
    "create_OSpaths(1,hurricaneInstance)"
   ]
  },
  {
   "cell_type": "code",
   "execution_count": null,
   "id": "988f2b59",
   "metadata": {},
   "outputs": [],
   "source": []
  },
  {
   "cell_type": "code",
   "execution_count": null,
   "id": "83f765eb",
   "metadata": {},
   "outputs": [],
   "source": [
    "\n",
    "\n"
   ]
  },
  {
   "cell_type": "code",
   "execution_count": null,
   "id": "4119cbc1",
   "metadata": {},
   "outputs": [],
   "source": []
  },
  {
   "cell_type": "code",
   "execution_count": null,
   "id": "931ec8fc",
   "metadata": {},
   "outputs": [],
   "source": []
  }
 ],
 "metadata": {
  "kernelspec": {
   "display_name": "Python 3 (ipykernel)",
   "language": "python",
   "name": "python3"
  },
  "language_info": {
   "codemirror_mode": {
    "name": "ipython",
    "version": 3
   },
   "file_extension": ".py",
   "mimetype": "text/x-python",
   "name": "python",
   "nbconvert_exporter": "python",
   "pygments_lexer": "ipython3",
   "version": "3.8.12"
  }
 },
 "nbformat": 4,
 "nbformat_minor": 5
}
