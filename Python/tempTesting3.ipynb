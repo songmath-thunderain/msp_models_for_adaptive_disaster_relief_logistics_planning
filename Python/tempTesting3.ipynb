{
 "cells": [
  {
   "cell_type": "code",
   "execution_count": null,
   "id": "90b89e26",
   "metadata": {},
   "outputs": [],
   "source": [
    "import numpy as np;\n",
    "import pandas as pd;\n",
    "import sys;\n",
    "import csv;\n",
    "from misc import *\n",
    "from dataClass import *"
   ]
  },
  {
   "cell_type": "code",
   "execution_count": null,
   "id": "988f2b59",
   "metadata": {},
   "outputs": [],
   "source": [
    "inputParams = inputParams(0, 0, 1, 2, 5, 57, 1000);\n",
    "hurricaneInstance = hurricaneData();"
   ]
  },
  {
   "cell_type": "code",
   "execution_count": null,
   "id": "4119cbc1",
   "metadata": {},
   "outputs": [],
   "source": [
    "intensityFile = 'data/synthetic/intensity.csv';\n",
    "locationFile = 'data/synthetic/location.csv';\n",
    "landfallFile = 'data/synthetic/landfall.csv';\n",
    "hurricaneInstance.input_from_Syn(intensityFile, locationFile, landfallFile, inputParams)"
   ]
  },
  {
   "cell_type": "code",
   "execution_count": null,
   "id": "931ec8fc",
   "metadata": {},
   "outputs": [],
   "source": [
    "print(hurricaneInstance.nodeScenList[(0,56)])"
   ]
  },
  {
   "cell_type": "code",
   "execution_count": null,
   "id": "b43b0bbc",
   "metadata": {},
   "outputs": [],
   "source": [
    "hurricaneInstance.states[55]"
   ]
  },
  {
   "cell_type": "code",
   "execution_count": null,
   "id": "58d76cf7",
   "metadata": {},
   "outputs": [],
   "source": [
    "print(hurricaneInstance.nodeScenList[(1,3)])"
   ]
  },
  {
   "cell_type": "code",
   "execution_count": null,
   "id": "0644d6be",
   "metadata": {},
   "outputs": [],
   "source": [
    "print(hurricaneInstance.nodeScenList[(2,3)])"
   ]
  },
  {
   "cell_type": "code",
   "execution_count": null,
   "id": "91fae6cb",
   "metadata": {},
   "outputs": [],
   "source": [
    "hurricaneInstance.nodeTime2Go[(1,37)]"
   ]
  },
  {
   "cell_type": "code",
   "execution_count": null,
   "id": "c601b994",
   "metadata": {},
   "outputs": [],
   "source": [
    "hurricaneInstance.nodeTime2Go[(0,56)]"
   ]
  },
  {
   "cell_type": "code",
   "execution_count": null,
   "id": "67684b9d",
   "metadata": {},
   "outputs": [],
   "source": [
    "hurricaneInstance.nodeTime2Go[(2,1)]"
   ]
  },
  {
   "cell_type": "code",
   "execution_count": null,
   "id": "eede4c42",
   "metadata": {},
   "outputs": [],
   "source": [
    "hurricaneInstance.nodeLists[4]"
   ]
  },
  {
   "cell_type": "code",
   "execution_count": null,
   "id": "54b57a56",
   "metadata": {},
   "outputs": [],
   "source": []
  },
  {
   "cell_type": "code",
   "execution_count": null,
   "id": "3f0ac271",
   "metadata": {},
   "outputs": [],
   "source": []
  }
 ],
 "metadata": {
  "kernelspec": {
   "display_name": "Python 3",
   "language": "python",
   "name": "python3"
  },
  "language_info": {
   "codemirror_mode": {
    "name": "ipython",
    "version": 3
   },
   "file_extension": ".py",
   "mimetype": "text/x-python",
   "name": "python",
   "nbconvert_exporter": "python",
   "pygments_lexer": "ipython3",
   "version": "3.8.8"
  }
 },
 "nbformat": 4,
 "nbformat_minor": 5
}
