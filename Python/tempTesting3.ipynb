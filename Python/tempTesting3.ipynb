{
 "cells": [
  {
   "cell_type": "code",
   "execution_count": 1,
   "id": "90b89e26",
   "metadata": {},
   "outputs": [],
   "source": [
    "import numpy as np;\n",
    "import pandas as pd;\n",
    "import sys;\n",
    "import csv;\n",
    "from misc import *\n",
    "from dataClass import *"
   ]
  },
  {
   "cell_type": "code",
   "execution_count": 2,
   "id": "988f2b59",
   "metadata": {},
   "outputs": [],
   "source": [
    "inputParams = inputParams(0, 0, 57, 1000);\n",
    "hurricaneInstance = hurricaneData();"
   ]
  },
  {
   "cell_type": "code",
   "execution_count": 3,
   "id": "4119cbc1",
   "metadata": {},
   "outputs": [
    {
     "name": "stdout",
     "output_type": "stream",
     "text": [
      "Total # of states K =  294\n",
      "Total # of intensity MC states =  6\n",
      "Total # of location MC states =  7\n",
      "Total # of stages =  7\n"
     ]
    }
   ],
   "source": [
    "intensityFile = 'data/synthetic/intensity.csv';\n",
    "locationFile = 'data/synthetic/location.csv';\n",
    "landfallFile = 'data/synthetic/landfall.csv';\n",
    "hurricaneInstance.input_from_Syn(intensityFile, locationFile, landfallFile, inputParams)"
   ]
  },
  {
   "cell_type": "code",
   "execution_count": 4,
   "id": "931ec8fc",
   "metadata": {},
   "outputs": [
    {
     "name": "stdout",
     "output_type": "stream",
     "text": [
      "[(6, 6), (6, 13), (6, 20), (6, 27), (6, 34), (6, 41), (6, 48), (5, 6), (5, 13), (5, 20), (5, 27), (5, 34), (5, 41), (5, 48), (4, 6), (4, 13), (4, 20), (4, 27), (4, 34), (4, 41), (4, 48), (3, 6), (3, 13), (3, 20), (3, 27), (3, 34), (3, 41), (3, 48), (2, 6), (2, 13), (2, 20), (2, 27), (2, 34), (2, 41), (2, 48), (6, 55), (6, 62), (6, 69), (6, 76), (6, 83), (6, 90), (6, 97), (6, 104), (6, 111), (6, 118), (6, 125), (6, 132), (6, 139), (6, 146), (5, 55), (5, 62), (5, 69), (5, 76), (5, 83), (5, 90), (5, 97), (6, 153), (6, 160), (6, 167), (6, 174), (6, 181), (6, 188), (6, 195), (5, 104), (5, 111), (5, 118), (5, 125), (5, 132), (5, 139), (5, 146), (4, 55), (4, 62), (4, 69), (4, 76), (4, 83), (4, 90), (4, 97), (6, 202), (6, 209), (6, 216), (6, 223), (6, 230), (6, 237), (6, 244), (5, 153), (5, 160), (5, 167), (5, 174), (5, 181), (5, 188), (5, 195), (4, 104), (4, 111), (4, 118), (4, 125), (4, 132), (4, 139), (4, 146), (6, 251), (6, 258), (6, 265), (6, 272), (6, 279), (6, 286), (6, 293), (5, 202), (5, 209), (5, 216), (5, 223), (5, 230), (5, 237), (5, 244), (4, 153), (4, 160), (4, 167), (4, 174), (4, 181), (4, 188), (4, 195), (3, 55), (3, 62), (3, 69), (3, 76), (3, 83), (3, 90), (3, 97), (3, 104), (3, 111), (3, 118), (3, 125), (3, 132), (3, 139), (3, 146), (5, 251), (5, 258), (5, 265), (5, 272), (5, 279), (5, 286), (5, 293), (4, 202), (4, 209), (4, 216), (4, 223), (4, 230), (4, 237), (4, 244), (3, 153), (3, 160), (3, 167), (3, 174), (3, 181), (3, 188), (3, 195), (2, 55), (2, 62), (2, 69), (2, 76), (2, 83), (2, 90), (2, 97), (2, 104), (2, 111), (2, 118), (2, 125), (2, 132), (2, 139), (2, 146), (4, 251), (4, 258), (4, 265), (4, 272), (4, 279), (4, 286), (4, 293), (3, 202), (3, 209), (3, 216), (3, 223), (3, 230), (3, 237), (3, 244), (2, 153), (2, 160), (2, 167), (2, 174), (2, 181), (2, 188), (2, 195)]\n"
     ]
    }
   ],
   "source": [
    "print(hurricaneInstance.nodeScenList[(0,56)])"
   ]
  },
  {
   "cell_type": "code",
   "execution_count": 5,
   "id": "b43b0bbc",
   "metadata": {},
   "outputs": [
    {
     "data": {
      "text/plain": [
       "[4, 6, 7]"
      ]
     },
     "execution_count": 5,
     "metadata": {},
     "output_type": "execute_result"
    }
   ],
   "source": [
    "hurricaneInstance.states[188]"
   ]
  },
  {
   "cell_type": "code",
   "execution_count": 6,
   "id": "58d76cf7",
   "metadata": {},
   "outputs": [
    {
     "name": "stdout",
     "output_type": "stream",
     "text": [
      "[(4, 6), (4, 13), (4, 20), (4, 27), (4, 34), (4, 41), (4, 48), (3, 6), (3, 13), (3, 20), (3, 27), (3, 34), (3, 41), (3, 48), (2, 6), (2, 13), (2, 20), (2, 27), (2, 34), (2, 41), (2, 48)]\n"
     ]
    }
   ],
   "source": [
    "print(hurricaneInstance.nodeScenList[(1,3)])"
   ]
  },
  {
   "cell_type": "code",
   "execution_count": 7,
   "id": "0644d6be",
   "metadata": {},
   "outputs": [
    {
     "name": "stdout",
     "output_type": "stream",
     "text": [
      "[(5, 6), (5, 13), (5, 20), (5, 27), (5, 34), (5, 41), (5, 48), (4, 6), (4, 13), (4, 20), (4, 27), (4, 34), (4, 41), (4, 48), (3, 6), (3, 13), (3, 20), (3, 27), (3, 34), (3, 41), (3, 48)]\n"
     ]
    }
   ],
   "source": [
    "print(hurricaneInstance.nodeScenList[(2,3)])"
   ]
  },
  {
   "cell_type": "code",
   "execution_count": 16,
   "id": "91fae6cb",
   "metadata": {},
   "outputs": [
    {
     "data": {
      "text/plain": [
       "2.936"
      ]
     },
     "execution_count": 16,
     "metadata": {},
     "output_type": "execute_result"
    }
   ],
   "source": [
    "hurricaneInstance.nodeTime2Go[(1,37)]"
   ]
  },
  {
   "cell_type": "code",
   "execution_count": 17,
   "id": "c601b994",
   "metadata": {},
   "outputs": [
    {
     "data": {
      "text/plain": [
       "4.266559999999995"
      ]
     },
     "execution_count": 17,
     "metadata": {},
     "output_type": "execute_result"
    }
   ],
   "source": [
    "hurricaneInstance.nodeTime2Go[(0,56)]"
   ]
  },
  {
   "cell_type": "code",
   "execution_count": 26,
   "id": "67684b9d",
   "metadata": {},
   "outputs": [
    {
     "ename": "KeyError",
     "evalue": "(2, 1)",
     "output_type": "error",
     "traceback": [
      "\u001b[0;31m---------------------------------------------------------------------------\u001b[0m",
      "\u001b[0;31mKeyError\u001b[0m                                  Traceback (most recent call last)",
      "\u001b[0;32m/var/folders/0s/qypk53qx37jbg8qwrmx9x_xr0000gp/T/ipykernel_63351/1212632246.py\u001b[0m in \u001b[0;36m<module>\u001b[0;34m\u001b[0m\n\u001b[0;32m----> 1\u001b[0;31m \u001b[0mhurricaneInstance\u001b[0m\u001b[0;34m.\u001b[0m\u001b[0mnodeTime2Go\u001b[0m\u001b[0;34m[\u001b[0m\u001b[0;34m(\u001b[0m\u001b[0;36m2\u001b[0m\u001b[0;34m,\u001b[0m\u001b[0;36m1\u001b[0m\u001b[0;34m)\u001b[0m\u001b[0;34m]\u001b[0m\u001b[0;34m\u001b[0m\u001b[0;34m\u001b[0m\u001b[0m\n\u001b[0m",
      "\u001b[0;31mKeyError\u001b[0m: (2, 1)"
     ]
    }
   ],
   "source": [
    "hurricaneInstance.nodeTime2Go[(2,1)]"
   ]
  },
  {
   "cell_type": "code",
   "execution_count": 18,
   "id": "eede4c42",
   "metadata": {},
   "outputs": [
    {
     "data": {
      "text/plain": [
       "[2,\n",
       " 3,\n",
       " 4,\n",
       " 5,\n",
       " 6,\n",
       " 9,\n",
       " 10,\n",
       " 11,\n",
       " 12,\n",
       " 13,\n",
       " 16,\n",
       " 17,\n",
       " 18,\n",
       " 19,\n",
       " 20,\n",
       " 23,\n",
       " 24,\n",
       " 25,\n",
       " 26,\n",
       " 27,\n",
       " 30,\n",
       " 31,\n",
       " 32,\n",
       " 33,\n",
       " 34,\n",
       " 37,\n",
       " 38,\n",
       " 39,\n",
       " 40,\n",
       " 41,\n",
       " 44,\n",
       " 45,\n",
       " 46,\n",
       " 47,\n",
       " 48,\n",
       " 51,\n",
       " 52,\n",
       " 53,\n",
       " 54,\n",
       " 55,\n",
       " 58,\n",
       " 59,\n",
       " 60,\n",
       " 61,\n",
       " 62,\n",
       " 65,\n",
       " 66,\n",
       " 67,\n",
       " 68,\n",
       " 69,\n",
       " 72,\n",
       " 73,\n",
       " 74,\n",
       " 75,\n",
       " 76,\n",
       " 79,\n",
       " 80,\n",
       " 81,\n",
       " 82,\n",
       " 83,\n",
       " 86,\n",
       " 87,\n",
       " 88,\n",
       " 89,\n",
       " 90,\n",
       " 93,\n",
       " 94,\n",
       " 95,\n",
       " 96,\n",
       " 97,\n",
       " 100,\n",
       " 101,\n",
       " 102,\n",
       " 103,\n",
       " 104,\n",
       " 107,\n",
       " 108,\n",
       " 109,\n",
       " 110,\n",
       " 111,\n",
       " 114,\n",
       " 115,\n",
       " 116,\n",
       " 117,\n",
       " 118,\n",
       " 121,\n",
       " 122,\n",
       " 123,\n",
       " 124,\n",
       " 125,\n",
       " 128,\n",
       " 129,\n",
       " 130,\n",
       " 131,\n",
       " 132,\n",
       " 135,\n",
       " 136,\n",
       " 137,\n",
       " 138,\n",
       " 139,\n",
       " 142,\n",
       " 143,\n",
       " 144,\n",
       " 145,\n",
       " 146,\n",
       " 149,\n",
       " 150,\n",
       " 151,\n",
       " 152,\n",
       " 153,\n",
       " 156,\n",
       " 157,\n",
       " 158,\n",
       " 159,\n",
       " 160,\n",
       " 163,\n",
       " 164,\n",
       " 165,\n",
       " 166,\n",
       " 167,\n",
       " 170,\n",
       " 171,\n",
       " 172,\n",
       " 173,\n",
       " 174,\n",
       " 177,\n",
       " 178,\n",
       " 179,\n",
       " 180,\n",
       " 181,\n",
       " 184,\n",
       " 185,\n",
       " 186,\n",
       " 187,\n",
       " 188,\n",
       " 191,\n",
       " 192,\n",
       " 193,\n",
       " 194,\n",
       " 195]"
      ]
     },
     "execution_count": 18,
     "metadata": {},
     "output_type": "execute_result"
    }
   ],
   "source": [
    "hurricaneInstance.nodeLists[2]"
   ]
  },
  {
   "cell_type": "code",
   "execution_count": null,
   "id": "54b57a56",
   "metadata": {},
   "outputs": [],
   "source": []
  }
 ],
 "metadata": {
  "kernelspec": {
   "display_name": "Python 3 (ipykernel)",
   "language": "python",
   "name": "python3"
  },
  "language_info": {
   "codemirror_mode": {
    "name": "ipython",
    "version": 3
   },
   "file_extension": ".py",
   "mimetype": "text/x-python",
   "name": "python",
   "nbconvert_exporter": "python",
   "pygments_lexer": "ipython3",
   "version": "3.8.12"
  }
 },
 "nbformat": 4,
 "nbformat_minor": 5
}
