{
 "cells": [
  {
   "cell_type": "code",
   "execution_count": 1,
   "id": "90b89e26",
   "metadata": {},
   "outputs": [],
   "source": [
    "import numpy as np;\n",
    "import pandas as pd;\n",
    "import sys;\n",
    "import csv;\n",
    "from misc import *\n",
    "from dataClass import *"
   ]
  },
  {
   "cell_type": "code",
   "execution_count": 2,
   "id": "988f2b59",
   "metadata": {},
   "outputs": [],
   "source": [
    "inputParams = inputParams(1, 0, 57, 1000);\n",
    "hurricaneInstance = hurricaneData();"
   ]
  },
  {
   "cell_type": "code",
   "execution_count": 3,
   "id": "4119cbc1",
   "metadata": {},
   "outputs": [
    {
     "name": "stdout",
     "output_type": "stream",
     "text": [
      "Total # of states K =  294\n",
      "Total # of intensity MC states =  6\n",
      "Total # of location MC states =  7\n",
      "Total # of stages =  7\n"
     ]
    }
   ],
   "source": [
    "intensityFile = 'data/synthetic/intensity.csv';\n",
    "locationFile = 'data/synthetic/location.csv';\n",
    "landfallFile = 'data/synthetic/landfall.csv';\n",
    "hurricaneInstance.input_from_Syn(intensityFile, locationFile, landfallFile, inputParams)"
   ]
  },
  {
   "cell_type": "code",
   "execution_count": 8,
   "id": "931ec8fc",
   "metadata": {},
   "outputs": [
    {
     "name": "stdout",
     "output_type": "stream",
     "text": [
      "[(2, 2), (2, 3), (2, 4), (2, 9), (2, 10), (2, 11), (2, 16), (2, 17), (2, 18), (2, 23), (2, 24), (2, 25), (2, 30), (2, 31), (2, 32), (2, 37), (2, 38), (2, 39), (2, 44), (2, 45), (2, 46), (3, 3), (3, 4), (3, 5), (3, 10), (3, 11), (3, 12), (3, 17), (3, 18), (3, 19), (3, 24), (3, 25), (3, 26), (3, 31), (3, 32), (3, 33), (3, 38), (3, 39), (3, 40), (3, 45), (3, 46), (3, 47), (4, 4), (4, 5), (4, 6), (4, 11), (4, 12), (4, 13), (4, 18), (4, 19), (4, 20), (4, 25), (4, 26), (4, 27), (4, 32), (4, 33), (4, 34), (4, 39), (4, 40), (4, 41), (4, 46), (4, 47), (4, 48), (5, 5), (5, 6), (5, 12), (5, 13), (5, 19), (5, 20), (5, 26), (5, 27), (5, 33), (5, 34), (5, 40), (5, 41), (5, 47), (5, 48), (6, 6), (6, 13), (6, 20), (6, 27), (6, 34), (6, 41), (6, 48), (6, 55), (6, 62), (6, 69), (6, 76), (6, 83), (6, 90), (6, 97), (6, 104), (6, 111), (6, 118), (6, 125), (6, 132), (6, 139), (6, 146), (5, 55), (5, 62), (5, 69), (5, 76), (5, 83), (5, 90), (5, 97), (6, 153), (6, 160), (6, 167), (6, 174), (6, 181), (6, 188), (6, 195), (5, 104), (5, 111), (5, 118), (5, 125), (5, 132), (5, 139), (5, 146), (4, 55), (4, 62), (4, 69), (4, 76), (4, 83), (4, 90), (4, 97), (6, 202), (6, 209), (6, 216), (6, 223), (6, 230), (6, 237), (6, 244), (5, 153), (5, 160), (5, 167), (5, 174), (5, 181), (5, 188), (5, 195), (4, 104), (4, 111), (4, 118), (4, 125), (4, 132), (4, 139), (4, 146), (6, 251), (6, 258), (6, 265), (6, 272), (6, 279), (6, 286), (6, 293), (5, 202), (5, 209), (5, 216), (5, 223), (5, 230), (5, 237), (5, 244), (4, 153), (4, 160), (4, 167), (4, 174), (4, 181), (4, 188), (4, 195), (3, 6), (3, 13), (3, 20), (3, 27), (3, 34), (3, 41), (3, 48), (3, 55), (3, 62), (3, 69), (3, 76), (3, 83), (3, 90), (3, 97), (3, 104), (3, 111), (3, 118), (3, 125), (3, 132), (3, 139), (3, 146), (5, 251), (5, 258), (5, 265), (5, 272), (5, 279), (5, 286), (5, 293), (4, 202), (4, 209), (4, 216), (4, 223), (4, 230), (4, 237), (4, 244), (3, 153), (3, 160), (3, 167), (3, 174), (3, 181), (3, 188), (3, 195)]\n"
     ]
    }
   ],
   "source": [
    "print(hurricaneInstance.nodeScenList[(1,57)])"
   ]
  },
  {
   "cell_type": "code",
   "execution_count": null,
   "id": "b43b0bbc",
   "metadata": {},
   "outputs": [],
   "source": []
  }
 ],
 "metadata": {
  "kernelspec": {
   "display_name": "Python 3 (ipykernel)",
   "language": "python",
   "name": "python3"
  },
  "language_info": {
   "codemirror_mode": {
    "name": "ipython",
    "version": 3
   },
   "file_extension": ".py",
   "mimetype": "text/x-python",
   "name": "python",
   "nbconvert_exporter": "python",
   "pygments_lexer": "ipython3",
   "version": "3.8.12"
  }
 },
 "nbformat": 4,
 "nbformat_minor": 5
}
