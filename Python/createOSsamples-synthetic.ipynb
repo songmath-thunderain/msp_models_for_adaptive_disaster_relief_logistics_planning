{
 "cells": [
  {
   "cell_type": "code",
   "execution_count": 2,
   "id": "90b89e26",
   "metadata": {},
   "outputs": [
    {
     "ename": "ModuleNotFoundError",
     "evalue": "No module named 'numpy'",
     "output_type": "error",
     "traceback": [
      "\u001b[0;31m---------------------------------------------------------------------------\u001b[0m",
      "\u001b[0;31mModuleNotFoundError\u001b[0m                       Traceback (most recent call last)",
      "Cell \u001b[0;32mIn[2], line 1\u001b[0m\n\u001b[0;32m----> 1\u001b[0m \u001b[38;5;28;01mimport\u001b[39;00m \u001b[38;5;21;01mnumpy\u001b[39;00m \u001b[38;5;28;01mas\u001b[39;00m \u001b[38;5;21;01mnp\u001b[39;00m;\n\u001b[1;32m      2\u001b[0m \u001b[38;5;28;01mimport\u001b[39;00m \u001b[38;5;21;01mpandas\u001b[39;00m \u001b[38;5;28;01mas\u001b[39;00m \u001b[38;5;21;01mpd\u001b[39;00m;\n\u001b[1;32m      3\u001b[0m \u001b[38;5;28;01mimport\u001b[39;00m \u001b[38;5;21;01msys\u001b[39;00m;\n",
      "\u001b[0;31mModuleNotFoundError\u001b[0m: No module named 'numpy'"
     ]
    }
   ],
   "source": [
    "import numpy as np;\n",
    "import pandas as pd;\n",
    "import sys;\n",
    "import csv;\n",
    "from misc import *\n",
    "from dataClass import *"
   ]
  },
  {
   "cell_type": "code",
   "execution_count": null,
   "id": "ee6c2ee7",
   "metadata": {},
   "outputs": [],
   "source": [
    "P_intensity = pd.read_csv(\"data/synthetic/intensity.csv\").values;  # intensity MC\n",
    "P_landfall = pd.read_csv(\"data/synthetic/landfall-D.csv\").values;  # landfall MC\n",
    "\n",
    "Na = P_intensity.shape[0];  # intensity MC number of states\n",
    "Nc = P_landfall.shape[0];  # landfall MC number of states\n",
    "T = Nc;  # define T_max\n"
   ]
  },
  {
   "cell_type": "code",
   "execution_count": null,
   "id": "fa4415ee",
   "metadata": {},
   "outputs": [],
   "source": [
    "hurricaneInstance = hurricaneData();\n",
    "intensityFile = \"data/synthetic/intensity.csv\";\n",
    "locationFile = \"data/synthetic/location.csv\";\n",
    "landfallFile = \"data/synthetic/landfall-D.csv\";\n"
   ]
  },
  {
   "cell_type": "code",
   "execution_count": null,
   "id": "43a73a7a",
   "metadata": {},
   "outputs": [],
   "source": [
    "inputParams = inputParams(0,0,0,0,0,57,100);\n",
    "hurricaneInstance.input_from_Syn(intensityFile, locationFile, landfallFile, inputParams);\n",
    "create_OSpaths(57,hurricaneInstance)\n"
   ]
  },
  {
   "cell_type": "code",
   "execution_count": null,
   "id": "988f2b59",
   "metadata": {},
   "outputs": [],
   "source": [
    "inputParams = inputParams(0,0,0,0,0,155,100);\n",
    "hurricaneInstance.input_from_Syn(intensityFile, locationFile, landfallFile, inputParams);\n",
    "create_OSpaths(155,hurricaneInstance)\n"
   ]
  },
  {
   "cell_type": "code",
   "execution_count": null,
   "id": "83f765eb",
   "metadata": {},
   "outputs": [],
   "source": [
    "inputParams = inputParams(0,0,0,0,0,253,100);\n",
    "hurricaneInstance.input_from_Syn(intensityFile, locationFile, landfallFile, inputParams);\n",
    "create_OSpaths(253,hurricaneInstance)\n",
    "\n"
   ]
  },
  {
   "cell_type": "code",
   "execution_count": 2,
   "id": "4119cbc1",
   "metadata": {},
   "outputs": [],
   "source": []
  },
  {
   "cell_type": "code",
   "execution_count": null,
   "id": "931ec8fc",
   "metadata": {},
   "outputs": [],
   "source": []
  }
 ],
 "metadata": {
  "kernelspec": {
   "display_name": "Python 3",
   "language": "python",
   "name": "python3"
  },
  "language_info": {
   "codemirror_mode": {
    "name": "ipython",
    "version": 3
   },
   "file_extension": ".py",
   "mimetype": "text/x-python",
   "name": "python",
   "nbconvert_exporter": "python",
   "pygments_lexer": "ipython3",
   "version": "3.8.1"
  }
 },
 "nbformat": 4,
 "nbformat_minor": 5
}
