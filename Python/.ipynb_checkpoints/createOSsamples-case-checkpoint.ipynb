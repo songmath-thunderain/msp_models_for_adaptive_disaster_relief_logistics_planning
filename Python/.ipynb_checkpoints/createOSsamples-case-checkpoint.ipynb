{
 "cells": [
  {
   "cell_type": "code",
   "execution_count": null,
   "id": "90b89e26",
   "metadata": {},
   "outputs": [],
   "source": [
    "import numpy as np;\n",
    "import pandas as pd;\n",
    "import sys;\n",
    "import csv;\n",
    "from misc import *\n",
    "from dataClass import *"
   ]
  },
  {
   "cell_type": "code",
   "execution_count": null,
   "id": "fa4415ee",
   "metadata": {},
   "outputs": [],
   "source": [
    "'''\n",
    "# Old input format for case study instance\n",
    "P_intensity = pd.read_csv(\"data/case-study/mc_int_transition_prob.csv\").values;  # intensity MC\n",
    "P_landfall = pd.read_csv(\"data/case-study/landfall.csv\").values;  # landfall MC\n",
    "\n",
    "Na = P_intensity.shape[0];  # intensity MC number of states\n",
    "Nc = P_landfall.shape[0];  # landfall MC number of states\n",
    "T = Nc;  # define T_max\n",
    "\n",
    "\n",
    "trackMatrices = [];\n",
    "trackStates = [];\n",
    "for t in range(T-1):\n",
    "    temp_name = \"data/case-study/mc_track_transition_prob_at_t\"+str(t)+\".csv\";\n",
    "    temp_MC = pd.read_csv(temp_name).values\n",
    "    temp_name2 = \"data/case-study/mc_track_mean_error_at_t\"+str(t+1)+\".csv\";\n",
    "    temp_states = pd.read_csv(temp_name2).values[:,1];\n",
    "\n",
    "    trackMatrices.append(temp_MC);\n",
    "    trackStates.append(temp_states);\n",
    "\n",
    "    if temp_MC.shape[1] != len(temp_states):\n",
    "        print(\"Error in reading track MCs!\");\n",
    "        exit(0);\n",
    "\n",
    "intensityFile = 'data/case-study/mc_int_transition_prob.csv';\n",
    "trackProbFile = 'data/case-study/mc_track_transition_prob_at_t';\n",
    "trackErrorFile = 'data/case-study/mc_track_mean_error_at_t';\n",
    "landfallFile = 'data/case-study/landfall_deterministic.csv';\n",
    "hurricaneInstance = hurricaneData();\n",
    "hurricaneInstance.input_from_Case(intensityFile, trackProbFile, trackErrorFile, landfallFile);\n",
    "'''"
   ]
  },
  {
   "cell_type": "code",
   "execution_count": null,
   "id": "02b4b7c4",
   "metadata": {},
   "outputs": [],
   "source": [
    "# new case study input interface\n",
    "hurricaneInstance = hurricaneData();\n",
    "absorbingFile = None; # deterministic landfall case: no need to supply the absorbingFile\n",
    "MCFile = 'data/case-study/SC-network/deterministic/pi_mssp_d.json';\n",
    "hurricaneInstance.input_from_Case_new(absorbingFile, MCFile);"
   ]
  },
  {
   "cell_type": "code",
   "execution_count": null,
   "id": "43a73a7a",
   "metadata": {},
   "outputs": [],
   "source": [
    "create_OSpaths(1,hurricaneInstance)"
   ]
  },
  {
   "cell_type": "code",
   "execution_count": null,
   "id": "988f2b59",
   "metadata": {},
   "outputs": [],
   "source": []
  },
  {
   "cell_type": "code",
   "execution_count": null,
   "id": "83f765eb",
   "metadata": {},
   "outputs": [],
   "source": [
    "\n",
    "\n"
   ]
  },
  {
   "cell_type": "code",
   "execution_count": 2,
   "id": "4119cbc1",
   "metadata": {},
   "outputs": [],
   "source": []
  },
  {
   "cell_type": "code",
   "execution_count": null,
   "id": "931ec8fc",
   "metadata": {},
   "outputs": [],
   "source": []
  }
 ],
 "metadata": {
  "kernelspec": {
   "display_name": "Python 3 (ipykernel)",
   "language": "python",
   "name": "python3"
  },
  "language_info": {
   "codemirror_mode": {
    "name": "ipython",
    "version": 3
   },
   "file_extension": ".py",
   "mimetype": "text/x-python",
   "name": "python",
   "nbconvert_exporter": "python",
   "pygments_lexer": "ipython3",
   "version": "3.8.12"
  }
 },
 "nbformat": 4,
 "nbformat_minor": 5
}
