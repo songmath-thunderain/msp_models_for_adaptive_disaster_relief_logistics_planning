{
 "cells": [
  {
   "cell_type": "code",
   "execution_count": 1,
   "id": "90b89e26",
   "metadata": {},
   "outputs": [],
   "source": [
    "import numpy as np;\n",
    "import pandas as pd;\n",
    "import sys;\n",
    "import csv;\n",
    "from misc import *\n",
    "from dataClass import *"
   ]
  },
  {
   "cell_type": "code",
   "execution_count": 2,
   "id": "988f2b59",
   "metadata": {},
   "outputs": [],
   "source": [
    "inputParams = inputParams(0, 0, 1, 2, 5, 57, 1000);\n",
    "hurricaneInstance = hurricaneData();"
   ]
  },
  {
   "cell_type": "code",
   "execution_count": 3,
   "id": "4119cbc1",
   "metadata": {},
   "outputs": [
    {
     "name": "stdout",
     "output_type": "stream",
     "text": [
      "Total # of states K =  294\n",
      "Total # of intensity MC states =  6\n",
      "Total # of location MC states =  7\n",
      "Total # of stages =  7\n",
      "Total # of absorbing stages =  42\n"
     ]
    }
   ],
   "source": [
    "intensityFile = 'data/synthetic/intensity.csv';\n",
    "locationFile = 'data/synthetic/location.csv';\n",
    "landfallFile = 'data/synthetic/landfall.csv';\n",
    "hurricaneInstance.input_from_Syn(intensityFile, locationFile, landfallFile, inputParams)"
   ]
  },
  {
   "cell_type": "code",
   "execution_count": 4,
   "id": "931ec8fc",
   "metadata": {},
   "outputs": [
    {
     "name": "stdout",
     "output_type": "stream",
     "text": [
      "[(6, 6), (6, 13), (6, 20), (6, 27), (6, 34), (6, 41), (6, 48), (5, 6), (5, 13), (5, 20), (5, 27), (5, 34), (5, 41), (5, 48), (4, 6), (4, 13), (4, 20), (4, 27), (4, 34), (4, 41), (4, 48), (3, 6), (3, 13), (3, 20), (3, 27), (3, 34), (3, 41), (3, 48), (2, 6), (2, 13), (2, 20), (2, 27), (2, 34), (2, 41), (2, 48), (6, 55), (6, 62), (6, 69), (6, 76), (6, 83), (6, 90), (6, 97), (6, 104), (6, 111), (6, 118), (6, 125), (6, 132), (6, 139), (6, 146), (5, 55), (5, 62), (5, 69), (5, 76), (5, 83), (5, 90), (5, 97), (6, 153), (6, 160), (6, 167), (6, 174), (6, 181), (6, 188), (6, 195), (5, 104), (5, 111), (5, 118), (5, 125), (5, 132), (5, 139), (5, 146), (4, 55), (4, 62), (4, 69), (4, 76), (4, 83), (4, 90), (4, 97), (6, 202), (6, 209), (6, 216), (6, 223), (6, 230), (6, 237), (6, 244), (5, 153), (5, 160), (5, 167), (5, 174), (5, 181), (5, 188), (5, 195), (4, 104), (4, 111), (4, 118), (4, 125), (4, 132), (4, 139), (4, 146), (6, 251), (6, 258), (6, 265), (6, 272), (6, 279), (6, 286), (6, 293), (5, 202), (5, 209), (5, 216), (5, 223), (5, 230), (5, 237), (5, 244), (4, 153), (4, 160), (4, 167), (4, 174), (4, 181), (4, 188), (4, 195), (3, 55), (3, 62), (3, 69), (3, 76), (3, 83), (3, 90), (3, 97), (3, 104), (3, 111), (3, 118), (3, 125), (3, 132), (3, 139), (3, 146), (5, 251), (5, 258), (5, 265), (5, 272), (5, 279), (5, 286), (5, 293), (4, 202), (4, 209), (4, 216), (4, 223), (4, 230), (4, 237), (4, 244), (3, 153), (3, 160), (3, 167), (3, 174), (3, 181), (3, 188), (3, 195), (2, 55), (2, 62), (2, 69), (2, 76), (2, 83), (2, 90), (2, 97), (2, 104), (2, 111), (2, 118), (2, 125), (2, 132), (2, 139), (2, 146), (4, 251), (4, 258), (4, 265), (4, 272), (4, 279), (4, 286), (4, 293), (3, 202), (3, 209), (3, 216), (3, 223), (3, 230), (3, 237), (3, 244), (2, 153), (2, 160), (2, 167), (2, 174), (2, 181), (2, 188), (2, 195)]\n"
     ]
    }
   ],
   "source": [
    "print(hurricaneInstance.nodeScenList[(0,56)])"
   ]
  },
  {
   "cell_type": "code",
   "execution_count": 5,
   "id": "b43b0bbc",
   "metadata": {},
   "outputs": [
    {
     "data": {
      "text/plain": [
       "[2, 1, 7]"
      ]
     },
     "execution_count": 5,
     "metadata": {},
     "output_type": "execute_result"
    }
   ],
   "source": [
    "hurricaneInstance.states[55]"
   ]
  },
  {
   "cell_type": "code",
   "execution_count": 6,
   "id": "58d76cf7",
   "metadata": {},
   "outputs": [
    {
     "name": "stdout",
     "output_type": "stream",
     "text": [
      "[(4, 6), (4, 13), (4, 20), (4, 27), (4, 34), (4, 41), (4, 48), (3, 6), (3, 13), (3, 20), (3, 27), (3, 34), (3, 41), (3, 48), (2, 6), (2, 13), (2, 20), (2, 27), (2, 34), (2, 41), (2, 48)]\n"
     ]
    }
   ],
   "source": [
    "print(hurricaneInstance.nodeScenList[(1,3)])"
   ]
  },
  {
   "cell_type": "code",
   "execution_count": 7,
   "id": "0644d6be",
   "metadata": {},
   "outputs": [
    {
     "name": "stdout",
     "output_type": "stream",
     "text": [
      "[(5, 6), (5, 13), (5, 20), (5, 27), (5, 34), (5, 41), (5, 48), (4, 6), (4, 13), (4, 20), (4, 27), (4, 34), (4, 41), (4, 48), (3, 6), (3, 13), (3, 20), (3, 27), (3, 34), (3, 41), (3, 48)]\n"
     ]
    }
   ],
   "source": [
    "print(hurricaneInstance.nodeScenList[(2,3)])"
   ]
  },
  {
   "cell_type": "code",
   "execution_count": 8,
   "id": "91fae6cb",
   "metadata": {},
   "outputs": [
    {
     "data": {
      "text/plain": [
       "2.936"
      ]
     },
     "execution_count": 8,
     "metadata": {},
     "output_type": "execute_result"
    }
   ],
   "source": [
    "hurricaneInstance.nodeTime2Go[(1,37)]"
   ]
  },
  {
   "cell_type": "code",
   "execution_count": 9,
   "id": "c601b994",
   "metadata": {},
   "outputs": [
    {
     "data": {
      "text/plain": [
       "4.266559999999995"
      ]
     },
     "execution_count": 9,
     "metadata": {},
     "output_type": "execute_result"
    }
   ],
   "source": [
    "hurricaneInstance.nodeTime2Go[(0,56)]"
   ]
  },
  {
   "cell_type": "code",
   "execution_count": 10,
   "id": "eede4c42",
   "metadata": {},
   "outputs": [],
   "source": [
    "create_ISpaths(hurricaneInstance, 500, 'data/synthetic/in_sample_500.dat')"
   ]
  },
  {
   "cell_type": "code",
   "execution_count": 11,
   "id": "54b57a56",
   "metadata": {},
   "outputs": [],
   "source": [
    "file = open('data/synthetic/in_sample_500.dat', 'rb')\n",
    "in_sample_dict = pickle.load(file)\n",
    "file.close()"
   ]
  },
  {
   "cell_type": "code",
   "execution_count": null,
   "id": "58ee107d",
   "metadata": {},
   "outputs": [],
   "source": []
  }
 ],
 "metadata": {
  "kernelspec": {
   "display_name": "Python 3 (ipykernel)",
   "language": "python",
   "name": "python3"
  },
  "language_info": {
   "codemirror_mode": {
    "name": "ipython",
    "version": 3
   },
   "file_extension": ".py",
   "mimetype": "text/x-python",
   "name": "python",
   "nbconvert_exporter": "python",
   "pygments_lexer": "ipython3",
   "version": "3.8.12"
  }
 },
 "nbformat": 4,
 "nbformat_minor": 5
}
