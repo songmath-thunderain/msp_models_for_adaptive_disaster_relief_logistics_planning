{
 "cells": [
  {
   "cell_type": "code",
   "execution_count": 1,
   "id": "8ada3978",
   "metadata": {},
   "outputs": [
    {
     "name": "stderr",
     "output_type": "stream",
     "text": [
      "\u001b[32m\u001b[1m    Updating\u001b[22m\u001b[39m registry at `~/.julia/registries/General`\n",
      "\u001b[32m\u001b[1m   Resolving\u001b[22m\u001b[39m package versions...\n",
      "\u001b[32m\u001b[1m  No Changes\u001b[22m\u001b[39m to `~/.julia/environments/v1.6/Project.toml`\n",
      "\u001b[32m\u001b[1m  No Changes\u001b[22m\u001b[39m to `~/.julia/environments/v1.6/Manifest.toml`\n"
     ]
    }
   ],
   "source": [
    "import Pkg; Pkg.add(\"Plots\")"
   ]
  },
  {
   "cell_type": "code",
   "execution_count": 2,
   "id": "9aa31b45",
   "metadata": {},
   "outputs": [],
   "source": [
    "using CSV, DataFrames, Plots, Plots.PlotMeasures, StatsPlots, LaTeXStrings"
   ]
  },
  {
   "cell_type": "code",
   "execution_count": 4,
   "id": "1578c629",
   "metadata": {},
   "outputs": [],
   "source": [
    "raw = CSV.read(\"data_to_convert_to_table.csv\",DataFrame);\n",
    "data = Matrix(raw);\n",
    "df = DataFrame(\"FA-MSP-R\" => data[:,1] , \"S-2SSP-R\" => data[:,5], \"RH-2SSP-R\" => data[:,9]);\n",
    "temp_matrix = Matrix(df);"
   ]
  },
  {
   "cell_type": "code",
   "execution_count": 5,
   "id": "4666ce17",
   "metadata": {},
   "outputs": [],
   "source": [
    "rho = [\"0.05\", \"0.5\", \"5\"];\n",
    "SPs = [\"3\", \"6\", \"9\"]\n",
    "DPs = [\"10\", \"20\", \"30\"];\n",
    "policies = names(df);\n",
    "count = 1;\n",
    "avgvals = Dict();\n",
    "for r=1:length(rho)\n",
    "    \n",
    "    tempi = Dict(SPs[ii] => zeros(length(SPs)) for ii=1:length(SPs));\n",
    "    tempj = Dict(DPs[jj] => zeros(length(DPs)) for jj=1:length(DPs));\n",
    "\n",
    "    for i=1:length(SPs) \n",
    "        for j=1:length(DPs)\n",
    "\n",
    "            tempj[DPs[i]][1] += temp_matrix[count,1]/length(DPs)\n",
    "            tempj[DPs[i]][2] += temp_matrix[count,2]/length(DPs)\n",
    "            tempj[DPs[i]][3] += temp_matrix[count,3]/length(DPs)\n",
    "            tempi[SPs[j]][1] += temp_matrix[count,1]/length(DPs)\n",
    "            tempi[SPs[j]][2] += temp_matrix[count,2]/length(DPs)\n",
    "            tempi[SPs[j]][3] += temp_matrix[count,3]/length(DPs)\n",
    "\n",
    "            count += 1;\n",
    "        end\n",
    "    end\n",
    "    avgvals[rho[r]] = Dict(\"DPs\" => tempi, \"SPs\" => tempj);\n",
    "    \n",
    "end\n",
    "\n",
    "\n",
    "cleandict = Dict();\n",
    "for r=1:length(rho)\n",
    "    rval = rho[r];\n",
    "    temp2SPs = Dict()\n",
    "    SPvals = zeros(length(SPs), length(policies))\n",
    "    DPvals = zeros(length(DPs), length(policies))\n",
    "    for i=1:length(SPs)\n",
    "        SPvals[i,:] = avgvals[rho[r]][\"SPs\"][DPs[i]]\n",
    "    end\n",
    "    \n",
    "    for j=1:length(DPs)\n",
    "        DPvals[j,:] = avgvals[rho[r]][\"DPs\"][SPs[j]]\n",
    "    end\n",
    "    \n",
    "    temp2SPs[\"SPs\"] = SPvals\n",
    "    temp2SPs[\"DPs\"] = DPvals\n",
    "    cleandict[rval] = temp2SPs;\n",
    "end"
   ]
  },
  {
   "cell_type": "code",
   "execution_count": 6,
   "id": "ba17c865",
   "metadata": {},
   "outputs": [],
   "source": [
    "policies = [\"FA-MSP\",\"RH-2SSP\",\"S-2SSP\"];"
   ]
  },
  {
   "cell_type": "code",
   "execution_count": 7,
   "id": "8b4f9bfc",
   "metadata": {},
   "outputs": [
    {
     "data": {
      "text/plain": [
       "\"/Users/yongjis/Documents/GitHub/msp_models_for_adaptive_disaster_relief_logistics_planning/random/results/plots/averages/p0.05.png\""
      ]
     },
     "execution_count": 7,
     "metadata": {},
     "output_type": "execute_result"
    }
   ],
   "source": [
    "r=1\n",
    "rval = rho[r];\n",
    "dt1 = cleandict[rval][\"SPs\"];\n",
    "dt2 = cleandict[rval][\"DPs\"];\n",
    "\n",
    "p1= groupedbar(\n",
    "    SPs,\n",
    "    dt1,\n",
    "    xlabel=L\"|I|\",\n",
    "    ylabel=L\"\\textrm{value~of}~\\hat{z}~\\textrm{on~average}\",\n",
    "    label=[policies[1] policies[2] policies[3]],\n",
    "    bar_position = :dodge,\n",
    "    bar_width=0.7,\n",
    "    color = [:black :red :blue],\n",
    "    leg=(0.1,0.95),\n",
    "    windowsize=(1000,550),\n",
    "    xtickfontsize = 12,\n",
    "    ytickfontsize = 12,\n",
    "    guidefont=font(25),\n",
    "    bottom_margin=10mm,\n",
    "    left_margin=5mm,\n",
    "    frame=:box,\n",
    "    legendfontsize = 13,\n",
    "    widen = true,\n",
    "    legend = false,\n",
    "    fmt = :png\n",
    "    )\n",
    "\n",
    "p2= groupedbar(\n",
    "    DPs,\n",
    "    dt2,\n",
    "    xlabel=L\"|J|\",\n",
    "    #ylabel=L\"\\textrm{value~of}~\\hat{z}~\\textrm{on~average}\",\n",
    "    label=[policies[1] policies[2] policies[3]],\n",
    "    bar_position = :dodge,\n",
    "    bar_width=0.7,\n",
    "    color = [:black :red :blue],\n",
    "    leg=(0.11,0.94),\n",
    "    #leg = :topleft,\n",
    "    windowsize=(1000,550),\n",
    "    xtickfontsize = 12,\n",
    "    ytickfontsize = 12,\n",
    "    guidefont=font(25),\n",
    "    bottom_margin=10mm,\n",
    "    left_margin=5mm,\n",
    "    frame=:box,\n",
    "    legendfontsize = 16,\n",
    "    widen = true,\n",
    "    #legend = false,\n",
    "    fmt = :png\n",
    "    )\n",
    "p = plot(p1, p2, layout = (1, 2), windowsize=(1200,600))\n",
    "savefig(p, \"./plots/averages/p\"*rval*\".png\")"
   ]
  },
  {
   "cell_type": "code",
   "execution_count": 8,
   "id": "8e4aa1c0",
   "metadata": {},
   "outputs": [],
   "source": [
    "for r=2:length(rho)\n",
    "    rval = rho[r];\n",
    "    dt1 = cleandict[rval][\"SPs\"];\n",
    "    dt2 = cleandict[rval][\"DPs\"];\n",
    "\n",
    "    p1= groupedbar(\n",
    "        SPs,\n",
    "        dt1,\n",
    "        xlabel=L\"|I|\",\n",
    "        ylabel=L\"\\textrm{value~of}~\\hat{z}~\\textrm{on~average}\",\n",
    "        label=[policies[1] policies[2] policies[3]],\n",
    "        bar_position = :dodge,\n",
    "        bar_width=0.7,\n",
    "        color = [:black :red :blue],\n",
    "        leg=(0.1,0.95),\n",
    "        windowsize=(1000,550),\n",
    "        xtickfontsize = 12,\n",
    "        ytickfontsize = 12,\n",
    "        guidefont=font(25),\n",
    "        bottom_margin=10mm,\n",
    "        left_margin=5mm,\n",
    "        frame=:box,\n",
    "        legendfontsize = 13,\n",
    "        widen = true,\n",
    "        legend = false,\n",
    "        fmt = :png\n",
    "        )\n",
    "\n",
    "    p2= groupedbar(\n",
    "        DPs,\n",
    "        dt2,\n",
    "        xlabel=L\"|J|\",\n",
    "        #ylabel=L\"\\textrm{value~of}~\\hat{z}~\\textrm{on~average}\",\n",
    "        label=[policies[1] policies[2] policies[3]],\n",
    "        bar_position = :dodge,\n",
    "        bar_width=0.7,\n",
    "        color = [:black :red :blue],\n",
    "        leg=(0.1,0.95),\n",
    "        windowsize=(1000,550),\n",
    "        xtickfontsize = 12,\n",
    "        ytickfontsize = 12,\n",
    "        guidefont=font(25),\n",
    "        bottom_margin=10mm,\n",
    "        left_margin=5mm,\n",
    "        frame=:box,\n",
    "        legendfontsize = 13,\n",
    "        widen = true,\n",
    "        legend = false,\n",
    "        fmt = :png\n",
    "        )\n",
    "\n",
    "    p = plot(p1, p2, layout = (1, 2), windowsize=(1200,600), legend=false)\n",
    "    savefig(p, \"./plots/averages/p\"*rval*\".png\")\n",
    "end"
   ]
  },
  {
   "cell_type": "code",
   "execution_count": null,
   "id": "8b1ad309",
   "metadata": {},
   "outputs": [],
   "source": []
  },
  {
   "cell_type": "code",
   "execution_count": null,
   "id": "1b847ae7",
   "metadata": {},
   "outputs": [],
   "source": []
  }
 ],
 "metadata": {
  "kernelspec": {
   "display_name": "Julia 1.6.1",
   "language": "julia",
   "name": "julia-1.6"
  },
  "language_info": {
   "file_extension": ".jl",
   "mimetype": "application/julia",
   "name": "julia",
   "version": "1.6.1"
  }
 },
 "nbformat": 4,
 "nbformat_minor": 5
}
