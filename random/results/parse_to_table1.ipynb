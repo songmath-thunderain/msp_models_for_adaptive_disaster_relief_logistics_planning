{
 "cells": [
  {
   "cell_type": "code",
   "execution_count": 1,
   "id": "305b4494",
   "metadata": {},
   "outputs": [],
   "source": [
    "using CSV, DataFrames"
   ]
  },
  {
   "cell_type": "code",
   "execution_count": 2,
   "id": "3ab0a26f",
   "metadata": {},
   "outputs": [],
   "source": [
    "raw = CSV.read(\"data_to_convert_to_table1.csv\",DataFrame);\n",
    "data = Matrix(raw);"
   ]
  },
  {
   "cell_type": "code",
   "execution_count": 3,
   "id": "c5a8095b",
   "metadata": {},
   "outputs": [],
   "source": [
    "rho = [\"0.05\", \"0.5\", \"5\"];\n",
    "SPs = [\"3\", \"6\", \"9\"]\n",
    "DPs = [\"10\", \"20\", \"30\"];"
   ]
  },
  {
   "cell_type": "code",
   "execution_count": 4,
   "id": "49534352",
   "metadata": {},
   "outputs": [
    {
     "name": "stdout",
     "output_type": "stream",
     "text": [
      "0.05 & 3 $\\quad$       10 && 652.9 &578.1 && 674.5 &77.2 &32.1 &3.3\\%  \\\\ \n",
      "      &    $\\quad\\quad$ 20 && 1310.3 &1167.4 && 1353.5 &147.6 &36.4 &3.3\\%  \\\\ \n",
      "      &    $\\quad\\quad$ 30 && 1948.3 &1736.4 && 2012.4 &218.9 &39.2 &3.3\\%  \\\\ \n",
      "      & 6 $\\quad$       10 && 637.9 &564.7 && 651.7 &74.2 &43.0 &2.2\\%  \\\\ \n",
      "      &    $\\quad\\quad$ 20 && 1285.9 &1145.1 && 1319.2 &143.7 &66.6 &2.6\\%  \\\\ \n",
      "      &    $\\quad\\quad$ 30 && 1918.9 &1709.1 && 1974.2 &215.0 &65.2 &2.9\\%  \\\\ \n",
      "      & 9 $\\quad$       10 && 639.2 &565.9 && 651.5 &74.2 &49.8 &1.9\\%  \\\\ \n",
      "      &    $\\quad\\quad$ 20 && 1288.2 &1147.2 && 1318.8 &143.7 &64.9 &2.4\\%  \\\\ \n",
      "      &    $\\quad\\quad$ 30 && 1922.0 &1711.7 && 1973.4 &215.0 &63.2 &2.7\\%  \\\\ \n",
      " \\\\ \n",
      "0.5 & 3 $\\quad$       10 && 758.2 &668.9 && 1487.7 &179.2 &73.3 &96.2\\%  \\\\ \n",
      "      &    $\\quad\\quad$ 20 && 1516.3 &1348.8 && 2893.2 &336.7 &97.4 &90.8\\%  \\\\ \n",
      "      &    $\\quad\\quad$ 30 && 2226.1 &1982.8 && 4312.7 &502.4 &106.0 &93.7\\%  \\\\ \n",
      "      & 6 $\\quad$       10 && 739.0 &647.0 && 1446.2 &173.3 &115.1 &95.7\\%  \\\\ \n",
      "      &    $\\quad\\quad$ 20 && 1466.2 &1297.8 && 2833.2 &329.3 &139.2 &93.2\\%  \\\\ \n",
      "      &    $\\quad\\quad$ 30 && 2157.8 &1913.3 && 4231.4 &492.9 &153.3 &96.1\\%  \\\\ \n",
      "      & 9 $\\quad$       10 && 753.2 &658.7 && 1447.0 &173.9 &154.3 &92.1\\%  \\\\ \n",
      "      &    $\\quad\\quad$ 20 && 1486.5 &1313.5 && 2835.4 &329.7 &184.1 &90.7\\%  \\\\ \n",
      "      &    $\\quad\\quad$ 30 && 2180.7 &1930.2 && 4238.6 &494.2 &203.7 &94.4\\%  \\\\ \n",
      " \\\\ \n",
      "5 & 3 $\\quad$       10 && 1810.9 &1571.4 && 5342.2 &723.6 &50.6 &195.0\\%  \\\\ \n",
      "      &    $\\quad\\quad$ 20 && 3570.0 &3148.3 && 10486.7 &1230.9 &65.3 &193.7\\%  \\\\ \n",
      "      &    $\\quad\\quad$ 30 && 4996.1 &4428.5 && 15271.3 &1747.0 &72.0 &205.7\\%  \\\\ \n",
      "      & 6 $\\quad$       10 && 1678.2 &1400.0 && 5079.6 &702.0 &85.5 &202.7\\%  \\\\ \n",
      "      &    $\\quad\\quad$ 20 && 3179.4 &2738.8 && 9969.0 &1237.7 &76.4 &213.6\\%  \\\\ \n",
      "      &    $\\quad\\quad$ 30 && 4452.1 &3862.3 && 14666.6 &1724.9 &98.7 &229.4\\%  \\\\ \n",
      "      & 9 $\\quad$       10 && 1778.7 &1488.3 && 5135.0 &750.6 &150.1 &188.7\\%  \\\\ \n",
      "      &    $\\quad\\quad$ 20 && 3317.6 &2844.0 && 10002.3 &1258.8 &82.9 &201.5\\%  \\\\ \n",
      "      &    $\\quad\\quad$ 30 && 4590.7 &3958.1 && 14523.8 &1724.4 &130.2 &216.4\\%  \\\\ \n",
      " \\\\ \n"
     ]
    }
   ],
   "source": [
    "count = 0;\n",
    "\n",
    "df = DataFrame();\n",
    "\n",
    "for r in rho\n",
    "    for s in SPs\n",
    "        for d in DPs\n",
    "            count += 1\n",
    "            #first 3 terms\n",
    "            term1 = \"\"\n",
    "            if count in [1, 10, 19]\n",
    "                term1 *= \"$r & $s \\$\\\\quad\\$       $d && \"\n",
    "            elseif count in [4, 7, 13, 16, 22, 25]\n",
    "                term1 *= \"      & $s \\$\\\\quad\\$       $d && \"\n",
    "            else\n",
    "                term1 *= \"      &    \\$\\\\quad\\\\quad\\$ $d && \"\n",
    "            end\n",
    "            print(term1)\n",
    "            ccount = 0\n",
    "            temp = [];\n",
    "            for i=1:6\n",
    "                ccount += 1\n",
    "                if '%' ∉ data[count,i]\n",
    "                    if ccount < 6\n",
    "                        print(data[count,i], \" &\")\n",
    "                    else\n",
    "                        print(data[count,i], \" \")\n",
    "                    end\n",
    "                else\n",
    "                    if ccount < 6\n",
    "                        print(data[count,i][1:end-1]*\"\\\\%\", \" &\")\n",
    "                    else\n",
    "                        print(data[count,i][1:end-1]*\"\\\\%\", \" \")\n",
    "                    end                    \n",
    "                end\n",
    "                if ccount == 2\n",
    "                    print(\"& \")\n",
    "                else\n",
    "                    print(\"\")\n",
    "                end\n",
    "            end\n",
    "            print(\" \\\\\\\\\")\n",
    "            println(\" \")\n",
    "        end\n",
    "    end\n",
    "    print(\" \\\\\\\\\")\n",
    "    println(\" \")\n",
    "end"
   ]
  },
  {
   "cell_type": "code",
   "execution_count": null,
   "id": "24af3f44",
   "metadata": {},
   "outputs": [],
   "source": []
  }
 ],
 "metadata": {
  "kernelspec": {
   "display_name": "Julia 1.6.1",
   "language": "julia",
   "name": "julia-1.6"
  },
  "language_info": {
   "file_extension": ".jl",
   "mimetype": "application/julia",
   "name": "julia",
   "version": "1.6.1"
  }
 },
 "nbformat": 4,
 "nbformat_minor": 5
}
