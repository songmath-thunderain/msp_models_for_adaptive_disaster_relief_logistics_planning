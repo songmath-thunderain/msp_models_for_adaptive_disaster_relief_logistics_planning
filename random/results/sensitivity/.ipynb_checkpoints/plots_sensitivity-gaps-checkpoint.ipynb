{
 "cells": [
  {
   "cell_type": "code",
   "execution_count": 32,
   "id": "d68bc373",
   "metadata": {},
   "outputs": [],
   "source": [
    "using CSV, DataFrames, Plots, Plots.PlotMeasures, LaTeXStrings, XLSX#, GR"
   ]
  },
  {
   "cell_type": "code",
   "execution_count": 33,
   "id": "384cf6de",
   "metadata": {},
   "outputs": [],
   "source": [
    "xf = XLSX.readxlsx(\"./gaps_benchmark/all5.xlsx\")\n",
    "sh = xf[\"all\"] # get a reference to a Worksheet\n",
    "dt = sh[\"F1:I11\"];\n",
    "rhos = convert.(Float64,dt[2:size(dt)[1],1]);\n",
    "vals = convert.(Float64,dt[2:size(dt)[1],2:end]);\n",
    "policies = dt[1,2:end];\n",
    "policies = [\"FA-MSP\", \"RH-2SSP\", \"S-2SSP\"];"
   ]
  },
  {
   "cell_type": "code",
   "execution_count": 34,
   "id": "8fd862da",
   "metadata": {},
   "outputs": [
    {
     "data": {
      "text/plain": [
       "\"/Users/yongjis/Documents/GitHub/msp_models_for_adaptive_disaster_relief_logistics_planning/random/results/plots/sensitivity/gaps1.png\""
      ]
     },
     "execution_count": 34,
     "metadata": {},
     "output_type": "execute_result"
    }
   ],
   "source": [
    "#p = gr()\n",
    "p = plot(\n",
    "    rhos,\n",
    "    vals,\n",
    "    xlabel=L\"\\nu\",\n",
    "    ylabel= L\"\\textrm{gap}\",\n",
    "    yformatter=y->(string(floor(Int,y*100))*\"%\"),\n",
    "    label=[policies[1] policies[2] policies[3]],\n",
    "    lw=7,\n",
    "    linecolor = [:black :red :blue],\n",
    "    leg=(0.8,0.95),\n",
    "    windowsize=(900,600),\n",
    "    xtickfontsize = 11,\n",
    "    ytickfontsize = 11,\n",
    "    guidefont=font(30),\n",
    "    bottom_margin=10mm,\n",
    "    left_margin=10mm,\n",
    "    frame=:box,\n",
    "    legendfontsize = 14,\n",
    "    widen = true,\n",
    "    fmt = :png\n",
    "        )\n",
    "savefig(p, \"../plots/sensitivity/gaps5.png\")"
   ]
  },
  {
   "cell_type": "code",
   "execution_count": null,
   "id": "6277bee3",
   "metadata": {},
   "outputs": [],
   "source": []
  },
  {
   "cell_type": "code",
   "execution_count": 22,
   "id": "18d7e344",
   "metadata": {},
   "outputs": [
    {
     "name": "stdout",
     "output_type": "stream",
     "text": [
      "11 3 10 1.1 1000 65 100\n",
      "12 3 10 1.2 1000 65 100\n",
      "13 3 10 1.3 1000 65 100\n",
      "14 3 10 1.4 1000 65 100\n",
      "15 3 10 1.5 1000 65 100\n",
      "16 3 10 1.6 1000 65 100\n",
      "17 3 10 1.7 1000 65 100\n",
      "18 3 10 1.8 1000 65 100\n",
      "19 3 10 1.9 1000 65 100\n",
      "20 3 10 2.0 1000 65 100\n",
      "21 3 10 2.1 1000 65 100\n",
      "22 3 10 2.2 1000 65 100\n",
      "23 3 10 2.3 1000 65 100\n",
      "24 3 10 2.4 1000 65 100\n",
      "25 3 10 2.5 1000 65 100\n",
      "26 3 10 2.6 1000 65 100\n",
      "27 3 10 2.7 1000 65 100\n",
      "28 3 10 2.8 1000 65 100\n",
      "29 3 10 2.9 1000 65 100\n",
      "30 3 10 3.0 1000 65 100\n",
      "31 3 10 3.1 1000 65 100\n",
      "32 3 10 3.2 1000 65 100\n",
      "33 3 10 3.3 1000 65 100\n",
      "34 3 10 3.4 1000 65 100\n",
      "35 3 10 3.5 1000 65 100\n",
      "36 3 10 3.6 1000 65 100\n",
      "37 3 10 3.7 1000 65 100\n",
      "38 3 10 3.8 1000 65 100\n",
      "39 3 10 3.9 1000 65 100\n",
      "40 3 10 4.0 1000 65 100\n",
      "41 3 10 4.1 1000 65 100\n",
      "42 3 10 4.2 1000 65 100\n",
      "43 3 10 4.3 1000 65 100\n",
      "44 3 10 4.4 1000 65 100\n",
      "45 3 10 4.5 1000 65 100\n",
      "46 3 10 4.6 1000 65 100\n",
      "47 3 10 4.7 1000 65 100\n",
      "48 3 10 4.8 1000 65 100\n",
      "49 3 10 4.9 1000 65 100\n",
      "50 3 10 5.0 1000 65 100\n"
     ]
    }
   ],
   "source": [
    "inst = collect(1.1:0.1:5);\n",
    "count = 10\n",
    "for i=1:length(inst)\n",
    "    count +=1\n",
    "    println(\"$count 3 10 \", inst[i], \" 1000 65 100\")\n",
    "\n",
    "end"
   ]
  },
  {
   "cell_type": "code",
   "execution_count": 25,
   "id": "0310b6a8",
   "metadata": {},
   "outputs": [
    {
     "ename": "LoadError",
     "evalue": "MethodError: no method matching parse(::Type{Int64}, ::Float64)\n\u001b[0mClosest candidates are:\n\u001b[0m  parse(::Type{T}, \u001b[91m::AbstractChar\u001b[39m; base) where T<:Integer at parse.jl:40\n\u001b[0m  parse(::Type{T}, \u001b[91m::AbstractString\u001b[39m; base) where T<:Integer at parse.jl:240\n\u001b[0m  parse(::Type{T}, \u001b[91m::AbstractString\u001b[39m; kwargs...) where T<:Real at parse.jl:379",
     "output_type": "error",
     "traceback": [
      "MethodError: no method matching parse(::Type{Int64}, ::Float64)\n\u001b[0mClosest candidates are:\n\u001b[0m  parse(::Type{T}, \u001b[91m::AbstractChar\u001b[39m; base) where T<:Integer at parse.jl:40\n\u001b[0m  parse(::Type{T}, \u001b[91m::AbstractString\u001b[39m; base) where T<:Integer at parse.jl:240\n\u001b[0m  parse(::Type{T}, \u001b[91m::AbstractString\u001b[39m; kwargs...) where T<:Real at parse.jl:379",
      "",
      "Stacktrace:",
      " [1] top-level scope",
      "   @ In[25]:2",
      " [2] eval",
      "   @ ./boot.jl:360 [inlined]",
      " [3] include_string(mapexpr::typeof(REPL.softscope), mod::Module, code::String, filename::String)",
      "   @ Base ./loading.jl:1116"
     ]
    }
   ],
   "source": []
  },
  {
   "cell_type": "code",
   "execution_count": null,
   "id": "9d4ce143",
   "metadata": {},
   "outputs": [],
   "source": []
  }
 ],
 "metadata": {
  "kernelspec": {
   "display_name": "Julia 1.6.2",
   "language": "julia",
   "name": "julia-1.6"
  },
  "language_info": {
   "file_extension": ".jl",
   "mimetype": "application/julia",
   "name": "julia",
   "version": "1.6.2"
  }
 },
 "nbformat": 4,
 "nbformat_minor": 5
}
